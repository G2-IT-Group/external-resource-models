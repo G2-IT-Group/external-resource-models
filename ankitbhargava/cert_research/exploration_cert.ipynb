{
 "cells": [
  {
   "cell_type": "markdown",
   "metadata": {},
   "source": [
    "# Certificate Characteristics\n",
    "\n",
    "#### Determining maliciousness from web certificates proved very useful with other intern models reaching 88% accuracy.  While those schemes were based on the presence or absence of data, this document strived to pull more information from the original feature set.  Unfortunately, this didn't yield impressive results and was actually less effective than the more rudimentary techniques\n",
    "\n",
    "#### ** Look for places to load in serialized data as it will save a significant amount of time\n",
    "\n",
    "### Parse Data"
   ]
  },
  {
   "cell_type": "code",
   "execution_count": 1,
   "metadata": {},
   "outputs": [],
   "source": [
    "import json\n",
    "import time\n",
    "import random\n",
    "import re\n",
    "import os\n",
    "import pickle\n",
    "import datetime\n",
    "import operator\n",
    "\n",
    "import numpy as np\n",
    "import pandas as pd\n",
    "from pprint import pprint\n",
    "from collections import defaultdict\n",
    "from scipy.stats import chisquare\n",
    "import multiprocessing as mp\n",
    "import matplotlib.pyplot as plt\n",
    "\n",
    "from sklearn.linear_model import LogisticRegression\n",
    "from sklearn.model_selection import train_test_split\n",
    "from sklearn.ensemble import RandomForestClassifier\n",
    "from sklearn.metrics import confusion_matrix\n",
    "from sklearn.metrics import classification_report\n",
    "from sklearn.metrics import roc_curve, auc\n",
    "from sklearn.neural_network import MLPClassifier\n",
    "from sklearn.feature_selection import chi2"
   ]
  },
  {
   "cell_type": "markdown",
   "metadata": {},
   "source": [
    "#### Create dataframe from scratch"
   ]
  },
  {
   "cell_type": "code",
   "execution_count": null,
   "metadata": {},
   "outputs": [],
   "source": [
    "## Enumerate all files with pertinent data\n",
    "everyFile=[]\n",
    "tmp=os.listdir('/data/data/')\n",
    "tmp.remove('newbenigndata')\n",
    "for x in tmp:\n",
    "    try:\n",
    "        folder='/data/data/'+x+'/enrichment/cert_info/'\n",
    "        for y in os.listdir(folder):\n",
    "            if (len(y) > 15):\n",
    "                everyFile.append(folder+y)\n",
    "    except:\n",
    "        continue\n",
    "        \n",
    "print(len(everyFile))\n",
    "        \n",
    "for x in os.listdir('/data/data/newNONTORbenigndata/enrichment/cert_info/'):\n",
    "        everyFile.append('/data/data/newNONTORbenigndata/enrichment/cert_info/'+x)\n",
    "\n",
    "print(len(everyFile))"
   ]
  },
  {
   "cell_type": "markdown",
   "metadata": {},
   "source": [
    "#### Update existing dataframe with a new files"
   ]
  },
  {
   "cell_type": "code",
   "execution_count": null,
   "metadata": {},
   "outputs": [],
   "source": [
    "everyFile=[]\n",
    "tmp=os.listdir('/data/data/')\n",
    "for x in tmp[-10:-3]:\n",
    "    try:\n",
    "        folder='/data/data/'+x+'/enrichment/cert_info/'\n",
    "        for y in os.listdir(folder):\n",
    "            everyFile.append(folder+y)\n",
    "    except:\n",
    "        continue"
   ]
  },
  {
   "cell_type": "markdown",
   "metadata": {},
   "source": [
    "#### Iterate over files to parse data"
   ]
  },
  {
   "cell_type": "code",
   "execution_count": null,
   "metadata": {
    "scrolled": false
   },
   "outputs": [],
   "source": [
    "df_cols=['benign', 'indicator', 'error_type', 'cert_validation', 'success', \n",
    "         'authorityInfoAccess', 'basicConstraints', 'certificatePolicies',\n",
    "         'has_expired', 'notAfter', 'notBefore']\n",
    "\n",
    "col_check=set(df_cols)\n",
    "error_types=defaultdict(int)\n",
    "validation_types=defaultdict(int)\n",
    "usage_types=defaultdict(int)\n",
    "issuers=defaultdict(int)\n",
    "ctr=0\n",
    "lamow=[]\n",
    "for x in everyFile:\n",
    "    ctr+=1\n",
    "    if (ctr % 170 == 0):\n",
    "        print(ctr/340,'%')\n",
    "    try:\n",
    "        book=json.load(open(x))['data']\n",
    "        for cert_dict in book:\n",
    "            df=pd.DataFrame(columns=df_cols)\n",
    "            df['benign']=[len(x)-x.rfind('/')<15]\n",
    "            infoString=None  \n",
    "            if (cert_dict.get('cert_info') == None):\n",
    "                infoString='certificate_info'\n",
    "            else:\n",
    "                infoString='cert_info'\n",
    "                \n",
    "            if (type(cert_dict[infoString]) != dict):\n",
    "                df['indicator']=[cert_dict['indicator']]\n",
    "                df['success']=[cert_dict['success']]\n",
    "                #try:\n",
    "                    #df['error_type']=re.findall(\"\\[.*\\]\",cert_dict[infoString])[0]\n",
    "                #except Exception as s:\n",
    "                df['error_type']=[cert_dict[infoString]]\n",
    "                \n",
    "                error_types[df['error_type'][0]]+=1\n",
    "\n",
    "            else:\n",
    "                df['indicator']=[cert_dict['indicator']]\n",
    "                df['success']=[cert_dict['success']]\n",
    "                df['cert_validation'] = [cert_dict.get('cert_validation')]\n",
    "                \n",
    "                #try:\n",
    "                    #validation_types[re.findall(\"\\[.*\\]\",cert_dict.get('cert_validation'))[0]]+=1\n",
    "                #except:\n",
    "                validation_types[df['cert_validation'][0]]+=1\n",
    "                    \n",
    "                if (cert_dict[infoString].get('subject') != None):\n",
    "                    alpha=cert_dict[infoString]['subject'].get('CN',' ')+cert_dict[infoString].get('subjectAltName','')\n",
    "                    df['subject_len']=len(cert_dict[infoString]['subject'])\n",
    "                    df['subject_match'] = [alpha.find(cert_dict['indicator']) != -1]\n",
    "                    df['alt_subjects'] = [alpha.count(',')]\n",
    "                    \n",
    "                df['issuer']=cert_dict[infoString].get('issuer',{}).get('CN')\n",
    "                df['issuer_len']=len(cert_dict[infoString].get('issuer',{}))\n",
    "                issuers[df['issuer'][0] or '']+=1\n",
    "                df['keyUsage']=[cert_dict[infoString].get('keyUsage','').split(',')]\n",
    "                df['extendedKeyUsage']=[cert_dict[infoString].get('extendedKeyUsage','').split(',')]\n",
    "                for yy in df['keyUsage'][0]:\n",
    "                    usage_types[yy]+=1\n",
    "                \n",
    "                for q in cert_dict[infoString]:\n",
    "                    if (q in col_check):\n",
    "                        df[q]=[cert_dict[infoString][q]]\n",
    "                        \n",
    "            lamow.append(df)\n",
    "    except Exception as e:\n",
    "        #print(e)\n",
    "        continue\n",
    "        "
   ]
  },
  {
   "cell_type": "code",
   "execution_count": null,
   "metadata": {},
   "outputs": [],
   "source": [
    "df=pd.concat(lamow,axis=0)\n",
    "del lamow\n",
    "def convertToDt(date_string):\n",
    "    try:\n",
    "        if (type(date_string) != float):\n",
    "            return datetime.datetime.strptime(date_string,'%Y/%m/%d %H:%M.%S')\n",
    "        else:\n",
    "            return None\n",
    "    except Exception as e:\n",
    "        print(date_string)\n",
    "        print(e)\n",
    "        \n",
    "df['notAfter']=df['notAfter'].apply(convertToDt)\n",
    "df['notBefore']=df['notBefore'].apply(convertToDt)\n",
    "df.reset_index(drop=True,inplace=True)"
   ]
  },
  {
   "cell_type": "code",
   "execution_count": null,
   "metadata": {
    "scrolled": true
   },
   "outputs": [],
   "source": [
    "## Many duplicate entries due to errors in collection script\n",
    "\n",
    "df=df.drop_duplicates(subset=df.columns.difference(['keyUsage','extendedKeyUsage']))\n",
    "df.reset_index(drop=True,inplace=True)"
   ]
  },
  {
   "cell_type": "markdown",
   "metadata": {},
   "source": [
    "## Load saved dataframe"
   ]
  },
  {
   "cell_type": "code",
   "execution_count": 2,
   "metadata": {},
   "outputs": [],
   "source": [
    "df=pd.concat([pickle.load(open('cert_info_full1.pickle','rb')),pickle.load(open('cert_info_full2.pickle','rb')),\n",
    "              pickle.load(open('cert_info_full3.pickle','rb'))],axis=0)\n",
    "\n",
    "df=df.drop_duplicates(subset=df.columns.difference(['keyUsage','extendedKeyUsage']))\n",
    "df.reset_index(drop=True,inplace=True)"
   ]
  },
  {
   "cell_type": "code",
   "execution_count": 15,
   "metadata": {},
   "outputs": [],
   "source": [
    "df=pickle.load(open('cert_info.pickle','rb'))\n",
    "df_temp=pickle.load(open('cert_info_newbenign.pickle','rb'))\n",
    "df_temp['benign']=True\n",
    "df=pd.concat([df,df_temp],axis=0)\n",
    "\n",
    "df=df.drop_duplicates(subset=df.columns.difference(['keyUsage','extendedKeyUsage']))\n",
    "df.reset_index(drop=True,inplace=True)"
   ]
  },
  {
   "cell_type": "code",
   "execution_count": null,
   "metadata": {},
   "outputs": [],
   "source": [
    "df=df[df.error_type.apply(lambda x: type(x) == float)]\n",
    "df['benign'].value_counts()"
   ]
  },
  {
   "cell_type": "code",
   "execution_count": null,
   "metadata": {},
   "outputs": [],
   "source": [
    "df=df[df.error_type.apply(lambda x: type(x) == float)]\n",
    "df"
   ]
  },
  {
   "cell_type": "code",
   "execution_count": 17,
   "metadata": {},
   "outputs": [
    {
     "data": {
      "text/plain": [
       "432804"
      ]
     },
     "execution_count": 17,
     "metadata": {},
     "output_type": "execute_result"
    }
   ],
   "source": [
    "len(df[df['benign'] == False]['error_type'])"
   ]
  },
  {
   "cell_type": "code",
   "execution_count": 19,
   "metadata": {},
   "outputs": [
    {
     "data": {
      "text/plain": [
       "64286"
      ]
     },
     "execution_count": 19,
     "metadata": {},
     "output_type": "execute_result"
    }
   ],
   "source": [
    "sum(df[df['benign'] == False]['error_type'].isna())"
   ]
  },
  {
   "cell_type": "markdown",
   "metadata": {},
   "source": [
    "## Augment Features"
   ]
  },
  {
   "cell_type": "code",
   "execution_count": null,
   "metadata": {},
   "outputs": [],
   "source": [
    "usage_types=pickle.load(open('usage_types.pickle','rb'))\n",
    "usage_types={x.strip() for x in usage_types.keys()}"
   ]
  },
  {
   "cell_type": "markdown",
   "metadata": {},
   "source": [
    "#### Add one-hot encodings for issuers and usage types"
   ]
  },
  {
   "cell_type": "code",
   "execution_count": null,
   "metadata": {},
   "outputs": [],
   "source": [
    "for x in usage_types:\n",
    "    df.insert(loc=16,column=x,value=np.zeros(shape=[len(df)],dtype=bool))\n",
    "    \n",
    "df.drop(columns='',inplace=True)\n",
    "df.reset_index(drop=True,inplace=True)"
   ]
  },
  {
   "cell_type": "code",
   "execution_count": null,
   "metadata": {},
   "outputs": [],
   "source": [
    "for x in sorted_all:\n",
    "    df.insert(loc=23,column=x,value=np.zeros(shape=[len(df)],dtype=bool))\n",
    "    \n",
    "df.insert(loc=35,column='valid_duration',value=np.zeros(shape=[len(df)]))\n",
    "\n",
    "for x in error_codes:\n",
    "    df.insert(loc=35,column=x,value=np.zeros(shape=[len(df)],dtype=bool))"
   ]
  },
  {
   "cell_type": "code",
   "execution_count": null,
   "metadata": {},
   "outputs": [],
   "source": [
    "#for i in range(0, len(df)):\n",
    "#    if (type(df.loc[i,'keyUsage']) == list):\n",
    "#        for x in df.loc[i,'keyUsage']:\n",
    "#            df.loc[i,x.strip()]=True\n",
    "df"
   ]
  },
  {
   "cell_type": "code",
   "execution_count": null,
   "metadata": {},
   "outputs": [],
   "source": [
    "def oneHotUsageIssue(row):\n",
    "    global df\n",
    "    if (type(df.loc[row,'keyUsage']) == list):\n",
    "        for x in df.loc[row,'keyUsage']:\n",
    "            df.loc[row,x.strip()]=True\n",
    "            \n",
    "    if (not pd.isnull(df.loc[row,'issuer'])):\n",
    "        issr=df.loc[row,'issuer']\n",
    "        if issr[0:issr.find(' ')] in sorted_all:\n",
    "            df.loc[row,issr[0:issr.find(' ')]]=True\n",
    "            \n",
    "    if (not pd.isnull(df.loc[row,'notBefore']) and type(df.loc[row,'notAfter']) != float):\n",
    "        try:\n",
    "            df.loc[row,'valid_duration']=(df.loc[row,'notAfter']-df.loc[row,'notBefore']).days\n",
    "        except Exception as e:\n",
    "            print(e)\n",
    "            \n",
    "    if (type(df.loc[row,'cert_validation']) == str):\n",
    "        if (df.loc[row,'cert_validation'] in error_codes):\n",
    "            df.loc[row,df.loc[row,'cert_validation']]=True\n",
    "            \n",
    "    return df.loc[row]\n",
    "\n",
    "results=[]\n",
    "pool = mp.Pool(mp.cpu_count()*2)\n",
    "results = pool.map_async(oneHotUsageIssue, [x for x in range(0,len(df))])\n",
    "pool.close()"
   ]
  },
  {
   "cell_type": "markdown",
   "metadata": {},
   "source": [
    "#### Save augmented feature dataframe"
   ]
  },
  {
   "cell_type": "code",
   "execution_count": null,
   "metadata": {
    "scrolled": true
   },
   "outputs": [],
   "source": [
    "while(True):\n",
    "    try:\n",
    "        df=pd.DataFrame(results.get(0))\n",
    "        break\n",
    "    except:\n",
    "        continue\n",
    "        \n",
    "with open('thistookalldaymajordeath.pickle','wb') as output:\n",
    "    pickle.dump(df,output,pickle.HIGHEST_PROTOCOL)"
   ]
  },
  {
   "cell_type": "markdown",
   "metadata": {},
   "source": [
    "### Load Augmented feature dataframe"
   ]
  },
  {
   "cell_type": "code",
   "execution_count": 3,
   "metadata": {},
   "outputs": [
    {
     "data": {
      "text/plain": [
       "True     853917\n",
       "False     64286\n",
       "Name: benign, dtype: int64"
      ]
     },
     "execution_count": 3,
     "metadata": {},
     "output_type": "execute_result"
    }
   ],
   "source": [
    "df=pickle.load(open('thistookalldaymajordeath.pickle','rb'))\n",
    "df=df[df.error_type.apply(lambda x: type(x) == float)]\n",
    "df['benign'].value_counts()"
   ]
  },
  {
   "cell_type": "code",
   "execution_count": null,
   "metadata": {},
   "outputs": [],
   "source": [
    "#temp_df=pd.DataFrame(np.zeros(shape=[len(df),1]),columns=['valid_duration'])"
   ]
  },
  {
   "cell_type": "code",
   "execution_count": null,
   "metadata": {},
   "outputs": [],
   "source": [
    "#for i in range(0, len(df)):\n",
    " #   if (not pd.isnull(df.loc[i,'notBefore']) and type(df.loc[i,'notAfter']) != float):\n",
    "  #      try:\n",
    "   #         temp_df.loc[i,'valid_duration']=(df.loc[i,'notAfter']-df.loc[i,'notBefore']).days\n",
    "    #    except:\n",
    "     #       continue\n",
    "\n",
    "#df=pd.concat([df,temp_df],axis=1)"
   ]
  },
  {
   "cell_type": "code",
   "execution_count": null,
   "metadata": {
    "scrolled": true
   },
   "outputs": [],
   "source": [
    "df[df.columns.difference(['authorityInfoAccess','basicConstraints','indicator',\n",
    "                          'notAfter','notBefore','certificatePolicies','error_type','extendedKeyUsage',\n",
    "                         'issuer','keyUsage','cert_validation',''])]"
   ]
  },
  {
   "cell_type": "markdown",
   "metadata": {},
   "source": [
    "#### Clean dataframe"
   ]
  },
  {
   "cell_type": "code",
   "execution_count": 4,
   "metadata": {},
   "outputs": [],
   "source": [
    "def replaceTFNan(val):\n",
    "    if (pd.isnull(val)):\n",
    "        return 0\n",
    "    elif (val == False):\n",
    "        return 1\n",
    "    else:\n",
    "        return 2\n",
    "          \n",
    "\n",
    "df['has_expired']=df['has_expired'].apply(replaceTFNan)\n",
    "df['subject_match']=df['subject_match'].apply(replaceTFNan)\n",
    "\n",
    "def replaceCertVal(val):\n",
    "    if (pd.isnull(val)):\n",
    "        return 0\n",
    "    elif (val == True):\n",
    "        return 1\n",
    "    elif (type(val) == str):\n",
    "        return 2\n",
    "\n",
    "df['cert_validation']=df['cert_validation'].apply(replaceCertVal)"
   ]
  },
  {
   "cell_type": "code",
   "execution_count": null,
   "metadata": {},
   "outputs": [],
   "source": [
    "#general_issuers=list(general_issuers.keys())\n",
    "\n",
    "#def replaceIssuer(val):\n",
    "#    if (type(val) == float):\n",
    "#        return None\n",
    "#    elif (type(val) == str):\n",
    "#        try:\n",
    "#            return general_issuers.index(val)\n",
    "#        except:\n",
    "#            return len(general_issuers)\n",
    "\n",
    "#df['issuer']=df['issuer'].apply(replaceIssuer)"
   ]
  },
  {
   "cell_type": "code",
   "execution_count": null,
   "metadata": {},
   "outputs": [],
   "source": [
    "general_issuers=defaultdict(int)\n",
    "\n",
    "for x in issuers:\n",
    "    if issuers[x] != 1:\n",
    "        general_issuers[x.split(' ')[0]]+= issuers[x]\n",
    "        \n",
    "pprint(general_issuers)"
   ]
  },
  {
   "cell_type": "code",
   "execution_count": null,
   "metadata": {},
   "outputs": [],
   "source": [
    "#with open('cert_info_full_all.pickle', 'wb') as output:  # Overwrites any existing file.\n",
    "#    pickle.dump(df, output, pickle.HIGHEST_PROTOCOL)"
   ]
  },
  {
   "cell_type": "code",
   "execution_count": null,
   "metadata": {},
   "outputs": [],
   "source": [
    "#with open('error_types.pickle', 'wb') as output:  # Overwrites any existing file.\n",
    "#    pickle.dump(error_types, output, pickle.HIGHEST_PROTOCOL)\n",
    "    \n",
    "#with open('validation_types.pickle', 'wb') as output:  # Overwrites any existing file.\n",
    "#    pickle.dump(validation_types, output, pickle.HIGHEST_PROTOCOL)\n",
    "    \n",
    "#with open('usage_types.pickle', 'wb') as output:  # Overwrites any existing file.\n",
    "#    pickle.dump(usage_types, output, pickle.HIGHEST_PROTOCOL)"
   ]
  },
  {
   "cell_type": "markdown",
   "metadata": {},
   "source": [
    "# Compare classifiers"
   ]
  },
  {
   "cell_type": "code",
   "execution_count": null,
   "metadata": {},
   "outputs": [],
   "source": [
    "df.columns"
   ]
  },
  {
   "cell_type": "code",
   "execution_count": null,
   "metadata": {
    "scrolled": true
   },
   "outputs": [],
   "source": [
    "ad=df[df.columns.difference(['authorityInfoAccess','basicConstraints','indicator',\n",
    "                          'notAfter','notBefore','certificatePolicies','error_type','extendedKeyUsage',\n",
    "                         'issuer','keyUsage',''])][df.error_type.apply(lambda x: type(x) == float)]"
   ]
  },
  {
   "cell_type": "code",
   "execution_count": 5,
   "metadata": {},
   "outputs": [],
   "source": [
    "ad=df[df.columns.difference(['authorityInfoAccess','basicConstraints','indicator',\n",
    "                          'notAfter','notBefore','certificatePolicies','error_type','extendedKeyUsage',\n",
    "                         'issuer','keyUsage',''])][df.error_type.apply(lambda x: type(x) == float)]\n",
    "bd=ad[ad.benign == True]\n",
    "md=ad[ad.benign == False]\n",
    "bd=bd.sample(frac=1).reset_index(drop=True)\n",
    "bd=bd[0:len(md)]\n",
    "ad=pd.concat([md,bd], axis = 0)\n",
    "ad=ad.sample(frac=1).reset_index(drop=True)"
   ]
  },
  {
   "cell_type": "code",
   "execution_count": 6,
   "metadata": {},
   "outputs": [],
   "source": [
    "X_t, X_v, y_t, y_v = train_test_split(ad.drop(columns=['benign']).fillna(0),ad['benign'],test_size=.25)"
   ]
  },
  {
   "cell_type": "code",
   "execution_count": 8,
   "metadata": {
    "scrolled": true
   },
   "outputs": [
    {
     "data": {
      "text/plain": [
       "Index(['Amazo', 'CERT MISMATCH', 'COMODO', 'CRL Sign', 'Certificate Sign',\n",
       "       'CloudFlare', 'Data Encipherment', 'Decipher Only', 'DigiCert',\n",
       "       'Digital Signature', 'Encipher Only', 'GlobalSign', 'Go',\n",
       "       'Key Agreement', 'Key Encipherment', 'Let's', 'Non Repudiation',\n",
       "       'RapidSSL', 'Sectigo',\n",
       "       '[SSL: CERTIFICATE_VERIFY_FAILED] certificate verify failed: certificate has expired (_ssl.c:1056)',\n",
       "       '[SSL: CERTIFICATE_VERIFY_FAILED] certificate verify failed: self signed certificate (_ssl.c:1056)',\n",
       "       '[SSL: CERTIFICATE_VERIFY_FAILED] certificate verify failed: self signed certificate in certificate chain (_ssl.c:1056)',\n",
       "       '[SSL: CERTIFICATE_VERIFY_FAILED] certificate verify failed: unable to get local issuer certificate (_ssl.c:1056)',\n",
       "       '_ssl.c:1039: The handshake operation timed out', 'alt_subjects',\n",
       "       'cPanel,', 'cert_validation', 'has_expired', 'issuer_len',\n",
       "       'subject_len', 'subject_match', 'success', 'valid_duration'],\n",
       "      dtype='object')"
      ]
     },
     "execution_count": 8,
     "metadata": {},
     "output_type": "execute_result"
    }
   ],
   "source": [
    "X_v.columns"
   ]
  },
  {
   "cell_type": "code",
   "execution_count": 9,
   "metadata": {},
   "outputs": [
    {
     "name": "stdout",
     "output_type": "stream",
     "text": [
      "False    95164\n",
      "True      1265\n",
      "Name: Amazo, dtype: int64\n",
      "False    96429\n",
      "Name: CERT MISMATCH, dtype: int64\n",
      "False    84734\n",
      "True     11695\n",
      "Name: COMODO, dtype: int64\n",
      "False    96227\n",
      "True       202\n",
      "Name: CRL Sign, dtype: int64\n",
      "False    96127\n",
      "True       302\n",
      "Name: Certificate Sign, dtype: int64\n",
      "False    91950\n",
      "True      4479\n",
      "Name: CloudFlare, dtype: int64\n",
      "False    95751\n",
      "True       678\n",
      "Name: Data Encipherment, dtype: int64\n",
      "False    96427\n",
      "True         2\n",
      "Name: Decipher Only, dtype: int64\n",
      "False    93957\n",
      "True      2472\n",
      "Name: DigiCert, dtype: int64\n",
      "True     76623\n",
      "False    19806\n",
      "Name: Digital Signature, dtype: int64\n",
      "False    96426\n",
      "True         3\n",
      "Name: Encipher Only, dtype: int64\n",
      "False    95169\n",
      "True      1260\n",
      "Name: GlobalSign, dtype: int64\n",
      "False    93721\n",
      "True      2708\n",
      "Name: Go, dtype: int64\n",
      "False    96294\n",
      "True       135\n",
      "Name: Key Agreement, dtype: int64\n",
      "True     66733\n",
      "False    29696\n",
      "Name: Key Encipherment, dtype: int64\n",
      "False    68054\n",
      "True     28375\n",
      "Name: Let's, dtype: int64\n",
      "False    95106\n",
      "True      1323\n",
      "Name: Non Repudiation, dtype: int64\n",
      "False    93337\n",
      "True      3092\n",
      "Name: RapidSSL, dtype: int64\n",
      "False    93646\n",
      "True      2783\n",
      "Name: Sectigo, dtype: int64\n",
      "False    95659\n",
      "True       770\n",
      "Name: [SSL: CERTIFICATE_VERIFY_FAILED] certificate verify failed: certificate has expired (_ssl.c:1056), dtype: int64\n",
      "False    85979\n",
      "True     10450\n",
      "Name: [SSL: CERTIFICATE_VERIFY_FAILED] certificate verify failed: self signed certificate (_ssl.c:1056), dtype: int64\n",
      "False    95141\n",
      "True      1288\n",
      "Name: [SSL: CERTIFICATE_VERIFY_FAILED] certificate verify failed: self signed certificate in certificate chain (_ssl.c:1056), dtype: int64\n",
      "False    85068\n",
      "True     11361\n",
      "Name: [SSL: CERTIFICATE_VERIFY_FAILED] certificate verify failed: unable to get local issuer certificate (_ssl.c:1056), dtype: int64\n",
      "False    95926\n",
      "True       503\n",
      "Name: _ssl.c:1039: The handshake operation timed out, dtype: int64\n",
      "1.0      37322\n",
      "0.0      28891\n",
      "2.0       7360\n",
      "5.0       5823\n",
      "6.0       2938\n",
      "3.0       1509\n",
      "52.0      1487\n",
      "7.0       1067\n",
      "4.0        998\n",
      "8.0        890\n",
      "9.0        507\n",
      "50.0       333\n",
      "32.0       325\n",
      "15.0       288\n",
      "34.0       267\n",
      "17.0       225\n",
      "10.0       221\n",
      "23.0       208\n",
      "99.0       206\n",
      "30.0       200\n",
      "36.0       187\n",
      "11.0       184\n",
      "62.0       184\n",
      "38.0       180\n",
      "46.0       172\n",
      "54.0       172\n",
      "44.0       170\n",
      "12.0       165\n",
      "48.0       156\n",
      "40.0       156\n",
      "         ...  \n",
      "999.0        1\n",
      "174.0        1\n",
      "121.0        1\n",
      "123.0        1\n",
      "496.0        1\n",
      "239.0        1\n",
      "136.0        1\n",
      "118.0        1\n",
      "339.0        1\n",
      "125.0        1\n",
      "129.0        1\n",
      "262.0        1\n",
      "210.0        1\n",
      "182.0        1\n",
      "178.0        1\n",
      "164.0        1\n",
      "127.0        1\n",
      "113.0        1\n",
      "391.0        1\n",
      "205.0        1\n",
      "320.0        1\n",
      "922.0        1\n",
      "214.0        1\n",
      "209.0        1\n",
      "147.0        1\n",
      "397.0        1\n",
      "225.0        1\n",
      "132.0        1\n",
      "195.0        1\n",
      "208.0        1\n",
      "Name: alt_subjects, Length: 185, dtype: int64\n",
      "False    89400\n",
      "True      7029\n",
      "Name: cPanel,, dtype: int64\n",
      "1    52152\n",
      "2    42129\n",
      "0     2148\n",
      "Name: cert_validation, dtype: int64\n",
      "1    89232\n",
      "2     7197\n",
      "Name: has_expired, dtype: int64\n",
      "3.0    36237\n",
      "5.0    28183\n",
      "1.0    10726\n",
      "4.0     9824\n",
      "6.0     6089\n",
      "7.0     4636\n",
      "2.0      667\n",
      "8.0       65\n",
      "0.0        2\n",
      "Name: issuer_len, dtype: int64\n",
      "1.0     51318\n",
      "2.0     21456\n",
      "5.0     10357\n",
      "7.0      4683\n",
      "6.0      3404\n",
      "4.0      1918\n",
      "3.0      1232\n",
      "8.0      1000\n",
      "9.0       590\n",
      "10.0      184\n",
      "11.0      163\n",
      "12.0       67\n",
      "13.0       52\n",
      "0.0         3\n",
      "14.0        2\n",
      "Name: subject_len, dtype: int64\n",
      "2    52368\n",
      "1    44061\n",
      "Name: subject_match, dtype: int64\n",
      "True     96389\n",
      "False       40\n",
      "Name: success, dtype: int64\n",
      "90.0       36105\n",
      "365.0      14540\n",
      "190.0       4129\n",
      "730.0       3609\n",
      "3650.0      3321\n",
      "366.0       2886\n",
      "731.0       1790\n",
      "1095.0      1199\n",
      "1097.0      1113\n",
      "395.0       1006\n",
      "83.0         882\n",
      "9999.0       749\n",
      "396.0        680\n",
      "425.0        631\n",
      "7300.0       527\n",
      "1825.0       374\n",
      "1826.0       370\n",
      "790.0        358\n",
      "10957.0      342\n",
      "1096.0       330\n",
      "456.0        321\n",
      "3652.0       319\n",
      "455.0        304\n",
      "397.0        303\n",
      "760.0        295\n",
      "180.0        291\n",
      "735.0        275\n",
      "36500.0      268\n",
      "24855.0      263\n",
      "364.0        242\n",
      "           ...  \n",
      "509.0          1\n",
      "7498.0         1\n",
      "8851.0         1\n",
      "937.0          1\n",
      "7274.0         1\n",
      "7519.0         1\n",
      "13966.0        1\n",
      "7538.0         1\n",
      "7534.0         1\n",
      "7994.0         1\n",
      "617.0          1\n",
      "6500.0         1\n",
      "874.0          1\n",
      "7997.0         1\n",
      "2463.0         1\n",
      "915.0          1\n",
      "7535.0         1\n",
      "9854.0         1\n",
      "6509.0         1\n",
      "6982.0         1\n",
      "9855.0         1\n",
      "8916.0         1\n",
      "8001.0         1\n",
      "10959.0        1\n",
      "6600.0         1\n",
      "6978.0         1\n",
      "7251.0         1\n",
      "8004.0         1\n",
      "8898.0         1\n",
      "7998.0         1\n",
      "Name: valid_duration, Length: 1693, dtype: int64\n"
     ]
    }
   ],
   "source": [
    "for x in X_t.columns:\n",
    "    print(X_t[x].value_counts())"
   ]
  },
  {
   "cell_type": "code",
   "execution_count": null,
   "metadata": {},
   "outputs": [],
   "source": [
    "y_t.value_counts()"
   ]
  },
  {
   "cell_type": "code",
   "execution_count": 12,
   "metadata": {
    "scrolled": true
   },
   "outputs": [
    {
     "name": "stdout",
     "output_type": "stream",
     "text": [
      "Iteration 1, loss = inf\n",
      "Iteration 2, loss = inf\n",
      "Iteration 3, loss = inf\n",
      "Iteration 4, loss = inf\n",
      "Iteration 5, loss = inf\n",
      "Iteration 6, loss = inf\n",
      "Iteration 7, loss = inf\n",
      "Iteration 8, loss = inf\n",
      "Iteration 9, loss = inf\n",
      "Iteration 10, loss = inf\n",
      "Iteration 11, loss = inf\n",
      "Iteration 12, loss = inf\n",
      "Iteration 13, loss = inf\n",
      "Iteration 14, loss = inf\n",
      "Iteration 15, loss = inf\n",
      "Iteration 16, loss = inf\n",
      "Iteration 17, loss = inf\n",
      "Iteration 18, loss = inf\n",
      "Iteration 19, loss = inf\n",
      "Iteration 20, loss = 0.47246713\n",
      "Iteration 21, loss = inf\n",
      "Iteration 22, loss = 0.44987092\n",
      "Iteration 23, loss = inf\n",
      "Iteration 24, loss = inf\n",
      "Iteration 25, loss = inf\n",
      "Iteration 26, loss = 0.45821275\n",
      "Iteration 27, loss = inf\n",
      "Iteration 28, loss = inf\n",
      "Iteration 29, loss = 0.51532689\n",
      "Iteration 30, loss = inf\n",
      "Iteration 31, loss = 0.47749447\n",
      "Iteration 32, loss = 0.45452640\n",
      "Iteration 33, loss = 0.45943587\n",
      "Iteration 34, loss = inf\n",
      "Iteration 35, loss = 0.45075519\n",
      "Iteration 36, loss = 0.45221938\n",
      "Iteration 37, loss = 0.44390607\n",
      "Iteration 38, loss = 0.44976961\n",
      "Iteration 39, loss = 0.44553247\n",
      "Iteration 40, loss = 0.45105540\n",
      "Iteration 41, loss = inf\n",
      "Iteration 42, loss = 0.44881204\n",
      "Iteration 43, loss = 0.43607055\n",
      "Iteration 44, loss = 0.43274659\n",
      "Iteration 45, loss = 0.42850755\n",
      "Iteration 46, loss = 0.42753366\n",
      "Iteration 47, loss = 0.43007423\n",
      "Iteration 48, loss = inf\n",
      "Iteration 49, loss = inf\n",
      "Iteration 50, loss = 0.43862552\n",
      "Iteration 51, loss = 0.42705588\n",
      "Iteration 52, loss = 0.42568993\n",
      "Iteration 53, loss = 0.42125860\n",
      "Iteration 54, loss = 0.46645771\n",
      "Iteration 55, loss = 0.42887546\n",
      "Iteration 56, loss = 0.42347457\n",
      "Iteration 57, loss = 0.42583430\n",
      "Iteration 58, loss = 0.42253909\n",
      "Iteration 59, loss = 0.41829408\n",
      "Iteration 60, loss = 0.41564670\n",
      "Iteration 61, loss = 0.41565292\n",
      "Iteration 62, loss = 0.41600434\n",
      "Iteration 63, loss = 0.41444320\n",
      "Iteration 64, loss = 0.41377096\n",
      "Iteration 65, loss = 0.41354107\n",
      "Iteration 66, loss = 0.41358773\n",
      "Iteration 67, loss = 0.41509075\n",
      "Iteration 68, loss = 0.41422591\n",
      "Iteration 69, loss = 0.41628774\n",
      "Iteration 70, loss = 0.41483597\n",
      "Iteration 71, loss = 0.41204038\n",
      "Iteration 72, loss = 0.41534372\n",
      "Iteration 73, loss = 0.41237485\n",
      "Iteration 74, loss = 0.41187490\n",
      "Iteration 75, loss = 0.41048137\n",
      "Iteration 76, loss = 0.41116706\n",
      "Iteration 77, loss = 0.40995863\n",
      "Iteration 78, loss = 0.41111867\n",
      "Iteration 79, loss = 0.41119310\n",
      "Iteration 80, loss = 0.41092702\n",
      "Iteration 81, loss = 0.41210368\n",
      "Iteration 82, loss = 0.40983212\n",
      "Iteration 83, loss = 0.41276836\n",
      "Iteration 84, loss = 0.41159234\n",
      "Iteration 85, loss = 0.40786495\n",
      "Iteration 86, loss = inf\n",
      "Iteration 87, loss = inf\n",
      "Iteration 88, loss = 0.41356438\n",
      "Iteration 89, loss = 0.41835493\n",
      "Iteration 90, loss = 0.41063307\n",
      "Iteration 91, loss = 0.41043899\n",
      "Iteration 92, loss = inf\n",
      "Iteration 93, loss = 0.41303260\n",
      "Iteration 94, loss = 0.41077080\n",
      "Iteration 95, loss = inf\n",
      "Iteration 96, loss = 0.41150231\n",
      "Iteration 97, loss = 0.41324752\n",
      "Iteration 98, loss = 0.40905160\n",
      "Iteration 99, loss = 0.40855808\n",
      "Iteration 100, loss = 0.40979752\n"
     ]
    },
    {
     "name": "stderr",
     "output_type": "stream",
     "text": [
      "/home/ubuntu/anaconda3/envs/amazonei_tensorflow_p36/lib/python3.6/site-packages/sklearn/neural_network/multilayer_perceptron.py:566: ConvergenceWarning: Stochastic Optimizer: Maximum iterations (100) reached and the optimization hasn't converged yet.\n",
      "  % self.max_iter, ConvergenceWarning)\n"
     ]
    }
   ],
   "source": [
    "rdf = RandomForestClassifier(n_estimators=200).fit(X_t,y_t)\n",
    "lgr= LogisticRegression(solver='liblinear', multi_class='ovr',random_state=87348).fit(X_t,y_t)\n",
    "mlp = MLPClassifier(alpha=1e-5, hidden_layer_sizes=(64,64,64),max_iter=100,verbose=1, n_iter_no_change=100,\n",
    "                    shuffle=True,learning_rate_init=.001,solver='adam',batch_size=256).fit(X_t,y_t)"
   ]
  },
  {
   "cell_type": "code",
   "execution_count": 13,
   "metadata": {},
   "outputs": [
    {
     "name": "stdout",
     "output_type": "stream",
     "text": [
      "0.8252496655570419\n",
      "0.7908720405687086\n",
      "0.8133030519864356\n"
     ]
    }
   ],
   "source": [
    "print(rdf.score(X_v,y_v))\n",
    "print(lgr.score(X_v,y_v))\n",
    "print(mlp.score(X_v,y_v))"
   ]
  },
  {
   "cell_type": "code",
   "execution_count": null,
   "metadata": {},
   "outputs": [],
   "source": [
    "rdf.predict_proba(X_v)[:,0]"
   ]
  },
  {
   "cell_type": "code",
   "execution_count": null,
   "metadata": {},
   "outputs": [],
   "source": [
    "print(\"Classification report for classifier %s:\\n%s\\n\"\n",
    "      % (rdf, classification_report(y_v, rdf.predict(X_v))))\n",
    "print(\"Confusion matrix:\\n%s\" % confusion_matrix(y_v, rdf.predict(X_v)))\n",
    "\n",
    "print(\"Classification report for classifier %s:\\n%s\\n\"\n",
    "      % (lgr, classification_report(y_v, lgr.predict(X_v))))\n",
    "print(\"Confusion matrix:\\n%s\" % confusion_matrix(y_v, lgr.predict(X_v)))\n",
    "\n",
    "print(\"Classification report for classifier %s:\\n%s\\n\"\n",
    "      % (mlp, classification_report(y_v, mlp.predict(X_v))))\n",
    "print(\"Confusion matrix:\\n%s\" % confusion_matrix(y_v, mlp.predict(X_v)))"
   ]
  },
  {
   "cell_type": "code",
   "execution_count": null,
   "metadata": {
    "scrolled": false
   },
   "outputs": [],
   "source": [
    "importances=dict(zip(rdf.feature_importances_, X_t.columns))\n",
    "pprint(importances)"
   ]
  },
  {
   "cell_type": "markdown",
   "metadata": {},
   "source": [
    "### Examine certificate issuers"
   ]
  },
  {
   "cell_type": "code",
   "execution_count": null,
   "metadata": {},
   "outputs": [],
   "source": [
    "issuer_benign=pickle.load(open('issuer_benign.pickle','rb'))\n",
    "issuer_mal=pickle.load(open('issuer_mal.pickle','rb'))"
   ]
  },
  {
   "cell_type": "code",
   "execution_count": null,
   "metadata": {},
   "outputs": [],
   "source": [
    "sorted_benign = sorted(issuer_benign.items(), key=operator.itemgetter(1),reverse=True)\n",
    "sorted_mal = sorted(issuer_mal.items(), key=operator.itemgetter(1),reverse=True)"
   ]
  },
  {
   "cell_type": "code",
   "execution_count": null,
   "metadata": {},
   "outputs": [],
   "source": [
    "temp_all={}\n",
    "for x in issuer_benign:\n",
    "    temp_all[x]=issuer_benign[x]+issuer_mal[x]\n",
    "    \n",
    "issuer_all=defaultdict(int)\n",
    "for x in temp_all:\n",
    "    try:\n",
    "        issuer_all[x[0:x.find(' ')]]+=temp_all[x]\n",
    "    except:\n",
    "        print(x)\n",
    "        \n",
    "del temp_all"
   ]
  },
  {
   "cell_type": "code",
   "execution_count": null,
   "metadata": {},
   "outputs": [],
   "source": [
    "sorted_all = sorted(issuer_all.items(), key=operator.itemgetter(1),reverse=True)\n",
    "sorted_all= [x[0] for x in sorted_all[0:10]]"
   ]
  },
  {
   "cell_type": "code",
   "execution_count": null,
   "metadata": {},
   "outputs": [],
   "source": [
    "sorted_all={x for x in sorted_all}"
   ]
  },
  {
   "cell_type": "code",
   "execution_count": null,
   "metadata": {},
   "outputs": [],
   "source": [
    "validation_types=pickle.load(open('validation_types.pickle','rb'))\n",
    "error_types=pickle.load(open('error_types.pickle','rb'))"
   ]
  },
  {
   "cell_type": "code",
   "execution_count": null,
   "metadata": {
    "scrolled": true
   },
   "outputs": [],
   "source": [
    "better_val_types=defaultdict(int)\n",
    "for x in validation_types:\n",
    "    try:\n",
    "        better_val_types[x[0:x.find(',')]]+=1\n",
    "    except:\n",
    "        continue\n",
    "        \n",
    "pprint(better_val_types)"
   ]
  },
  {
   "cell_type": "code",
   "execution_count": null,
   "metadata": {
    "scrolled": true
   },
   "outputs": [],
   "source": [
    "df=df.reset_index(drop=True)\n",
    "for x in range(0,len(df)):\n",
    "    if type(df.loc[x,'error_type']) == str:\n",
    "        if df.loc[x,'error_type'].find('[SSL: CERTIFICATE_VERIFY_FAILED]') != -1:\n",
    "            print(x)\n",
    "            break"
   ]
  },
  {
   "cell_type": "code",
   "execution_count": null,
   "metadata": {
    "scrolled": false
   },
   "outputs": [],
   "source": [
    "alpha=df['cert_validation'].apply((lambda x: 'CERT MISMATCH' if type(x)==str and x.find('mismatch') != -1 else x)).value_counts()\n",
    "alpha=alpha[alpha>100]"
   ]
  },
  {
   "cell_type": "code",
   "execution_count": null,
   "metadata": {},
   "outputs": [],
   "source": [
    "alpha=set(alpha.index)\n",
    "alpha.discard(True)"
   ]
  },
  {
   "cell_type": "code",
   "execution_count": null,
   "metadata": {},
   "outputs": [],
   "source": [
    "error_codes=alpha\n",
    "error_codes"
   ]
  },
  {
   "cell_type": "code",
   "execution_count": null,
   "metadata": {},
   "outputs": [],
   "source": [
    "sorted_all"
   ]
  },
  {
   "cell_type": "code",
   "execution_count": null,
   "metadata": {},
   "outputs": [],
   "source": [
    "df['issuer']=df['issuer'].apply(lambda x: x[0:x.find(' ')] if (not pd.isnull(x)) else None)"
   ]
  },
  {
   "cell_type": "code",
   "execution_count": null,
   "metadata": {},
   "outputs": [],
   "source": [
    "plt.figure(figsize=(8,8))\n",
    "plt.pie(list(df['issuer'].value_counts()[0:10])+[105818],\n",
    "        labels=list([\"Let's encrypt\"]+list(df['issuer'].value_counts()[1:10].index)+[\"Other\"]),\n",
    "       colors=['blue','orange','green','red','purple','brown','pink','grey','yellow','teal','lightcoral'])\n",
    "plt.show()"
   ]
  },
  {
   "cell_type": "code",
   "execution_count": null,
   "metadata": {},
   "outputs": [],
   "source": [
    "sum(df['issuer'].value_counts()[16:])"
   ]
  },
  {
   "cell_type": "code",
   "execution_count": 24,
   "metadata": {},
   "outputs": [
    {
     "data": {
      "text/plain": [
       "<matplotlib.axes._subplots.AxesSubplot at 0x7f57ebab76a0>"
      ]
     },
     "execution_count": 24,
     "metadata": {},
     "output_type": "execute_result"
    },
    {
     "data": {
      "image/png": "[encoded data removed]",
      "text/plain": [
       "<Figure size 432x288 with 1 Axes>"
      ]
     },
     "metadata": {},
     "output_type": "display_data"
    }
   ],
   "source": [
    "df[(df['benign'] == True) &(df['valid_duration'] > 0) & (df['valid_duration'] < 1000)]['valid_duration'].hist(bins=50)"
   ]
  },
  {
   "cell_type": "code",
   "execution_count": null,
   "metadata": {},
   "outputs": [],
   "source": [
    "df.corr()"
   ]
  }
 ],
 "metadata": {
  "kernelspec": {
   "display_name": "Environment (conda_amazonei_tensorflow_p36)",
   "language": "python",
   "name": "conda_amazonei_tensorflow_p36"
  },
  "language_info": {
   "codemirror_mode": {
    "name": "ipython",
    "version": 3
   },
   "file_extension": ".py",
   "mimetype": "text/x-python",
   "name": "python",
   "nbconvert_exporter": "python",
   "pygments_lexer": "ipython3",
   "version": "3.6.5"
  }
 },
 "nbformat": 4,
 "nbformat_minor": 2
}
