{
 "cells": [
  {
   "cell_type": "code",
   "execution_count": 29,
   "metadata": {},
   "outputs": [],
   "source": [
    "#Combine disparate subnet dictionaries \n",
    "\n",
    "from ipwhois import IPWhois\n",
    "from pprint import pprint\n",
    "from sklearn.preprocessing import OneHotEncoder\n",
    "import pandas as pd\n",
    "import numpy as np\n",
    "from sklearn.preprocessing import OneHotEncoder\n",
    "import socket, struct\n",
    "from collections import OrderedDict\n",
    "import os\n",
    "import json\n",
    "import re\n",
    "import time\n",
    "from bisect import bisect_left"
   ]
  },
  {
   "cell_type": "code",
   "execution_count": 2,
   "metadata": {},
   "outputs": [],
   "source": [
    "alpha=json.load(open('subnetDirectory.json'))\n",
    "beta=json.load(open('subnetDirectory1.json'))\n",
    "gamma=json.load(open('subnetDirectory2.json'))\n",
    "delta=json.load(open('subnetDirectory3.json'))"
   ]
  },
  {
   "cell_type": "code",
   "execution_count": 3,
   "metadata": {},
   "outputs": [],
   "source": [
    "consolidated={**alpha,**beta,**gamma,**delta}"
   ]
  },
  {
   "cell_type": "code",
   "execution_count": 4,
   "metadata": {},
   "outputs": [
    {
     "name": "stdout",
     "output_type": "stream",
     "text": [
      "32\n"
     ]
    }
   ],
   "source": [
    "k=list(consolidated.keys())\n",
    "v=list(consolidated.values())\n"
   ]
  },
  {
   "cell_type": "code",
   "execution_count": 9,
   "metadata": {},
   "outputs": [],
   "source": [
    "k=sorted(k)"
   ]
  },
  {
   "cell_type": "code",
   "execution_count": 10,
   "metadata": {},
   "outputs": [
    {
     "name": "stdout",
     "output_type": "stream",
     "text": [
      "3578\n"
     ]
    }
   ],
   "source": [
    "print(bisect_left(k,'23.195.235.126'))"
   ]
  },
  {
   "cell_type": "code",
   "execution_count": 34,
   "metadata": {},
   "outputs": [],
   "source": [
    "def parseCIDR(alpha):\n",
    "    ip=alpha[:alpha.find('/')]\n",
    "    mask=alpha[alpha.find('/')+1:]\n",
    "    return (ip, int(mask))\n",
    "    \n",
    "def dottedQuadToNum(ip):\n",
    "    \"convert decimal dotted quad string to long integer\"\n",
    "    return struct.unpack('!L',socket.inet_aton(ip))[0]\n",
    "\n",
    "def numToDottedQuad(n):\n",
    "    \"convert long int to dotted quad string\"\n",
    "    return socket.inet_ntoa(struct.pack('!L',n))\n",
    "      \n",
    "def makeMask(n):\n",
    "    \"return a mask of n bits as a long integer\"\n",
    "    return (1 << 32-n)-1\n",
    "\n",
    "def ipToNetAndMask(ip):\n",
    "    \"returns tuple (network, host) dotted-quad addresses given IP and mask size\"\n",
    "    if (len(ip) > 18):\n",
    "        ip=ip[:ip.find(',')]\n",
    "    network,mask = parseCIDR(ip)\n",
    "    n = dottedQuadToNum(network)\n",
    "    m = makeMask(mask)\n",
    "\n",
    "    host = n & m\n",
    "    net = n - host\n",
    "\n",
    "    return numToDottedQuad(net), mask\n",
    "\n",
    "def toNet(network,maskbits):\n",
    "    \"returns tuple (network, host) dotted-quad addresses given IP and mask size\"\n",
    "    n = dottedQuadToNum(network)\n",
    "    m = makeMask(maskbits)\n",
    "\n",
    "    host = n & m\n",
    "    net = n - host\n",
    "\n",
    "    return numToDottedQuad(net)"
   ]
  },
  {
   "cell_type": "code",
   "execution_count": 35,
   "metadata": {},
   "outputs": [
    {
     "data": {
      "text/plain": [
       "'23.192.0.0'"
      ]
     },
     "execution_count": 35,
     "metadata": {},
     "output_type": "execute_result"
    }
   ],
   "source": [
    "toNet('23.195.235.126',11)"
   ]
  },
  {
   "cell_type": "code",
   "execution_count": 49,
   "metadata": {},
   "outputs": [],
   "source": [
    "#take ip, bisect left\n",
    "point='114.118.31.68'\n",
    "pos=bisect_left(k,point)\n",
    "\n",
    "if (pos > 0):\n",
    "    pos-=1\n",
    "\n",
    "if (toNet(point,consolidated[k[pos]]) != k[pos]):\n",
    "    print(\"Failure\")"
   ]
  },
  {
   "cell_type": "code",
   "execution_count": 46,
   "metadata": {},
   "outputs": [
    {
     "name": "stdout",
     "output_type": "stream",
     "text": [
      "52.84.0.0\n"
     ]
    }
   ],
   "source": [
    "print(k[bisect_left(k,'52.93.12.79')-1])"
   ]
  },
  {
   "cell_type": "code",
   "execution_count": 48,
   "metadata": {},
   "outputs": [
    {
     "name": "stdout",
     "output_type": "stream",
     "text": [
      "52.88.0.0\n"
     ]
    }
   ],
   "source": [
    "print(toNet('52.93.12.79',13))"
   ]
  },
  {
   "cell_type": "code",
   "execution_count": null,
   "metadata": {},
   "outputs": [],
   "source": []
  }
 ],
 "metadata": {
  "kernelspec": {
   "display_name": "Environment (conda_amazonei_tensorflow_p36)",
   "language": "python",
   "name": "conda_amazonei_tensorflow_p36"
  },
  "language_info": {
   "codemirror_mode": {
    "name": "ipython",
    "version": 3
   },
   "file_extension": ".py",
   "mimetype": "text/x-python",
   "name": "python",
   "nbconvert_exporter": "python",
   "pygments_lexer": "ipython3",
   "version": "3.6.5"
  }
 },
 "nbformat": 4,
 "nbformat_minor": 2
}
