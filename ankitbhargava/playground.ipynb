{
 "cells": [
  {
   "cell_type": "code",
   "execution_count": 1,
   "metadata": {},
   "outputs": [],
   "source": [
    "## Playground for testing various ideas and prototyping functions\n",
    "\n",
    "import numpy as np\n",
    "import pandas as pd\n",
    "import random\n",
    "import tensorflow as tf\n",
    "from tensorflow.keras import layers"
   ]
  },
  {
   "cell_type": "code",
   "execution_count": 30,
   "metadata": {},
   "outputs": [],
   "source": [
    "data=np.zeros(shape=(10000,10))\n",
    "label=np.zeros(shape=[10000,1])\n",
    "for r in range(10000):\n",
    "    shift=random.randint(-1000,1000)\n",
    "    vec = [x for x in range ((0),(10))]\n",
    "    if random.random() > .5:\n",
    "        data[r]=np.array(vec)/max(vec)\n",
    "        label[r]=1\n",
    "    else:\n",
    "        data[r]=np.array(vec[::-1])/max(vec)\n",
    "        label[r]=0"
   ]
  },
  {
   "cell_type": "code",
   "execution_count": 31,
   "metadata": {},
   "outputs": [
    {
     "name": "stdout",
     "output_type": "stream",
     "text": [
      "[[1.         0.88888889 0.77777778 ... 0.22222222 0.11111111 0.        ]\n",
      " [0.         0.11111111 0.22222222 ... 0.77777778 0.88888889 1.        ]\n",
      " [0.         0.11111111 0.22222222 ... 0.77777778 0.88888889 1.        ]\n",
      " ...\n",
      " [0.         0.11111111 0.22222222 ... 0.77777778 0.88888889 1.        ]\n",
      " [0.         0.11111111 0.22222222 ... 0.77777778 0.88888889 1.        ]\n",
      " [1.         0.88888889 0.77777778 ... 0.22222222 0.11111111 0.        ]]\n"
     ]
    }
   ],
   "source": [
    "print(data)"
   ]
  },
  {
   "cell_type": "code",
   "execution_count": 32,
   "metadata": {},
   "outputs": [
    {
     "name": "stdout",
     "output_type": "stream",
     "text": [
      "_________________________________________________________________\n",
      "Layer (type)                 Output Shape              Param #   \n",
      "=================================================================\n",
      "lstm_6 (LSTM)                (None, 64)                16896     \n",
      "_________________________________________________________________\n",
      "dense_8 (Dense)              (None, 1)                 65        \n",
      "=================================================================\n",
      "Total params: 16,961\n",
      "Trainable params: 16,961\n",
      "Non-trainable params: 0\n",
      "_________________________________________________________________\n",
      "None\n"
     ]
    }
   ],
   "source": [
    "model = tf.keras.Sequential([\n",
    "# Adds a densely-connected layer with 64 units to the model:\n",
    "layers.LSTM(64, activation='relu', unroll=True,input_shape=(10,1)),\n",
    "# Add another:\n",
    "layers.Dense(1, activation='sigmoid')])\n",
    "print(model.summary())"
   ]
  },
  {
   "cell_type": "code",
   "execution_count": 33,
   "metadata": {
    "collapsed": true
   },
   "outputs": [
    {
     "name": "stdout",
     "output_type": "stream",
     "text": [
      "Train on 8000 samples, validate on 1998 samples\n",
      "Epoch 1/1000\n",
      "8000/8000 [==============================] - 6s 741us/step - loss: 0.6473 - acc: 0.7470 - val_loss: 0.5617 - val_acc: 1.0000\n",
      "Epoch 2/1000\n",
      "8000/8000 [==============================] - 0s 46us/step - loss: 0.1536 - acc: 1.0000 - val_loss: 2.7243e-06 - val_acc: 1.0000\n",
      "Epoch 3/1000\n",
      "8000/8000 [==============================] - 0s 46us/step - loss: 2.0876e-06 - acc: 1.0000 - val_loss: 1.8923e-06 - val_acc: 1.0000\n",
      "Epoch 4/1000\n",
      "8000/8000 [==============================] - 0s 46us/step - loss: 1.8559e-06 - acc: 1.0000 - val_loss: 1.7735e-06 - val_acc: 1.0000\n",
      "Epoch 5/1000\n",
      "8000/8000 [==============================] - 0s 46us/step - loss: 1.7204e-06 - acc: 1.0000 - val_loss: 1.6546e-06 - val_acc: 1.0000\n",
      "Epoch 6/1000\n",
      "8000/8000 [==============================] - 0s 46us/step - loss: 1.5899e-06 - acc: 1.0000 - val_loss: 1.5358e-06 - val_acc: 1.0000\n",
      "Epoch 7/1000\n",
      "8000/8000 [==============================] - 0s 46us/step - loss: 1.4649e-06 - acc: 1.0000 - val_loss: 1.4169e-06 - val_acc: 1.0000\n",
      "Epoch 8/1000\n",
      "8000/8000 [==============================] - 0s 46us/step - loss: 1.3494e-06 - acc: 1.0000 - val_loss: 1.2981e-06 - val_acc: 1.0000\n",
      "Epoch 9/1000\n",
      "8000/8000 [==============================] - 0s 47us/step - loss: 1.2481e-06 - acc: 1.0000 - val_loss: 1.1792e-06 - val_acc: 1.0000\n",
      "Epoch 10/1000\n",
      "8000/8000 [==============================] - 0s 46us/step - loss: 1.1542e-06 - acc: 1.0000 - val_loss: 1.1198e-06 - val_acc: 1.0000\n",
      "Epoch 11/1000\n",
      "8000/8000 [==============================] - 0s 46us/step - loss: 1.0696e-06 - acc: 1.0000 - val_loss: 1.0010e-06 - val_acc: 1.0000\n",
      "Epoch 12/1000\n",
      "8000/8000 [==============================] - 0s 46us/step - loss: 9.8837e-07 - acc: 1.0000 - val_loss: 9.4154e-07 - val_acc: 1.0000\n",
      "Epoch 13/1000\n",
      "8000/8000 [==============================] - 0s 46us/step - loss: 9.2042e-07 - acc: 1.0000 - val_loss: 8.8211e-07 - val_acc: 1.0000\n",
      "Epoch 14/1000\n",
      "8000/8000 [==============================] - 0s 46us/step - loss: 8.5850e-07 - acc: 1.0000 - val_loss: 8.2268e-07 - val_acc: 1.0000\n",
      "Epoch 15/1000\n",
      "8000/8000 [==============================] - 0s 46us/step - loss: 8.0286e-07 - acc: 1.0000 - val_loss: 7.6326e-07 - val_acc: 1.0000\n",
      "Epoch 16/1000\n",
      "1400/8000 [====>.........................] - ETA: 0s - loss: 7.8616e-07 - acc: 1.0000"
     ]
    },
    {
     "ename": "KeyboardInterrupt",
     "evalue": "",
     "output_type": "error",
     "traceback": [
      "\u001b[0;31m---------------------------------------------------------------------------\u001b[0m",
      "\u001b[0;31mKeyboardInterrupt\u001b[0m                         Traceback (most recent call last)",
      "\u001b[0;32m<ipython-input-33-5dcdcdd34de0>\u001b[0m in \u001b[0;36m<module>\u001b[0;34m()\u001b[0m\n\u001b[1;32m      4\u001b[0m \u001b[0;34m\u001b[0m\u001b[0m\n\u001b[1;32m      5\u001b[0m model.fit(data[0:8000].reshape(8000,10,1),label[0:8000], epochs=1000, verbose=1, batch_size=200,\n\u001b[0;32m----> 6\u001b[0;31m           validation_data=(data[8001:9999].reshape(9999-8001,10,1),label[8001:9999]))\n\u001b[0m",
      "\u001b[0;32m~/anaconda3/envs/amazonei_tensorflow_p36/lib/python3.6/site-packages/tensorflow/python/keras/engine/training.py\u001b[0m in \u001b[0;36mfit\u001b[0;34m(self, x, y, batch_size, epochs, verbose, callbacks, validation_split, validation_data, shuffle, class_weight, sample_weight, initial_epoch, steps_per_epoch, validation_steps, max_queue_size, workers, use_multiprocessing, **kwargs)\u001b[0m\n\u001b[1;32m   1637\u001b[0m           \u001b[0minitial_epoch\u001b[0m\u001b[0;34m=\u001b[0m\u001b[0minitial_epoch\u001b[0m\u001b[0;34m,\u001b[0m\u001b[0;34m\u001b[0m\u001b[0m\n\u001b[1;32m   1638\u001b[0m           \u001b[0msteps_per_epoch\u001b[0m\u001b[0;34m=\u001b[0m\u001b[0msteps_per_epoch\u001b[0m\u001b[0;34m,\u001b[0m\u001b[0;34m\u001b[0m\u001b[0m\n\u001b[0;32m-> 1639\u001b[0;31m           validation_steps=validation_steps)\n\u001b[0m\u001b[1;32m   1640\u001b[0m \u001b[0;34m\u001b[0m\u001b[0m\n\u001b[1;32m   1641\u001b[0m   def evaluate(self,\n",
      "\u001b[0;32m~/anaconda3/envs/amazonei_tensorflow_p36/lib/python3.6/site-packages/tensorflow/python/keras/engine/training_arrays.py\u001b[0m in \u001b[0;36mfit_loop\u001b[0;34m(model, inputs, targets, sample_weights, batch_size, epochs, verbose, callbacks, val_inputs, val_targets, val_sample_weights, shuffle, initial_epoch, steps_per_epoch, validation_steps)\u001b[0m\n\u001b[1;32m    213\u001b[0m           \u001b[0mins_batch\u001b[0m\u001b[0;34m[\u001b[0m\u001b[0mi\u001b[0m\u001b[0;34m]\u001b[0m \u001b[0;34m=\u001b[0m \u001b[0mins_batch\u001b[0m\u001b[0;34m[\u001b[0m\u001b[0mi\u001b[0m\u001b[0;34m]\u001b[0m\u001b[0;34m.\u001b[0m\u001b[0mtoarray\u001b[0m\u001b[0;34m(\u001b[0m\u001b[0;34m)\u001b[0m\u001b[0;34m\u001b[0m\u001b[0m\n\u001b[1;32m    214\u001b[0m \u001b[0;34m\u001b[0m\u001b[0m\n\u001b[0;32m--> 215\u001b[0;31m         \u001b[0mouts\u001b[0m \u001b[0;34m=\u001b[0m \u001b[0mf\u001b[0m\u001b[0;34m(\u001b[0m\u001b[0mins_batch\u001b[0m\u001b[0;34m)\u001b[0m\u001b[0;34m\u001b[0m\u001b[0m\n\u001b[0m\u001b[1;32m    216\u001b[0m         \u001b[0;32mif\u001b[0m \u001b[0;32mnot\u001b[0m \u001b[0misinstance\u001b[0m\u001b[0;34m(\u001b[0m\u001b[0mouts\u001b[0m\u001b[0;34m,\u001b[0m \u001b[0mlist\u001b[0m\u001b[0;34m)\u001b[0m\u001b[0;34m:\u001b[0m\u001b[0;34m\u001b[0m\u001b[0m\n\u001b[1;32m    217\u001b[0m           \u001b[0mouts\u001b[0m \u001b[0;34m=\u001b[0m \u001b[0;34m[\u001b[0m\u001b[0mouts\u001b[0m\u001b[0;34m]\u001b[0m\u001b[0;34m\u001b[0m\u001b[0m\n",
      "\u001b[0;32m~/anaconda3/envs/amazonei_tensorflow_p36/lib/python3.6/site-packages/tensorflow/python/keras/backend.py\u001b[0m in \u001b[0;36m__call__\u001b[0;34m(self, inputs)\u001b[0m\n\u001b[1;32m   2984\u001b[0m \u001b[0;34m\u001b[0m\u001b[0m\n\u001b[1;32m   2985\u001b[0m     fetched = self._callable_fn(*array_vals,\n\u001b[0;32m-> 2986\u001b[0;31m                                 run_metadata=self.run_metadata)\n\u001b[0m\u001b[1;32m   2987\u001b[0m     \u001b[0mself\u001b[0m\u001b[0;34m.\u001b[0m\u001b[0m_call_fetch_callbacks\u001b[0m\u001b[0;34m(\u001b[0m\u001b[0mfetched\u001b[0m\u001b[0;34m[\u001b[0m\u001b[0;34m-\u001b[0m\u001b[0mlen\u001b[0m\u001b[0;34m(\u001b[0m\u001b[0mself\u001b[0m\u001b[0;34m.\u001b[0m\u001b[0m_fetches\u001b[0m\u001b[0;34m)\u001b[0m\u001b[0;34m:\u001b[0m\u001b[0;34m]\u001b[0m\u001b[0;34m)\u001b[0m\u001b[0;34m\u001b[0m\u001b[0m\n\u001b[1;32m   2988\u001b[0m     \u001b[0;32mreturn\u001b[0m \u001b[0mfetched\u001b[0m\u001b[0;34m[\u001b[0m\u001b[0;34m:\u001b[0m\u001b[0mlen\u001b[0m\u001b[0;34m(\u001b[0m\u001b[0mself\u001b[0m\u001b[0;34m.\u001b[0m\u001b[0moutputs\u001b[0m\u001b[0;34m)\u001b[0m\u001b[0;34m]\u001b[0m\u001b[0;34m\u001b[0m\u001b[0m\n",
      "\u001b[0;32m~/anaconda3/envs/amazonei_tensorflow_p36/lib/python3.6/site-packages/tensorflow/python/client/session.py\u001b[0m in \u001b[0;36m__call__\u001b[0;34m(self, *args, **kwargs)\u001b[0m\n\u001b[1;32m   1437\u001b[0m           ret = tf_session.TF_SessionRunCallable(\n\u001b[1;32m   1438\u001b[0m               \u001b[0mself\u001b[0m\u001b[0;34m.\u001b[0m\u001b[0m_session\u001b[0m\u001b[0;34m.\u001b[0m\u001b[0m_session\u001b[0m\u001b[0;34m,\u001b[0m \u001b[0mself\u001b[0m\u001b[0;34m.\u001b[0m\u001b[0m_handle\u001b[0m\u001b[0;34m,\u001b[0m \u001b[0margs\u001b[0m\u001b[0;34m,\u001b[0m \u001b[0mstatus\u001b[0m\u001b[0;34m,\u001b[0m\u001b[0;34m\u001b[0m\u001b[0m\n\u001b[0;32m-> 1439\u001b[0;31m               run_metadata_ptr)\n\u001b[0m\u001b[1;32m   1440\u001b[0m         \u001b[0;32mif\u001b[0m \u001b[0mrun_metadata\u001b[0m\u001b[0;34m:\u001b[0m\u001b[0;34m\u001b[0m\u001b[0m\n\u001b[1;32m   1441\u001b[0m           \u001b[0mproto_data\u001b[0m \u001b[0;34m=\u001b[0m \u001b[0mtf_session\u001b[0m\u001b[0;34m.\u001b[0m\u001b[0mTF_GetBuffer\u001b[0m\u001b[0;34m(\u001b[0m\u001b[0mrun_metadata_ptr\u001b[0m\u001b[0;34m)\u001b[0m\u001b[0;34m\u001b[0m\u001b[0m\n",
      "\u001b[0;31mKeyboardInterrupt\u001b[0m: "
     ]
    }
   ],
   "source": [
    "model.compile(optimizer=tf.train.AdamOptimizer(0.001),\n",
    "              loss='binary_crossentropy', \n",
    "              metrics=['accuracy'])\n",
    "\n",
    "model.fit(data[0:8000].reshape(8000,10,1),label[0:8000], epochs=1000, verbose=1, batch_size=200,\n",
    "          validation_data=(data[8001:9999].reshape(9999-8001,10,1),label[8001:9999]))"
   ]
  },
  {
   "cell_type": "code",
   "execution_count": 1,
   "metadata": {},
   "outputs": [],
   "source": [
    "from urllib import request\n",
    "from ipwhois import IPWhois\n",
    "handler = request.ProxyHandler({\n",
    "        'http': 'http://192.168.0.1:80/',\n",
    "        'https': 'https://192.168.0.1:443/'\n",
    "    })\n",
    "opener = request.build_opener(handler)\n",
    "obj = IPWhois('74.125.225.229', proxy_opener = opener)"
   ]
  },
  {
   "cell_type": "code",
   "execution_count": 2,
   "metadata": {},
   "outputs": [
    {
     "data": {
      "text/plain": [
       "IPWhois(74.125.225.229, 5, <urllib.request.OpenerDirector object at 0x7fe5eeee5f98>)"
      ]
     },
     "execution_count": 2,
     "metadata": {},
     "output_type": "execute_result"
    }
   ],
   "source": [
    "obj"
   ]
  },
  {
   "cell_type": "code",
   "execution_count": 3,
   "metadata": {},
   "outputs": [
    {
     "data": {
      "text/plain": [
       "array([[0.97805267, 0.50695704, 0.54953587, 0.61589863, 0.45843557],\n",
       "       [0.70776292, 0.91899933, 0.93307564, 0.7088206 , 0.16025141],\n",
       "       [0.05556109, 0.71005285, 0.33603644, 0.89607657, 0.31824056],\n",
       "       [0.29821502, 0.36219532, 0.13666071, 0.17820307, 0.9042129 ],\n",
       "       [0.00410455, 0.3941991 , 0.23045297, 0.50016487, 0.3880241 ]])"
      ]
     },
     "execution_count": 3,
     "metadata": {},
     "output_type": "execute_result"
    }
   ],
   "source": [
    "arr=np.random.rand(5,5)\n",
    "arr"
   ]
  },
  {
   "cell_type": "code",
   "execution_count": 4,
   "metadata": {},
   "outputs": [
    {
     "data": {
      "text/plain": [
       "array([[ True,  True,  True,  True,  True],\n",
       "       [ True,  True,  True,  True,  True],\n",
       "       [False,  True,  True,  True,  True],\n",
       "       [ True,  True,  True,  True,  True],\n",
       "       [False,  True,  True,  True,  True]])"
      ]
     },
     "execution_count": 4,
     "metadata": {},
     "output_type": "execute_result"
    }
   ],
   "source": [
    "arr > .1"
   ]
  }
 ],
 "metadata": {
  "kernelspec": {
   "display_name": "Environment (conda_amazonei_tensorflow_p36)",
   "language": "python",
   "name": "conda_amazonei_tensorflow_p36"
  },
  "language_info": {
   "codemirror_mode": {
    "name": "ipython",
    "version": 3
   },
   "file_extension": ".py",
   "mimetype": "text/x-python",
   "name": "python",
   "nbconvert_exporter": "python",
   "pygments_lexer": "ipython3",
   "version": "3.6.5"
  }
 },
 "nbformat": 4,
 "nbformat_minor": 2
}
