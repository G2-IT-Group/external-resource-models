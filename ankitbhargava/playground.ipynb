{
 "cells": [
  {
   "cell_type": "code",
   "execution_count": 1,
   "metadata": {},
   "outputs": [],
   "source": [
    "from ipwhois import IPWhois\n",
    "from pprint import pprint\n",
    "from sklearn.preprocessing import OneHotEncoder\n",
    "import pandas as pd\n",
    "import numpy as np\n",
    "from sklearn.preprocessing import OneHotEncoder\n",
    "import socket, struct\n",
    "from collections import OrderedDict\n",
    "import os\n",
    "import json\n",
    "import re\n",
    "import time"
   ]
  },
  {
   "cell_type": "code",
   "execution_count": 2,
   "metadata": {},
   "outputs": [],
   "source": [
    "def parseCIDR(alpha):\n",
    "    ip=alpha[:alpha.find('/')]\n",
    "    mask=alpha[alpha.find('/')+1:]\n",
    "    return (ip, int(mask))\n",
    "    \n",
    "def dottedQuadToNum(ip):\n",
    "    \"convert decimal dotted quad string to long integer\"\n",
    "    return struct.unpack('!L',socket.inet_aton(ip))[0]\n",
    "\n",
    "def numToDottedQuad(n):\n",
    "    \"convert long int to dotted quad string\"\n",
    "    return socket.inet_ntoa(struct.pack('!L',n))\n",
    "      \n",
    "def makeMask(n):\n",
    "    \"return a mask of n bits as a long integer\"\n",
    "    return (1 << 32-n)-1\n",
    "\n",
    "def ipToNetAndMask(ip):\n",
    "    \"returns tuple (network, host) dotted-quad addresses given IP and mask size\"\n",
    "    if (len(ip) > 18):\n",
    "        ip=ip[:ip.find(',')]\n",
    "    network,mask = parseCIDR(ip)\n",
    "    n = dottedQuadToNum(network)\n",
    "    m = makeMask(mask)\n",
    "\n",
    "    host = n & m\n",
    "    net = n - host\n",
    "\n",
    "    return numToDottedQuad(net), mask\n",
    "\n",
    "def toNet(n,maskbits):\n",
    "    \"returns tuple (network, host) dotted-quad addresses given IP and mask size\"\n",
    "\n",
    "    m = makeMask(maskbits)\n",
    "\n",
    "    host = n & m\n",
    "    net = n - host\n",
    "\n",
    "    return numToDottedQuad(net)"
   ]
  },
  {
   "cell_type": "code",
   "execution_count": 3,
   "metadata": {},
   "outputs": [
    {
     "name": "stdout",
     "output_type": "stream",
     "text": [
      "31750\n"
     ]
    }
   ],
   "source": [
    "date_path = '/data/data/2019-06-07/'\n",
    "enrichment=date_path+'enrichment/'\n",
    "stream = 'traceroute'\n",
    "index=dict.fromkeys(os.listdir(enrichment))\n",
    "for x in index:\n",
    "    index[x]=os.listdir(enrichment+x)\n",
    "\n",
    "#For each json in the \"stream\" folder for a particular date...\n",
    "listofips=[]\n",
    "for w in index[stream]:\n",
    "    temp_json=json.load(open(enrichment+stream+'/'+w))\n",
    "    if type(temp_json[\"data\"]) == list:\n",
    "        for route in temp_json[\"data\"]:\n",
    "            split=route[\"traceroute\"].splitlines()\n",
    "            for x in split:\n",
    "                regIP=re.findall(\"([(]\\d{1,3}[.]\\d{1,3}[.]\\d{1,3}[.]\\d{1,3}[)])\",x)\n",
    "                for s in regIP:\n",
    "                    listofips.append(s[1:len(s)-1])\n",
    "                    break\n",
    "\n",
    "listofips=listofips[:31750]\n",
    "print(len(listofips))"
   ]
  },
  {
   "cell_type": "code",
   "execution_count": null,
   "metadata": {},
   "outputs": [
    {
     "name": "stderr",
     "output_type": "stream",
     "text": [
      "/home/ubuntu/anaconda3/envs/amazonei_tensorflow_p36/lib/python3.6/site-packages/ipwhois/net.py:138: UserWarning: allow_permutations has been deprecated and will be removed. It is no longer needed, due to the deprecation of asn_alts, and the addition of the asn_methods argument.\n",
      "  warn('allow_permutations has been deprecated and will be removed. '\n"
     ]
    },
    {
     "name": "stdout",
     "output_type": "stream",
     "text": [
      "0.01\n",
      "56\n",
      "0.02\n",
      "85\n",
      "113.217.247.100\n",
      "58.229.15.176\n",
      "39.115.132.85\n",
      "1.255.25.118\n",
      "113.217.238.162\n",
      "113.217.255.33\n",
      "113.217.255.33\n",
      "113.217.247.100\n",
      "113.217.247.6\n",
      "0.03\n",
      "128\n",
      "0.04\n",
      "169\n",
      "202.93.95.142\n",
      "158.205.192.210\n",
      "158.205.132.154\n",
      "158.205.102.188\n",
      "0.05\n",
      "197\n",
      "0.06\n",
      "221\n",
      "202.232.9.102\n",
      "0.07\n",
      "249\n"
     ]
    }
   ],
   "source": [
    "subnetDir={}\n",
    "iterCount=0\n",
    "for test in listofips:\n",
    "    iterCount+=1\n",
    "    if (iterCount % 317 == 0):\n",
    "        print (iterCount/31700)\n",
    "        print(len(subnetDir))\n",
    "    testKey=dottedQuadToNum(test)\n",
    "    found=False\n",
    "    for existingSub, existingMask in subnetDir.items():\n",
    "        if toNet(testKey, existingMask) == existingSub:\n",
    "            found=True\n",
    "            break\n",
    "\n",
    "    if not found:\n",
    "        try:\n",
    "            newSubnet,newMask=ipToNetAndMask(IPWhois(test,allow_permutations=True).lookup_rdap()['network']['cidr'])\n",
    "        except:\n",
    "            print(test)\n",
    "        subnetDir[newSubnet]=newMask"
   ]
  },
  {
   "cell_type": "code",
   "execution_count": null,
   "metadata": {},
   "outputs": [],
   "source": [
    "jsonWrite = json.dumps(subnetDir)\n",
    "f = open(\"subnetDirectory.json\",\"w\")\n",
    "f.write(json)\n",
    "f.close()"
   ]
  },
  {
   "cell_type": "code",
   "execution_count": null,
   "metadata": {},
   "outputs": [],
   "source": []
  }
 ],
 "metadata": {
  "kernelspec": {
   "display_name": "Environment (conda_amazonei_tensorflow_p36)",
   "language": "python",
   "name": "conda_amazonei_tensorflow_p36"
  },
  "language_info": {
   "codemirror_mode": {
    "name": "ipython",
    "version": 3
   },
   "file_extension": ".py",
   "mimetype": "text/x-python",
   "name": "python",
   "nbconvert_exporter": "python",
   "pygments_lexer": "ipython3",
   "version": "3.6.5"
  }
 },
 "nbformat": 4,
 "nbformat_minor": 2
}
