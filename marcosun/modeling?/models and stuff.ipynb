{
 "cells": [
  {
   "cell_type": "markdown",
   "metadata": {},
   "source": [
    "# ip data"
   ]
  },
  {
   "cell_type": "code",
   "execution_count": 5,
   "metadata": {},
   "outputs": [],
   "source": [
    "from sklearn.utils import shuffle\n",
    "import pandas as pd\n",
    "\n",
    "def toint(row):\n",
    "    row['1st Octet']=int(row['1st Octet'])\n",
    "    row['2nd Octet']=int(row['2nd Octet'])\n",
    "    row['3rd Octet']=int(row['3rd Octet'])\n",
    "    row['4th Octet']=int(row['4th Octet'])\n",
    "    return row\n",
    "    \n",
    "gooddata=pd.read_parquet('/stuff/parsed data/goodoctetdata')\n",
    "baddata=pd.read_parquet('/stuff/parsed data/badoctetdata')\n",
    "\n",
    "\n",
    "bcolumn=[1]*len(gooddata)\n",
    "gooddata.insert(0,\"Benign\",bcolumn)\n",
    "\n",
    "mcolumn=[0]*len(baddata)\n",
    "baddata.insert(0,\"Benign\",mcolumn)\n",
    "\n",
    "combineddata=gooddata.append(baddata,ignore_index=True)\n",
    "\n",
    "shuffdata=shuffle(combineddata)\n",
    "dedupdata=shuffdata.drop_duplicates(subset=[\"1st Octet\",\"2nd Octet\",\"3rd Octet\",\"4th Octet\"])\n",
    "\n",
    "\n",
    "\n",
    "dedupdata=dedupdata.apply(toint,axis=\"columns\")\n",
    "\n",
    "traingood=dedupdata[dedupdata['Benign']==1].sample(20000)\n",
    "trainbad=dedupdata[dedupdata['Benign']==0].sample(20000)\n",
    "\n",
    "train=shuffle(traingood.append(trainbad))\n",
    "\n",
    "test=dedupdata.loc[dedupdata.index.difference(train.index)]\n",
    "\n",
    "#go straight to onehotencoder"
   ]
  },
  {
   "cell_type": "code",
   "execution_count": 4,
   "metadata": {},
   "outputs": [
    {
     "data": {
      "text/plain": [
       "False    203175\n",
       "dtype: int64"
      ]
     },
     "execution_count": 4,
     "metadata": {},
     "output_type": "execute_result"
    }
   ],
   "source": [
    "dedupdata.duplicated(subset=[\"1st Octet\",\"2nd Octet\",\"3rd Octet\",\"4th Octet\"]).value_counts()"
   ]
  },
  {
   "cell_type": "markdown",
   "metadata": {},
   "source": [
    "# ip data and binary data"
   ]
  },
  {
   "cell_type": "code",
   "execution_count": 11,
   "metadata": {},
   "outputs": [],
   "source": [
    "from sklearn.utils import shuffle\n",
    "import pandas as pd\n",
    "\n",
    "def toint(row):\n",
    "    row['1st Octet']=int(row['1st Octet'])\n",
    "    row['2nd Octet']=int(row['2nd Octet'])\n",
    "    row['3rd Octet']=int(row['3rd Octet'])\n",
    "    row['4th Octet']=int(row['4th Octet'])\n",
    "    return row\n",
    "\n",
    "def ttlcleanup(row):\n",
    "    ttlrow=[]\n",
    "    for address in row['A']:\n",
    "        try:\n",
    "            tempdata=address.split('IN A')\n",
    "            tempdata2=tempdata[0].split(' ')\n",
    "            ttlrow.append(tempdata2[1])\n",
    "        except IndexError:\n",
    "            pass\n",
    "    return ttlrow\n",
    "\n",
    "def ipcleanup(row):\n",
    "    iprow=[]\n",
    "    for address in row['A']:\n",
    "        try:\n",
    "            tempstring=address.split('IN A')\n",
    "            iprow.append(tempstring[1].strip())\n",
    "        except IndexError:  \n",
    "            pass\n",
    "    return iprow\n",
    "\n",
    "def binarizer(cell):\n",
    "    if cell[0]==\"No Answer\" or cell[0]==\"Timeout\":\n",
    "        return 0\n",
    "    else:\n",
    "        return 1\n",
    "\n",
    "goodcomplete=pd.read_parquet('/stuff/parsed data/gooddnsdata')\n",
    "badcomplete=pd.read_parquet('/stuff/parsed data/baddnsdata')\n",
    "    \n",
    "bccolumn=[1]*len(goodcomplete)\n",
    "mccolumn=[0]*len(badcomplete)\n",
    "\n",
    "goodcomplete.insert(0,'Benign',bccolumn)\n",
    "badcomplete.insert(0,'Benign',mccolumn)\n",
    "##############################################################################\n",
    "goodcomplete['ttl']=goodcomplete.apply(ttlcleanup,axis=\"columns\")\n",
    "badcomplete['ttl']=badcomplete.apply(ttlcleanup,axis=\"columns\")\n",
    "\n",
    "\n",
    "goodcomplete['A']=goodcomplete.apply(ipcleanup,axis=\"columns\")\n",
    "badcomplete['A']=badcomplete.apply(ipcleanup,axis=\"columns\")\n",
    "\n",
    "\n",
    "complete = goodcomplete.append(badcomplete,ignore_index=True)\n",
    "#cut out rows with empty ip\n",
    "complete=complete[complete['A'].map(lambda x: len(x)>0)]\n",
    "\n",
    "#turn indicators into proper strings\n",
    "complete['indicator']=complete['indicator'].apply(lambda x:x[0])\n",
    "\n",
    "#reorder\n",
    "complete=complete[['indicator','Benign','ttl', 'A', 'AAAA', 'CAA', 'CNAME', 'DNAME', 'LOC', 'MX','RP', 'SIG', 'SSHFP' ]]\n",
    "\n",
    "#why not\n",
    "reduced=complete.copy(deep=True)\n",
    "\n",
    "#choose only first ip when multiple are returned, turn list into string\n",
    "reduced['A']=reduced['A'].apply(lambda x: x[0])\n",
    "reduced=reduced.drop_duplicates(subset=\"A\")\n",
    "\n",
    "#expand ip column\n",
    "new=reduced['A'].str.split(\".\",expand=True)\n",
    "reduced['1st Octet']=new[0]\n",
    "reduced['2nd Octet']=new[1]\n",
    "reduced['3rd Octet']=new[2]\n",
    "reduced['4th Octet']=new[3]\n",
    "reduced=reduced.drop(['A'],axis=\"columns\")\n",
    "reduced=reduced[['indicator', 'Benign','1st Octet', '2nd Octet', '3rd Octet',\n",
    "'4th Octet' ,'AAAA', 'CAA', 'CNAME', 'DNAME', 'LOC', 'MX',\n",
    "       'RP', 'SIG', 'SSHFP']]\n",
    "reduced=shuffle(reduced)\n",
    "\n",
    "#binarize the other records\n",
    "reduced.loc[:,\"AAAA\":\"SSHFP\"]=reduced.loc[:,\"AAAA\":\"SSHFP\"].applymap(binarizer)\n",
    "\n",
    "#test train split\n",
    "traingood=reduced[reduced['Benign']==1].sample(20000)\n",
    "trainbad=reduced[reduced['Benign']==0].sample(20000)\n",
    "\n",
    "train=shuffle(traingood.append(trainbad))\n",
    "train[['1st Octet', '2nd Octet', '3rd Octet',\n",
    "       '4th Octet']]=train[['1st Octet', '2nd Octet', '3rd Octet',\n",
    "       '4th Octet']].apply(toint,axis=\"columns\")\n",
    "\n",
    "test=shuffle(reduced.loc[reduced.index.difference(train.index)].sample(14000))\n",
    "\n",
    "test[['1st Octet', '2nd Octet', '3rd Octet',\n",
    "       '4th Octet']]=test[['1st Octet', '2nd Octet', '3rd Octet',\n",
    "       '4th Octet']].apply(toint,axis=\"columns\")\n",
    "\n",
    "\n",
    "#go to one hot"
   ]
  },
  {
   "cell_type": "code",
   "execution_count": 12,
   "metadata": {},
   "outputs": [],
   "source": [
    "from sklearn.preprocessing import OneHotEncoder\n",
    "\n",
    "\n",
    "test.reset_index(inplace=True)\n",
    "\n",
    "cats=[list(range(0,256)),list(range(0,256)),list(range(0,256)),list(range(0,256)),[0,1],[0,1],[0,1],[0,1],[0,1],[0,1],[0,1],[0,1],[0,1]]\n",
    "cats2=[list(range(0,256)),list(range(0,256)),list(range(0,256)),list(range(0,256))]\n",
    "cats3=[[0,1],[0,1],[0,1],[0,1],[0,1],[0,1],[0,1],[0,1],[0,1]]\n",
    "\n",
    "#both\n",
    "encoder=OneHotEncoder(categories=cats)\n",
    "encodedtrain=encoder.fit_transform(train[[\"1st Octet\",\"2nd Octet\",\"3rd Octet\",\"4th Octet\",'AAAA', 'CAA', 'CNAME', 'DNAME', 'LOC', 'MX', 'RP', 'SIG',\n",
    "      'SSHFP']])\n",
    "encodedtest=encoder.fit_transform(test[[\"1st Octet\",\"2nd Octet\",\"3rd Octet\",\"4th Octet\",'AAAA', 'CAA', 'CNAME', 'DNAME', 'LOC', 'MX', 'RP', 'SIG',\n",
    "      'SSHFP']])\n",
    "\n",
    "#just ip data\n",
    "encoder2=OneHotEncoder(categories=cats2)\n",
    "encodedtrain2=encoder2.fit_transform(train[[\"1st Octet\",\"2nd Octet\",\"3rd Octet\",\"4th Octet\"]])\n",
    "encodedtest2=encoder2.fit_transform(test[[\"1st Octet\",\"2nd Octet\",\"3rd Octet\",\"4th Octet\"]])\n",
    "\n",
    "                                           \n",
    "#just binary record data\n",
    "encoder3=OneHotEncoder(categories=cats3)\n",
    "encodedtrain3=encoder3.fit_transform(train[['AAAA', 'CAA', 'CNAME', 'DNAME', 'LOC', 'MX', 'RP', 'SIG',\n",
    "      'SSHFP']])\n",
    "encodedtest3=encoder3.fit_transform(test[['AAAA', 'CAA', 'CNAME', 'DNAME', 'LOC', 'MX', 'RP', 'SIG',\n",
    "      'SSHFP']])\n"
   ]
  },
  {
   "cell_type": "markdown",
   "metadata": {},
   "source": [
    "# Logistic Regression"
   ]
  },
  {
   "cell_type": "code",
   "execution_count": 13,
   "metadata": {},
   "outputs": [
    {
     "name": "stderr",
     "output_type": "stream",
     "text": [
      "/home/ubuntu/anaconda3/lib/python3.7/site-packages/sklearn/linear_model/logistic.py:433: FutureWarning: Default solver will be changed to 'lbfgs' in 0.22. Specify a solver to silence this warning.\n",
      "  FutureWarning)\n"
     ]
    },
    {
     "name": "stdout",
     "output_type": "stream",
     "text": [
      "ipdata and dnsdata\n",
      "              precision    recall  f1-score   support\n",
      "\n",
      "           0       0.24      0.70      0.36      1148\n",
      "           1       0.97      0.80      0.88     12852\n",
      "\n",
      "   micro avg       0.79      0.79      0.79     14000\n",
      "   macro avg       0.60      0.75      0.62     14000\n",
      "weighted avg       0.91      0.79      0.83     14000\n",
      "\n",
      "just ip data\n",
      "              precision    recall  f1-score   support\n",
      "\n",
      "           0       0.14      0.66      0.23      1148\n",
      "           1       0.95      0.63      0.76     12852\n",
      "\n",
      "   micro avg       0.64      0.64      0.64     14000\n",
      "   macro avg       0.55      0.65      0.50     14000\n",
      "weighted avg       0.89      0.64      0.72     14000\n",
      "\n",
      "just dnsdata\n",
      "              precision    recall  f1-score   support\n",
      "\n",
      "           0       0.23      0.63      0.34      1148\n",
      "           1       0.96      0.81      0.88     12852\n",
      "\n",
      "   micro avg       0.80      0.80      0.80     14000\n",
      "   macro avg       0.60      0.72      0.61     14000\n",
      "weighted avg       0.90      0.80      0.84     14000\n",
      "\n"
     ]
    }
   ],
   "source": [
    "from sklearn.metrics import roc_curve\n",
    "from sklearn.metrics import roc_auc_score\n",
    "from sklearn.linear_model import LogisticRegression\n",
    "from sklearn.metrics import classification_report\n",
    "from sklearn.metrics import confusion_matrix\n",
    "glm=LogisticRegression()\n",
    "\n",
    "model=glm.fit(encodedtrain,train['Benign'])\n",
    "ypred=model.predict(encodedtest)\n",
    "yprob=model.predict_proba(encodedtest)\n",
    "print(\"ipdata and dnsdata\")\n",
    "print(classification_report(test['Benign'],ypred))\n",
    "\n",
    "print(\"just ip data\")\n",
    "model2=glm.fit(encodedtrain2,train['Benign'])\n",
    "ypred2=model.predict(encodedtest2)\n",
    "yprob2=model.predict_proba(encodedtest2)\n",
    "print(classification_report(test['Benign'],ypred2))\n",
    "\n",
    "\n",
    "print(\"just dnsdata\")\n",
    "model3=glm.fit(encodedtrain3,train['Benign'])\n",
    "ypred3=model.predict(encodedtest3)\n",
    "yprob3=model.predict_proba(encodedtest3)\n",
    "print(classification_report(test['Benign'],ypred3))"
   ]
  },
  {
   "cell_type": "code",
   "execution_count": 19,
   "metadata": {},
   "outputs": [
    {
     "data": {
      "text/plain": [
       "1    20000\n",
       "0    20000\n",
       "Name: Benign, dtype: int64"
      ]
     },
     "execution_count": 19,
     "metadata": {},
     "output_type": "execute_result"
    }
   ],
   "source": [
    "train['Benign'].value_counts()"
   ]
  },
  {
   "cell_type": "markdown",
   "metadata": {},
   "source": [
    "# MLP "
   ]
  },
  {
   "cell_type": "code",
   "execution_count": 21,
   "metadata": {},
   "outputs": [
    {
     "name": "stdout",
     "output_type": "stream",
     "text": [
      "ipdata and dnsdata\n",
      "              precision    recall  f1-score   support\n",
      "\n",
      "           0       0.21      0.76      0.33      1148\n",
      "           1       0.97      0.75      0.84     12852\n",
      "\n",
      "   micro avg       0.75      0.75      0.75     14000\n",
      "   macro avg       0.59      0.75      0.59     14000\n",
      "weighted avg       0.91      0.75      0.80     14000\n",
      "\n",
      "just ip data\n",
      "              precision    recall  f1-score   support\n",
      "\n",
      "           0       0.16      0.69      0.26      1148\n",
      "           1       0.96      0.68      0.79     12852\n",
      "\n",
      "   micro avg       0.68      0.68      0.68     14000\n",
      "   macro avg       0.56      0.68      0.53     14000\n",
      "weighted avg       0.89      0.68      0.75     14000\n",
      "\n",
      "just dnsdata\n",
      "              precision    recall  f1-score   support\n",
      "\n",
      "           0       0.30      0.60      0.40      1148\n",
      "           1       0.96      0.87      0.92     12852\n",
      "\n",
      "   micro avg       0.85      0.85      0.85     14000\n",
      "   macro avg       0.63      0.74      0.66     14000\n",
      "weighted avg       0.91      0.85      0.87     14000\n",
      "\n"
     ]
    }
   ],
   "source": [
    "from sklearn.metrics import roc_curve\n",
    "from sklearn.metrics import roc_auc_score\n",
    "from sklearn.neural_network import MLPClassifier\n",
    "from sklearn.metrics import classification_report\n",
    "from sklearn.metrics import confusion_matrix\n",
    "\n",
    "clf=MLPClassifier(alpha=1e-10,max_iter= 200000, warm_start = False, shuffle=True)\n",
    "\n",
    "model=clf.fit(encodedtrain,train['Benign'])\n",
    "ypred=model.predict(encodedtest)\n",
    "yprob=model.predict_proba(encodedtest)\n",
    "print(\"ipdata and dnsdata\")\n",
    "print(classification_report(test['Benign'],ypred))\n",
    "\n",
    "print(\"just ip data\")\n",
    "model2=clf.fit(encodedtrain2,train['Benign'])\n",
    "ypred2=model.predict(encodedtest2)\n",
    "yprob2=model.predict_proba(encodedtest2)\n",
    "print(classification_report(test['Benign'],ypred2))\n",
    "\n",
    "\n",
    "print(\"just dnsdata\")\n",
    "model3=clf.fit(encodedtrain3,train['Benign'])\n",
    "ypred3=model.predict(encodedtest3)\n",
    "yprob3=model.predict_proba(encodedtest3)\n",
    "print(classification_report(test['Benign'],ypred3))"
   ]
  },
  {
   "cell_type": "code",
   "execution_count": 20,
   "metadata": {},
   "outputs": [
    {
     "data": {
      "image/png": "[encoded data removed]",
      "text/plain": [
       "<Figure size 432x288 with 1 Axes>"
      ]
     },
     "metadata": {
      "needs_background": "light"
     },
     "output_type": "display_data"
    }
   ],
   "source": [
    "import matplotlib.pyplot as plt\n",
    "fpr,tpr,thresholds=roc_curve(test['Benign'],yprob[:,0],pos_label=0)\n",
    "fpr2,tpr2,thresholds2=roc_curve(test['Benign'],yprob2[:,0],pos_label=0)\n",
    "fpr3,tpr3,thresholds3=roc_curve(test['Benign'],yprob3[:,0],pos_label=0)\n",
    "\n",
    "plt.plot(fpr,tpr,fpr2,tpr2,fpr3,tpr3)\n",
    "\n",
    "plt.xlabel(\"tpr\")\n",
    "plt.ylabel(\"fpr\")\n",
    "plt.legend([\"ip+dns\",\"ip\",\"dns\"])\n",
    "plt.show()\n",
    "\n"
   ]
  },
  {
   "cell_type": "markdown",
   "metadata": {},
   "source": [
    "# RANDOM FOREST"
   ]
  },
  {
   "cell_type": "code",
   "execution_count": 20,
   "metadata": {},
   "outputs": [
    {
     "name": "stdout",
     "output_type": "stream",
     "text": [
      "ipdata and dnsdata\n",
      "              precision    recall  f1-score   support\n",
      "\n",
      "           0       0.27      0.77      0.40      1148\n",
      "           1       0.98      0.81      0.89     12852\n",
      "\n",
      "   micro avg       0.81      0.81      0.81     14000\n",
      "   macro avg       0.62      0.79      0.64     14000\n",
      "weighted avg       0.92      0.81      0.85     14000\n",
      "\n",
      "just ip data\n",
      "              precision    recall  f1-score   support\n",
      "\n",
      "           0       0.18      0.74      0.28      1148\n",
      "           1       0.97      0.69      0.81     12852\n",
      "\n",
      "   micro avg       0.70      0.70      0.70     14000\n",
      "   macro avg       0.57      0.72      0.55     14000\n",
      "weighted avg       0.90      0.70      0.76     14000\n",
      "\n",
      "just dnsdata\n",
      "              precision    recall  f1-score   support\n",
      "\n",
      "           0       0.30      0.60      0.40      1148\n",
      "           1       0.96      0.87      0.92     12852\n",
      "\n",
      "   micro avg       0.85      0.85      0.85     14000\n",
      "   macro avg       0.63      0.74      0.66     14000\n",
      "weighted avg       0.91      0.85      0.87     14000\n",
      "\n"
     ]
    }
   ],
   "source": [
    "from sklearn.ensemble import RandomForestClassifier\n",
    "from sklearn.metrics import classification_report\n",
    "rfc=RandomForestClassifier(n_estimators=300)\n",
    "\n",
    "model=rfc.fit(encodedtrain,train['Benign'])\n",
    "ypred=model.predict(encodedtest)\n",
    "yprob=model.predict_proba(encodedtest)\n",
    "print(\"ipdata and dnsdata\")\n",
    "print(classification_report(test['Benign'],ypred))\n",
    "\n",
    "print(\"just ip data\")\n",
    "model2=rfc.fit(encodedtrain2,train['Benign'])\n",
    "ypred2=model.predict(encodedtest2)\n",
    "yprob2=model.predict_proba(encodedtest2)\n",
    "print(classification_report(test['Benign'],ypred2))\n",
    "\n",
    "\n",
    "print(\"just dnsdata\")\n",
    "model3=rfc.fit(encodedtrain3,train['Benign'])\n",
    "ypred3=model.predict(encodedtest3)\n",
    "yprob3=model.predict_proba(encodedtest3)\n",
    "print(classification_report(test['Benign'],ypred3))\n",
    "\n"
   ]
  },
  {
   "cell_type": "code",
   "execution_count": 22,
   "metadata": {},
   "outputs": [
    {
     "data": {
      "image/png": "[encoded data removed]",
      "text/plain": [
       "<Figure size 432x288 with 1 Axes>"
      ]
     },
     "metadata": {
      "needs_background": "light"
     },
     "output_type": "display_data"
    }
   ],
   "source": [
    "import matplotlib.pyplot as plt\n",
    "fpr,tpr,thresholds=roc_curve(test['Benign'],yprob[:,0],pos_label=0)\n",
    "fpr2,tpr2,thresholds2=roc_curve(test['Benign'],yprob2[:,0],pos_label=0)\n",
    "fpr3,tpr3,thresholds3=roc_curve(test['Benign'],yprob3[:,0],pos_label=0)\n",
    "\n",
    "plt.plot(fpr,tpr,fpr2,tpr2,fpr3,tpr3)\n",
    "\n",
    "plt.xlabel(\"tpr\")\n",
    "plt.ylabel(\"fpr\")\n",
    "plt.legend([\"ip+dns\",\"ip\",\"dns\"])\n",
    "plt.show()\n"
   ]
  },
  {
   "cell_type": "markdown",
   "metadata": {},
   "source": [
    "# QDA"
   ]
  },
  {
   "cell_type": "code",
   "execution_count": 13,
   "metadata": {},
   "outputs": [
    {
     "name": "stderr",
     "output_type": "stream",
     "text": [
      "/home/ubuntu/anaconda3/lib/python3.7/site-packages/sklearn/svm/base.py:196: FutureWarning: The default value of gamma will change from 'auto' to 'scale' in version 0.22 to account better for unscaled features. Set gamma explicitly to 'auto' or 'scale' to avoid this warning.\n",
      "  \"avoid this warning.\", FutureWarning)\n"
     ]
    },
    {
     "name": "stdout",
     "output_type": "stream",
     "text": [
      "              precision    recall  f1-score   support\n",
      "\n",
      "           0       0.29      0.61      0.40      9932\n",
      "           1       0.96      0.87      0.91    112114\n",
      "\n",
      "   micro avg       0.85      0.85      0.85    122046\n",
      "   macro avg       0.63      0.74      0.66    122046\n",
      "weighted avg       0.91      0.85      0.87    122046\n",
      "\n"
     ]
    }
   ],
   "source": [
    "from sklearn.svm import SVC\n",
    "supportvec=SVC()\n",
    "model=supportvec.fit(encodedtrain,train['Benign'])\n",
    "ypred=model.predict(encodedtest)\n",
    "print(classification_report(test['Benign'],ypred))\n"
   ]
  },
  {
   "cell_type": "markdown",
   "metadata": {},
   "source": [
    "# NEAREST NEIGHBOR"
   ]
  },
  {
   "cell_type": "code",
   "execution_count": 14,
   "metadata": {},
   "outputs": [
    {
     "name": "stdout",
     "output_type": "stream",
     "text": [
      "              precision    recall  f1-score   support\n",
      "\n",
      "           0       0.09      0.91      0.17      9932\n",
      "           1       0.97      0.23      0.37    112114\n",
      "\n",
      "   micro avg       0.28      0.28      0.28    122046\n",
      "   macro avg       0.53      0.57      0.27    122046\n",
      "weighted avg       0.90      0.28      0.35    122046\n",
      "\n"
     ]
    }
   ],
   "source": [
    "from sklearn.neighbors import KNeighborsClassifier\n",
    "\n",
    "knn=KNeighborsClassifier()\n",
    "model=knn.fit(encodedtrain,train['Benign'])\n",
    "ypred=model.predict(encodedtest)\n",
    "print(classification_report(test['Benign'],ypred))\n"
   ]
  }
 ],
 "metadata": {
  "kernelspec": {
   "display_name": "Python 3",
   "language": "python",
   "name": "python3"
  },
  "language_info": {
   "codemirror_mode": {
    "name": "ipython",
    "version": 3
   },
   "file_extension": ".py",
   "mimetype": "text/x-python",
   "name": "python",
   "nbconvert_exporter": "python",
   "pygments_lexer": "ipython3",
   "version": "3.7.3"
  }
 },
 "nbformat": 4,
 "nbformat_minor": 2
}
