{
 "cells": [
  {
   "cell_type": "markdown",
   "metadata": {},
   "source": [
    "# ip data and binary data"
   ]
  },
  {
   "cell_type": "code",
   "execution_count": 29,
   "metadata": {},
   "outputs": [],
   "source": [
    "from sklearn.utils import shuffle\n",
    "import pandas as pd\n",
    "\n",
    "def toint(row):\n",
    "    row['1st Octet']=int(row['1st Octet'])\n",
    "    row['2nd Octet']=int(row['2nd Octet'])\n",
    "    row['3rd Octet']=int(row['3rd Octet'])\n",
    "    row['4th Octet']=int(row['4th Octet'])\n",
    "    return row\n",
    "\n",
    "def ipcleanup(row):\n",
    "    iprow=[]\n",
    "    for address in row['A']:\n",
    "        try:\n",
    "            tempstring=address.split('IN A')\n",
    "            iprow.append(tempstring[1].strip())\n",
    "        except IndexError:  \n",
    "            pass\n",
    "    return iprow\n",
    "\n",
    "def binarizer(cell):\n",
    "    if cell[0]==\"No Answer\" or cell[0]==\"Timeout\":\n",
    "        return 0\n",
    "    else:\n",
    "        return 1\n",
    "\n",
    "goodcomplete=pd.read_parquet('../parsed data/gooddnsdata')\n",
    "goodcomplete=goodcomplete.sample(66000)\n",
    "badcomplete=pd.read_parquet('../parsed data/baddnsdata')\n",
    "\n",
    "goodcomplete[\"indicator\"]=goodcomplete[\"indicator\"].apply(lambda x:x[0])\n",
    "goodcomplete.insert(0,'Malicious',0)\n",
    "badcomplete.insert(0,'Malicious',1)\n",
    "\n",
    "badcomplete[\"indicator\"]=badcomplete[\"indicator\"].apply(lambda x: x[0])\n",
    "badcomplete=badcomplete.drop_duplicates(subset=\"indicator\")\n",
    "##############################################################################\n",
    "goodcomplete['A']=goodcomplete.apply(ipcleanup,axis=\"columns\")\n",
    "badcomplete['A']=badcomplete.apply(ipcleanup,axis=\"columns\")\n",
    "\n",
    "complete = goodcomplete.append(badcomplete,ignore_index=True)\n",
    "#cut out rows with empty ip\n",
    "complete=complete[complete['A'].map(lambda x: len(x)>0)]\n",
    "\n",
    "complete['A']=complete['A'].apply(lambda x:x[0])\n",
    "expand=complete['A'].str.split(\".\",-1,expand=True)\n",
    "complete[\"1st Octet\"]=expand[0]\n",
    "complete[\"2nd Octet\"]=expand[1]\n",
    "complete[\"3rd Octet\"]=expand[2]\n",
    "complete[\"4th Octet\"]=expand[3]\n",
    "\n",
    "#reorder\n",
    "complete=complete[['indicator','Malicious', '1st Octet',\"2nd Octet\",\"3rd Octet\",\"4th Octet\",'A', 'AAAA', 'CAA', 'CNAME', 'DNAME', 'LOC', 'MX','RP', 'SIG', 'SSHFP' ]]\n",
    "complete[['A', 'AAAA', 'CAA', 'CNAME', 'DNAME', 'LOC', 'MX','RP', 'SIG', 'SSHFP' ]]=complete[['A', 'AAAA', 'CAA', 'CNAME', 'DNAME', 'LOC', 'MX','RP', 'SIG', 'SSHFP' ]].applymap(binarizer)"
   ]
  },
  {
   "cell_type": "code",
   "execution_count": 33,
   "metadata": {},
   "outputs": [],
   "source": [
    "from sklearn.preprocessing import OneHotEncoder\n",
    "complete[['1st Octet',\"2nd Octet\",\"3rd Octet\",\"4th Octet\"]]=complete[['1st Octet',\"2nd Octet\",\"3rd Octet\",\"4th Octet\"]].astype(int)\n",
    "\n",
    "complete=complete.sample(frac=1)\n",
    "\n",
    "train=complete[0:80000]\n",
    "test=complete[80000:]\n",
    "\n",
    "cats=[list(range(0,256)),list(range(0,256)),list(range(0,256)),list(range(0,256)),[0,1],[0,1],[0,1],[0,1],[0,1],[0,1],[0,1],[0,1],[0,1]]\n",
    "\n",
    "encoder=OneHotEncoder(categories=cats)\n",
    "encodedtrain=encoder.fit_transform(train[[\"1st Octet\",\"2nd Octet\",\"3rd Octet\",\"4th Octet\",'AAAA', 'CAA', 'CNAME', 'DNAME', 'LOC', 'MX', 'RP', 'SIG',\n",
    "      'SSHFP']])\n",
    "encodedtest=encoder.fit_transform(test[[\"1st Octet\",\"2nd Octet\",\"3rd Octet\",\"4th Octet\",'AAAA', 'CAA', 'CNAME', 'DNAME', 'LOC', 'MX', 'RP', 'SIG',\n",
    "      'SSHFP']])\n"
   ]
  },
  {
   "cell_type": "markdown",
   "metadata": {},
   "source": [
    "# Logistic Regression"
   ]
  },
  {
   "cell_type": "code",
   "execution_count": 34,
   "metadata": {},
   "outputs": [
    {
     "name": "stderr",
     "output_type": "stream",
     "text": [
      "/home/ubuntu/anaconda3/lib/python3.7/site-packages/sklearn/linear_model/logistic.py:433: FutureWarning: Default solver will be changed to 'lbfgs' in 0.22. Specify a solver to silence this warning.\n",
      "  FutureWarning)\n"
     ]
    },
    {
     "name": "stdout",
     "output_type": "stream",
     "text": [
      "              precision    recall  f1-score   support\n",
      "\n",
      "           0       0.75      0.81      0.78     21603\n",
      "           1       0.78      0.71      0.74     20597\n",
      "\n",
      "   micro avg       0.76      0.76      0.76     42200\n",
      "   macro avg       0.76      0.76      0.76     42200\n",
      "weighted avg       0.76      0.76      0.76     42200\n",
      "\n"
     ]
    }
   ],
   "source": [
    "from sklearn.metrics import roc_curve\n",
    "from sklearn.metrics import roc_auc_score\n",
    "from sklearn.linear_model import LogisticRegression\n",
    "from sklearn.metrics import classification_report\n",
    "from sklearn.metrics import confusion_matrix\n",
    "glm=LogisticRegression()\n",
    "\n",
    "model=glm.fit(encodedtrain,train['Malicious'])\n",
    "ypred=model.predict(encodedtest)\n",
    "print(classification_report(test['Malicious'],ypred))\n"
   ]
  },
  {
   "cell_type": "markdown",
   "metadata": {},
   "source": [
    "# MLP "
   ]
  },
  {
   "cell_type": "code",
   "execution_count": 35,
   "metadata": {},
   "outputs": [
    {
     "name": "stdout",
     "output_type": "stream",
     "text": [
      "              precision    recall  f1-score   support\n",
      "\n",
      "           0       0.80      0.83      0.81     21603\n",
      "           1       0.81      0.78      0.79     20597\n",
      "\n",
      "   micro avg       0.80      0.80      0.80     42200\n",
      "   macro avg       0.80      0.80      0.80     42200\n",
      "weighted avg       0.80      0.80      0.80     42200\n",
      "\n"
     ]
    }
   ],
   "source": [
    "from sklearn.metrics import roc_curve\n",
    "from sklearn.metrics import roc_auc_score\n",
    "from sklearn.neural_network import MLPClassifier\n",
    "from sklearn.metrics import classification_report\n",
    "from sklearn.metrics import confusion_matrix\n",
    "\n",
    "clf=MLPClassifier()\n",
    "\n",
    "model=clf.fit(encodedtrain,train['Malicious'])\n",
    "ypred=model.predict(encodedtest)\n",
    "yprob=model.predict_proba(encodedtest)\n",
    "print(classification_report(test['Malicious'],ypred))\n"
   ]
  },
  {
   "cell_type": "code",
   "execution_count": null,
   "metadata": {},
   "outputs": [],
   "source": [
    "import matplotlib.pyplot as plt\n",
    "fpr,tpr,thresholds=roc_curve(test['Benign'],yprob[:,0],pos_label=0)\n",
    "\n",
    "plt.plot(fpr,tpr)\n",
    "\n",
    "plt.xlabel(\"tpr\")\n",
    "plt.ylabel(\"fpr\")\n",
    "plt.show()\n",
    "\n"
   ]
  },
  {
   "cell_type": "code",
   "execution_count": 20,
   "metadata": {},
   "outputs": [
    {
     "data": {
      "text/plain": [
       "41585"
      ]
     },
     "execution_count": 20,
     "metadata": {},
     "output_type": "execute_result"
    }
   ],
   "source": [
    "len(train[train[\"Malicious\"]==1])"
   ]
  },
  {
   "cell_type": "markdown",
   "metadata": {},
   "source": [
    "# RANDOM FOREST"
   ]
  },
  {
   "cell_type": "code",
   "execution_count": 36,
   "metadata": {},
   "outputs": [
    {
     "name": "stderr",
     "output_type": "stream",
     "text": [
      "/home/ubuntu/anaconda3/lib/python3.7/site-packages/sklearn/ensemble/forest.py:246: FutureWarning: The default value of n_estimators will change from 10 in version 0.20 to 100 in 0.22.\n",
      "  \"10 in version 0.20 to 100 in 0.22.\", FutureWarning)\n"
     ]
    },
    {
     "name": "stdout",
     "output_type": "stream",
     "text": [
      "              precision    recall  f1-score   support\n",
      "\n",
      "           0       0.80      0.88      0.84     21603\n",
      "           1       0.86      0.77      0.81     20597\n",
      "\n",
      "   micro avg       0.82      0.82      0.82     42200\n",
      "   macro avg       0.83      0.82      0.82     42200\n",
      "weighted avg       0.83      0.82      0.82     42200\n",
      "\n"
     ]
    }
   ],
   "source": [
    "from sklearn.ensemble import RandomForestClassifier\n",
    "from sklearn.metrics import classification_report\n",
    "rfc=RandomForestClassifier()\n",
    "model=rfc.fit(encodedtrain,train['Malicious'])\n",
    "ypred=model.predict(encodedtest)\n",
    "print(classification_report(test['Malicious'],ypred))\n"
   ]
  },
  {
   "cell_type": "markdown",
   "metadata": {},
   "source": [
    "# QDA"
   ]
  },
  {
   "cell_type": "code",
   "execution_count": null,
   "metadata": {},
   "outputs": [],
   "source": [
    "from sklearn.svm import SVC\n",
    "supportvec=SVC()\n",
    "model=supportvec.fit(encodedtrain,train['Benign'])\n",
    "ypred=model.predict(encodedtest)\n",
    "print(classification_report(test['Benign'],ypred))\n"
   ]
  },
  {
   "cell_type": "markdown",
   "metadata": {},
   "source": [
    "# NEAREST NEIGHBOR"
   ]
  },
  {
   "cell_type": "code",
   "execution_count": null,
   "metadata": {},
   "outputs": [],
   "source": [
    "from sklearn.neighbors import KNeighborsClassifier\n",
    "\n",
    "knn=KNeighborsClassifier()\n",
    "model=knn.fit(encodedtrain,train['Benign'])\n",
    "ypred=model.predict(encodedtest)\n",
    "print(classification_report(test['Benign'],ypred))\n"
   ]
  }
 ],
 "metadata": {
  "kernelspec": {
   "display_name": "Python 3",
   "language": "python",
   "name": "python3"
  },
  "language_info": {
   "codemirror_mode": {
    "name": "ipython",
    "version": 3
   },
   "file_extension": ".py",
   "mimetype": "text/x-python",
   "name": "python",
   "nbconvert_exporter": "python",
   "pygments_lexer": "ipython3",
   "version": "3.7.3"
  }
 },
 "nbformat": 4,
 "nbformat_minor": 2
}
