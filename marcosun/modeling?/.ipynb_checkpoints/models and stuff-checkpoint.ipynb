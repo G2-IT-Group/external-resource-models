{
 "cells": [
  {
   "cell_type": "markdown",
   "metadata": {},
   "source": [
    "# ip data and binary data"
   ]
  },
  {
   "cell_type": "code",
   "execution_count": 1,
   "metadata": {},
   "outputs": [],
   "source": [
    "from sklearn.utils import shuffle\n",
    "import pandas as pd\n",
    "\n",
    "def toint(row):\n",
    "    row['1st Octet']=int(row['1st Octet'])\n",
    "    row['2nd Octet']=int(row['2nd Octet'])\n",
    "    row['3rd Octet']=int(row['3rd Octet'])\n",
    "    row['4th Octet']=int(row['4th Octet'])\n",
    "    return row\n",
    "\n",
    "def ipcleanup(row):\n",
    "    iprow=[]\n",
    "    for address in row['A']:\n",
    "        try:\n",
    "            tempstring=address.split('IN A')\n",
    "            iprow.append(tempstring[1].strip())\n",
    "        except IndexError:  \n",
    "            pass\n",
    "    return iprow\n",
    "\n",
    "def binarizer(cell):\n",
    "    if cell[0]==\"No Answer\" or cell[0]==\"Timeout\":\n",
    "        return 0\n",
    "    else:\n",
    "        return 1\n",
    "\n",
    "goodcomplete=pd.read_parquet('../parsed data/gooddnsdata')\n",
    "goodcomplete=goodcomplete.sample(66000)\n",
    "badcomplete=pd.read_parquet('../parsed data/baddnsdata')\n",
    "\n",
    "goodcomplete[\"indicator\"]=goodcomplete[\"indicator\"].apply(lambda x:x[0])\n",
    "goodcomplete.insert(0,'Malicious',0)\n",
    "badcomplete.insert(0,'Malicious',1)\n",
    "\n",
    "badcomplete[\"indicator\"]=badcomplete[\"indicator\"].apply(lambda x: x[0])\n",
    "badcomplete=badcomplete.drop_duplicates(subset=\"indicator\")\n",
    "##############################################################################\n",
    "goodcomplete['A']=goodcomplete.apply(ipcleanup,axis=\"columns\")\n",
    "badcomplete['A']=badcomplete.apply(ipcleanup,axis=\"columns\")\n",
    "\n",
    "complete = goodcomplete.append(badcomplete,ignore_index=True)\n",
    "#cut out rows with empty ip\n",
    "complete=complete[complete['A'].map(lambda x: len(x)>0)]\n",
    "complete.reset_index(inplace=True)\n",
    "\n",
    "complete['A']=complete['A'].apply(lambda x:x[0])\n",
    "expand=complete['A'].str.split(\".\",-1,expand=True)\n",
    "complete[\"1st Octet\"]=expand[0]\n",
    "complete[\"2nd Octet\"]=expand[1]\n",
    "complete[\"3rd Octet\"]=expand[2]\n",
    "complete[\"4th Octet\"]=expand[3]\n",
    "\n",
    "#reorder\n",
    "complete=complete[['indicator','Malicious', '1st Octet',\"2nd Octet\",\"3rd Octet\",\"4th Octet\",'A', 'AAAA', 'CAA', 'CNAME', 'DNAME', 'LOC', 'MX','RP', 'SIG', 'SSHFP' ]]\n",
    "complete[['A', 'AAAA', 'CAA', 'CNAME', 'DNAME', 'LOC', 'MX','RP', 'SIG', 'SSHFP' ]]=complete[['A', 'AAAA', 'CAA', 'CNAME', 'DNAME', 'LOC', 'MX','RP', 'SIG', 'SSHFP' ]].applymap(binarizer)"
   ]
  },
  {
   "cell_type": "code",
   "execution_count": 2,
   "metadata": {},
   "outputs": [],
   "source": [
    "from sklearn.preprocessing import OneHotEncoder\n",
    "complete[['1st Octet',\"2nd Octet\",\"3rd Octet\",\"4th Octet\"]]=complete[['1st Octet',\"2nd Octet\",\"3rd Octet\",\"4th Octet\"]].astype(int)\n",
    "\n",
    "\n",
    "good=complete[:62763]\n",
    "bad=complete[62763:]\n",
    "\n",
    "earlybad=bad.head(40000)\n",
    "latebad=bad.tail(19000)\n",
    "\n",
    "train=good.head(40000).append(earlybad).sample(frac=1)\n",
    "test=good.tail(19000).append(latebad).sample(frac=1)\n",
    "\n",
    "cats=[list(range(0,256)),list(range(0,256)),list(range(0,256)),list(range(0,256)),[0,1],[0,1],[0,1],[0,1],[0,1],[0,1],[0,1],[0,1],[0,1]]\n",
    "\n",
    "encoder=OneHotEncoder(categories=cats)\n",
    "encodedtrain=encoder.fit_transform(train[[\"1st Octet\",\"2nd Octet\",\"3rd Octet\",\"4th Octet\",'AAAA', 'CAA', 'CNAME', 'DNAME', 'LOC', 'MX', 'RP', 'SIG',\n",
    "      'SSHFP']])\n",
    "encodedtest=encoder.fit_transform(test[[\"1st Octet\",\"2nd Octet\",\"3rd Octet\",\"4th Octet\",'AAAA', 'CAA', 'CNAME', 'DNAME', 'LOC', 'MX', 'RP', 'SIG',\n",
    "      'SSHFP']])\n"
   ]
  },
  {
   "cell_type": "markdown",
   "metadata": {},
   "source": [
    "# Logistic Regression"
   ]
  },
  {
   "cell_type": "code",
   "execution_count": 3,
   "metadata": {},
   "outputs": [
    {
     "name": "stderr",
     "output_type": "stream",
     "text": [
      "/home/ubuntu/anaconda3/lib/python3.7/site-packages/sklearn/linear_model/logistic.py:433: FutureWarning: Default solver will be changed to 'lbfgs' in 0.22. Specify a solver to silence this warning.\n",
      "  FutureWarning)\n"
     ]
    },
    {
     "name": "stdout",
     "output_type": "stream",
     "text": [
      "              precision    recall  f1-score   support\n",
      "\n",
      "           0       0.67      0.80      0.73     19000\n",
      "           1       0.75      0.60      0.67     19000\n",
      "\n",
      "   micro avg       0.70      0.70      0.70     38000\n",
      "   macro avg       0.71      0.70      0.70     38000\n",
      "weighted avg       0.71      0.70      0.70     38000\n",
      "\n"
     ]
    }
   ],
   "source": [
    "from sklearn.metrics import roc_curve\n",
    "from sklearn.metrics import roc_auc_score\n",
    "from sklearn.linear_model import LogisticRegression\n",
    "from sklearn.metrics import classification_report\n",
    "from sklearn.metrics import confusion_matrix\n",
    "glm=LogisticRegression()\n",
    "\n",
    "model=glm.fit(encodedtrain,train['Malicious'])\n",
    "ypred=model.predict(encodedtest)\n",
    "print(classification_report(test['Malicious'],ypred))\n"
   ]
  },
  {
   "cell_type": "markdown",
   "metadata": {},
   "source": [
    "# MLP "
   ]
  },
  {
   "cell_type": "code",
   "execution_count": 4,
   "metadata": {},
   "outputs": [
    {
     "name": "stdout",
     "output_type": "stream",
     "text": [
      "              precision    recall  f1-score   support\n",
      "\n",
      "           0       0.73      0.81      0.77     19000\n",
      "           1       0.79      0.70      0.74     19000\n",
      "\n",
      "   micro avg       0.75      0.75      0.75     38000\n",
      "   macro avg       0.76      0.75      0.75     38000\n",
      "weighted avg       0.76      0.75      0.75     38000\n",
      "\n"
     ]
    }
   ],
   "source": [
    "from sklearn.metrics import roc_curve\n",
    "from sklearn.metrics import roc_auc_score\n",
    "from sklearn.neural_network import MLPClassifier\n",
    "from sklearn.metrics import classification_report\n",
    "from sklearn.metrics import confusion_matrix\n",
    "\n",
    "clf=MLPClassifier()\n",
    "\n",
    "model=clf.fit(encodedtrain,train['Malicious'])\n",
    "ypred=model.predict(encodedtest)\n",
    "yprob=model.predict_proba(encodedtest)\n",
    "print(classification_report(test['Malicious'],ypred))\n"
   ]
  },
  {
   "cell_type": "code",
   "execution_count": 35,
   "metadata": {},
   "outputs": [
    {
     "name": "stderr",
     "output_type": "stream",
     "text": [
      "/home/ubuntu/anaconda3/lib/python3.7/site-packages/altair/vegalite/v3/api.py:97: UserWarning: data of type <class 'pandas.core.series.Series'> not recognized\n",
      "  warnings.warn(\"data of type {} not recognized\".format(type(data)))\n"
     ]
    },
    {
     "ename": "TypeError",
     "evalue": "sequence item 1: expected str instance, int found",
     "output_type": "error",
     "traceback": [
      "\u001b[0;31m---------------------------------------------------------------------------\u001b[0m",
      "\u001b[0;31mSchemaValidationError\u001b[0m                     Traceback (most recent call last)",
      "\u001b[0;32m~/anaconda3/lib/python3.7/site-packages/altair/vegalite/v3/api.py\u001b[0m in \u001b[0;36m_repr_mimebundle_\u001b[0;34m(self, include, exclude)\u001b[0m\n\u001b[1;32m   1297\u001b[0m         \u001b[0;32mtry\u001b[0m\u001b[0;34m:\u001b[0m\u001b[0;34m\u001b[0m\u001b[0;34m\u001b[0m\u001b[0m\n\u001b[0;32m-> 1298\u001b[0;31m             \u001b[0mdct\u001b[0m \u001b[0;34m=\u001b[0m \u001b[0mself\u001b[0m\u001b[0;34m.\u001b[0m\u001b[0mto_dict\u001b[0m\u001b[0;34m(\u001b[0m\u001b[0;34m)\u001b[0m\u001b[0;34m\u001b[0m\u001b[0;34m\u001b[0m\u001b[0m\n\u001b[0m\u001b[1;32m   1299\u001b[0m         \u001b[0;32mexcept\u001b[0m \u001b[0mException\u001b[0m\u001b[0;34m:\u001b[0m\u001b[0;34m\u001b[0m\u001b[0;34m\u001b[0m\u001b[0m\n",
      "\u001b[0;32m~/anaconda3/lib/python3.7/site-packages/altair/vegalite/v3/api.py\u001b[0m in \u001b[0;36mto_dict\u001b[0;34m(self, *args, **kwargs)\u001b[0m\n\u001b[1;32m    377\u001b[0m             \u001b[0mkwargs\u001b[0m\u001b[0;34m[\u001b[0m\u001b[0;34m'validate'\u001b[0m\u001b[0;34m]\u001b[0m \u001b[0;34m=\u001b[0m \u001b[0;34m'deep'\u001b[0m\u001b[0;34m\u001b[0m\u001b[0;34m\u001b[0m\u001b[0m\n\u001b[0;32m--> 378\u001b[0;31m             \u001b[0mdct\u001b[0m \u001b[0;34m=\u001b[0m \u001b[0msuper\u001b[0m\u001b[0;34m(\u001b[0m\u001b[0mTopLevelMixin\u001b[0m\u001b[0;34m,\u001b[0m \u001b[0mcopy\u001b[0m\u001b[0;34m)\u001b[0m\u001b[0;34m.\u001b[0m\u001b[0mto_dict\u001b[0m\u001b[0;34m(\u001b[0m\u001b[0;34m*\u001b[0m\u001b[0margs\u001b[0m\u001b[0;34m,\u001b[0m \u001b[0;34m**\u001b[0m\u001b[0mkwargs\u001b[0m\u001b[0;34m)\u001b[0m\u001b[0;34m\u001b[0m\u001b[0;34m\u001b[0m\u001b[0m\n\u001b[0m\u001b[1;32m    379\u001b[0m \u001b[0;34m\u001b[0m\u001b[0m\n",
      "\u001b[0;32m~/anaconda3/lib/python3.7/site-packages/altair/utils/schemapi.py\u001b[0m in \u001b[0;36mto_dict\u001b[0;34m(self, validate, ignore, context)\u001b[0m\n\u001b[1;32m    292\u001b[0m             \u001b[0;32mexcept\u001b[0m \u001b[0mjsonschema\u001b[0m\u001b[0;34m.\u001b[0m\u001b[0mValidationError\u001b[0m \u001b[0;32mas\u001b[0m \u001b[0merr\u001b[0m\u001b[0;34m:\u001b[0m\u001b[0;34m\u001b[0m\u001b[0;34m\u001b[0m\u001b[0m\n\u001b[0;32m--> 293\u001b[0;31m                 \u001b[0;32mraise\u001b[0m \u001b[0mSchemaValidationError\u001b[0m\u001b[0;34m(\u001b[0m\u001b[0mself\u001b[0m\u001b[0;34m,\u001b[0m \u001b[0merr\u001b[0m\u001b[0;34m)\u001b[0m\u001b[0;34m\u001b[0m\u001b[0;34m\u001b[0m\u001b[0m\n\u001b[0m\u001b[1;32m    294\u001b[0m         \u001b[0;32mreturn\u001b[0m \u001b[0mresult\u001b[0m\u001b[0;34m\u001b[0m\u001b[0;34m\u001b[0m\u001b[0m\n",
      "\u001b[0;31m<class 'str'>\u001b[0m: (<class 'TypeError'>, TypeError('sequence item 1: expected str instance, int found'))",
      "\nDuring handling of the above exception, another exception occurred:\n",
      "\u001b[0;31mTypeError\u001b[0m                                 Traceback (most recent call last)",
      "\u001b[0;32m~/anaconda3/lib/python3.7/site-packages/IPython/core/formatters.py\u001b[0m in \u001b[0;36m__call__\u001b[0;34m(self, obj, include, exclude)\u001b[0m\n\u001b[1;32m    968\u001b[0m \u001b[0;34m\u001b[0m\u001b[0m\n\u001b[1;32m    969\u001b[0m             \u001b[0;32mif\u001b[0m \u001b[0mmethod\u001b[0m \u001b[0;32mis\u001b[0m \u001b[0;32mnot\u001b[0m \u001b[0;32mNone\u001b[0m\u001b[0;34m:\u001b[0m\u001b[0;34m\u001b[0m\u001b[0;34m\u001b[0m\u001b[0m\n\u001b[0;32m--> 970\u001b[0;31m                 \u001b[0;32mreturn\u001b[0m \u001b[0mmethod\u001b[0m\u001b[0;34m(\u001b[0m\u001b[0minclude\u001b[0m\u001b[0;34m=\u001b[0m\u001b[0minclude\u001b[0m\u001b[0;34m,\u001b[0m \u001b[0mexclude\u001b[0m\u001b[0;34m=\u001b[0m\u001b[0mexclude\u001b[0m\u001b[0;34m)\u001b[0m\u001b[0;34m\u001b[0m\u001b[0;34m\u001b[0m\u001b[0m\n\u001b[0m\u001b[1;32m    971\u001b[0m             \u001b[0;32mreturn\u001b[0m \u001b[0;32mNone\u001b[0m\u001b[0;34m\u001b[0m\u001b[0;34m\u001b[0m\u001b[0m\n\u001b[1;32m    972\u001b[0m         \u001b[0;32melse\u001b[0m\u001b[0;34m:\u001b[0m\u001b[0;34m\u001b[0m\u001b[0;34m\u001b[0m\u001b[0m\n",
      "\u001b[0;32m~/anaconda3/lib/python3.7/site-packages/altair/vegalite/v3/api.py\u001b[0m in \u001b[0;36m_repr_mimebundle_\u001b[0;34m(self, include, exclude)\u001b[0m\n\u001b[1;32m   1298\u001b[0m             \u001b[0mdct\u001b[0m \u001b[0;34m=\u001b[0m \u001b[0mself\u001b[0m\u001b[0;34m.\u001b[0m\u001b[0mto_dict\u001b[0m\u001b[0;34m(\u001b[0m\u001b[0;34m)\u001b[0m\u001b[0;34m\u001b[0m\u001b[0;34m\u001b[0m\u001b[0m\n\u001b[1;32m   1299\u001b[0m         \u001b[0;32mexcept\u001b[0m \u001b[0mException\u001b[0m\u001b[0;34m:\u001b[0m\u001b[0;34m\u001b[0m\u001b[0;34m\u001b[0m\u001b[0m\n\u001b[0;32m-> 1300\u001b[0;31m             \u001b[0mutils\u001b[0m\u001b[0;34m.\u001b[0m\u001b[0mdisplay_traceback\u001b[0m\u001b[0;34m(\u001b[0m\u001b[0min_ipython\u001b[0m\u001b[0;34m=\u001b[0m\u001b[0;32mTrue\u001b[0m\u001b[0;34m)\u001b[0m\u001b[0;34m\u001b[0m\u001b[0;34m\u001b[0m\u001b[0m\n\u001b[0m\u001b[1;32m   1301\u001b[0m             \u001b[0;32mreturn\u001b[0m \u001b[0;34m{\u001b[0m\u001b[0;34m}\u001b[0m\u001b[0;34m\u001b[0m\u001b[0;34m\u001b[0m\u001b[0m\n\u001b[1;32m   1302\u001b[0m         \u001b[0;32melse\u001b[0m\u001b[0;34m:\u001b[0m\u001b[0;34m\u001b[0m\u001b[0;34m\u001b[0m\u001b[0m\n",
      "\u001b[0;32m~/anaconda3/lib/python3.7/site-packages/altair/utils/core.py\u001b[0m in \u001b[0;36mdisplay_traceback\u001b[0;34m(in_ipython)\u001b[0m\n\u001b[1;32m    404\u001b[0m \u001b[0;34m\u001b[0m\u001b[0m\n\u001b[1;32m    405\u001b[0m     \u001b[0;32mif\u001b[0m \u001b[0mip\u001b[0m \u001b[0;32mis\u001b[0m \u001b[0;32mnot\u001b[0m \u001b[0;32mNone\u001b[0m\u001b[0;34m:\u001b[0m\u001b[0;34m\u001b[0m\u001b[0;34m\u001b[0m\u001b[0m\n\u001b[0;32m--> 406\u001b[0;31m         \u001b[0mip\u001b[0m\u001b[0;34m.\u001b[0m\u001b[0mshowtraceback\u001b[0m\u001b[0;34m(\u001b[0m\u001b[0mexc_info\u001b[0m\u001b[0;34m)\u001b[0m\u001b[0;34m\u001b[0m\u001b[0;34m\u001b[0m\u001b[0m\n\u001b[0m\u001b[1;32m    407\u001b[0m     \u001b[0;32melse\u001b[0m\u001b[0;34m:\u001b[0m\u001b[0;34m\u001b[0m\u001b[0;34m\u001b[0m\u001b[0m\n\u001b[1;32m    408\u001b[0m         \u001b[0mtraceback\u001b[0m\u001b[0;34m.\u001b[0m\u001b[0mprint_exception\u001b[0m\u001b[0;34m(\u001b[0m\u001b[0;34m*\u001b[0m\u001b[0mexc_info\u001b[0m\u001b[0;34m)\u001b[0m\u001b[0;34m\u001b[0m\u001b[0;34m\u001b[0m\u001b[0m\n",
      "\u001b[0;32m~/anaconda3/lib/python3.7/site-packages/IPython/core/interactiveshell.py\u001b[0m in \u001b[0;36mshowtraceback\u001b[0;34m(self, exc_tuple, filename, tb_offset, exception_only, running_compiled_code)\u001b[0m\n\u001b[1;32m   2036\u001b[0m                                             value, tb, tb_offset=tb_offset)\n\u001b[1;32m   2037\u001b[0m \u001b[0;34m\u001b[0m\u001b[0m\n\u001b[0;32m-> 2038\u001b[0;31m                     \u001b[0mself\u001b[0m\u001b[0;34m.\u001b[0m\u001b[0m_showtraceback\u001b[0m\u001b[0;34m(\u001b[0m\u001b[0metype\u001b[0m\u001b[0;34m,\u001b[0m \u001b[0mvalue\u001b[0m\u001b[0;34m,\u001b[0m \u001b[0mstb\u001b[0m\u001b[0;34m)\u001b[0m\u001b[0;34m\u001b[0m\u001b[0;34m\u001b[0m\u001b[0m\n\u001b[0m\u001b[1;32m   2039\u001b[0m                     \u001b[0;32mif\u001b[0m \u001b[0mself\u001b[0m\u001b[0;34m.\u001b[0m\u001b[0mcall_pdb\u001b[0m\u001b[0;34m:\u001b[0m\u001b[0;34m\u001b[0m\u001b[0;34m\u001b[0m\u001b[0m\n\u001b[1;32m   2040\u001b[0m                         \u001b[0;31m# drop into debugger\u001b[0m\u001b[0;34m\u001b[0m\u001b[0;34m\u001b[0m\u001b[0;34m\u001b[0m\u001b[0m\n",
      "\u001b[0;32m~/anaconda3/lib/python3.7/site-packages/ipykernel/zmqshell.py\u001b[0m in \u001b[0;36m_showtraceback\u001b[0;34m(self, etype, evalue, stb)\u001b[0m\n\u001b[1;32m    544\u001b[0m             \u001b[0;34mu'traceback'\u001b[0m \u001b[0;34m:\u001b[0m \u001b[0mstb\u001b[0m\u001b[0;34m,\u001b[0m\u001b[0;34m\u001b[0m\u001b[0;34m\u001b[0m\u001b[0m\n\u001b[1;32m    545\u001b[0m             \u001b[0;34mu'ename'\u001b[0m \u001b[0;34m:\u001b[0m \u001b[0municode_type\u001b[0m\u001b[0;34m(\u001b[0m\u001b[0metype\u001b[0m\u001b[0;34m.\u001b[0m\u001b[0m__name__\u001b[0m\u001b[0;34m)\u001b[0m\u001b[0;34m,\u001b[0m\u001b[0;34m\u001b[0m\u001b[0;34m\u001b[0m\u001b[0m\n\u001b[0;32m--> 546\u001b[0;31m             \u001b[0;34mu'evalue'\u001b[0m \u001b[0;34m:\u001b[0m \u001b[0mpy3compat\u001b[0m\u001b[0;34m.\u001b[0m\u001b[0msafe_unicode\u001b[0m\u001b[0;34m(\u001b[0m\u001b[0mevalue\u001b[0m\u001b[0;34m)\u001b[0m\u001b[0;34m,\u001b[0m\u001b[0;34m\u001b[0m\u001b[0;34m\u001b[0m\u001b[0m\n\u001b[0m\u001b[1;32m    547\u001b[0m         }\n\u001b[1;32m    548\u001b[0m \u001b[0;34m\u001b[0m\u001b[0m\n",
      "\u001b[0;32m~/anaconda3/lib/python3.7/site-packages/ipython_genutils/py3compat.py\u001b[0m in \u001b[0;36msafe_unicode\u001b[0;34m(e)\u001b[0m\n\u001b[1;32m     63\u001b[0m     \"\"\"\n\u001b[1;32m     64\u001b[0m     \u001b[0;32mtry\u001b[0m\u001b[0;34m:\u001b[0m\u001b[0;34m\u001b[0m\u001b[0;34m\u001b[0m\u001b[0m\n\u001b[0;32m---> 65\u001b[0;31m         \u001b[0;32mreturn\u001b[0m \u001b[0municode_type\u001b[0m\u001b[0;34m(\u001b[0m\u001b[0me\u001b[0m\u001b[0;34m)\u001b[0m\u001b[0;34m\u001b[0m\u001b[0;34m\u001b[0m\u001b[0m\n\u001b[0m\u001b[1;32m     66\u001b[0m     \u001b[0;32mexcept\u001b[0m \u001b[0mUnicodeError\u001b[0m\u001b[0;34m:\u001b[0m\u001b[0;34m\u001b[0m\u001b[0;34m\u001b[0m\u001b[0m\n\u001b[1;32m     67\u001b[0m         \u001b[0;32mpass\u001b[0m\u001b[0;34m\u001b[0m\u001b[0;34m\u001b[0m\u001b[0m\n",
      "\u001b[0;32m~/anaconda3/lib/python3.7/site-packages/altair/utils/schemapi.py\u001b[0m in \u001b[0;36m__unicode__\u001b[0;34m(self)\u001b[0m\n\u001b[1;32m     82\u001b[0m         \u001b[0mschema_path\u001b[0m \u001b[0;34m=\u001b[0m \u001b[0;34m[\u001b[0m\u001b[0;34m'{}.{}'\u001b[0m\u001b[0;34m.\u001b[0m\u001b[0mformat\u001b[0m\u001b[0;34m(\u001b[0m\u001b[0mcls\u001b[0m\u001b[0;34m.\u001b[0m\u001b[0m__module__\u001b[0m\u001b[0;34m,\u001b[0m \u001b[0mcls\u001b[0m\u001b[0;34m.\u001b[0m\u001b[0m__name__\u001b[0m\u001b[0;34m)\u001b[0m\u001b[0;34m]\u001b[0m\u001b[0;34m\u001b[0m\u001b[0;34m\u001b[0m\u001b[0m\n\u001b[1;32m     83\u001b[0m         \u001b[0mschema_path\u001b[0m\u001b[0;34m.\u001b[0m\u001b[0mextend\u001b[0m\u001b[0;34m(\u001b[0m\u001b[0mself\u001b[0m\u001b[0;34m.\u001b[0m\u001b[0mschema_path\u001b[0m\u001b[0;34m)\u001b[0m\u001b[0;34m\u001b[0m\u001b[0;34m\u001b[0m\u001b[0m\n\u001b[0;32m---> 84\u001b[0;31m         schema_path = '->'.join(val for val in schema_path[:-1]\n\u001b[0m\u001b[1;32m     85\u001b[0m                                 if val not in ('properties',\n\u001b[1;32m     86\u001b[0m                                                \u001b[0;34m'additionalProperties'\u001b[0m\u001b[0;34m,\u001b[0m\u001b[0;34m\u001b[0m\u001b[0;34m\u001b[0m\u001b[0m\n",
      "\u001b[0;31mTypeError\u001b[0m: sequence item 1: expected str instance, int found"
     ]
    },
    {
     "data": {
      "text/plain": [
       "Chart({\n",
       "  data: 1st Octet  2nd Octet\n",
       "  0          0             1\n",
       "  1          1             3\n",
       "             6             1\n",
       "             9             1\n",
       "             31            2\n",
       "             32            1\n",
       "             33            6\n",
       "             51            1\n",
       "             53            2\n",
       "             54            1\n",
       "             193           8\n",
       "             201           2\n",
       "             202           1\n",
       "             214           1\n",
       "             226           1\n",
       "             234           6\n",
       "             235           1\n",
       "             240           2\n",
       "  2          16            7\n",
       "             17            7\n",
       "             18            5\n",
       "             19            8\n",
       "             20            4\n",
       "             21            6\n",
       "             22           17\n",
       "             23            3\n",
       "             42            2\n",
       "             59            1\n",
       "             106           1\n",
       "             115           1\n",
       "                          ..\n",
       "  222        223           1\n",
       "             230           1\n",
       "             231           2\n",
       "             233           1\n",
       "             234           2\n",
       "             239           7\n",
       "             241           2\n",
       "             243           1\n",
       "             255           5\n",
       "  223        0             1\n",
       "             4             6\n",
       "             5             1\n",
       "             6             3\n",
       "             7             4\n",
       "             17            1\n",
       "             26            2\n",
       "             27            5\n",
       "             29            2\n",
       "             31            4\n",
       "             39            1\n",
       "             71            1\n",
       "             72            1\n",
       "             111           1\n",
       "             130           2\n",
       "             165           8\n",
       "             202           4\n",
       "             203           1\n",
       "             223           5\n",
       "             252           1\n",
       "  255        255           2\n",
       "  Length: 8420, dtype: int64,\n",
       "  encoding: FacetedEncoding({\n",
       "    x: X({\n",
       "      field: 'x',\n",
       "      type: 'ordinal'\n",
       "    }),\n",
       "    y: Y({\n",
       "      field: 'y',\n",
       "      type: 'ordinal'\n",
       "    })\n",
       "  }),\n",
       "  mark: 'rect'\n",
       "})"
      ]
     },
     "execution_count": 35,
     "metadata": {},
     "output_type": "execute_result"
    }
   ],
   "source": [
    "import altair as alt\n",
    "import numpy as np\n",
    "import pandas as pd\n",
    "\n",
    "xgood=good[[\"1st Octet\",\"2nd Octet\"]]\n",
    "xbad=bad[[\"1st Octet\",\"2nd Octet\"]]\n",
    "alt.data_transformers.disable_max_rows()\n",
    "alt.renderers.enable('notebook')\n",
    "a=xgood.groupby([\"1st Octet\",\"2nd Octet\"]).size()\n",
    "\n",
    "source=pd.DataFrame({\"1st Octet\":list(range(0,256)), \n",
    "                     \"2nd Octet\":list(range(0,256)),\n",
    "                     \"Counts\": })\n",
    "alt.Chart(source).mark_rect().encode(\n",
    "    x='x:O',\n",
    "    y='y:O',\n",
    ")"
   ]
  },
  {
   "cell_type": "code",
   "execution_count": 2,
   "metadata": {},
   "outputs": [
    {
     "ename": "NameError",
     "evalue": "name 'xgood' is not defined",
     "output_type": "error",
     "traceback": [
      "\u001b[0;31m---------------------------------------------------------------------------\u001b[0m",
      "\u001b[0;31mNameError\u001b[0m                                 Traceback (most recent call last)",
      "\u001b[0;32m<ipython-input-2-6308797703d9>\u001b[0m in \u001b[0;36m<module>\u001b[0;34m\u001b[0m\n\u001b[0;32m----> 1\u001b[0;31m \u001b[0ma\u001b[0m\u001b[0;34m=\u001b[0m\u001b[0mxgood\u001b[0m\u001b[0;34m.\u001b[0m\u001b[0mgroupby\u001b[0m\u001b[0;34m(\u001b[0m\u001b[0;34m[\u001b[0m\u001b[0;34m\"1st Octet\"\u001b[0m\u001b[0;34m,\u001b[0m\u001b[0;34m\"2nd Octet\"\u001b[0m\u001b[0;34m]\u001b[0m\u001b[0;34m)\u001b[0m\u001b[0;34m.\u001b[0m\u001b[0msize\u001b[0m\u001b[0;34m(\u001b[0m\u001b[0;34m)\u001b[0m\u001b[0;34m\u001b[0m\u001b[0;34m\u001b[0m\u001b[0m\n\u001b[0m",
      "\u001b[0;31mNameError\u001b[0m: name 'xgood' is not defined"
     ]
    }
   ],
   "source": [
    "a=xgood.groupby([\"1st Octet\",\"2nd Octet\"]).size()"
   ]
  },
  {
   "cell_type": "code",
   "execution_count": 59,
   "metadata": {},
   "outputs": [
    {
     "data": {
      "text/plain": [
       "1st Octet  2nd Octet\n",
       "0          0             1\n",
       "1          1             3\n",
       "           6             1\n",
       "           9             1\n",
       "           31            2\n",
       "           32            1\n",
       "           33            6\n",
       "           51            1\n",
       "           53            2\n",
       "           54            1\n",
       "           193           8\n",
       "           201           2\n",
       "           202           1\n",
       "           214           1\n",
       "           226           1\n",
       "           234           6\n",
       "           235           1\n",
       "           240           2\n",
       "2          16            7\n",
       "           17            7\n",
       "           18            5\n",
       "           19            8\n",
       "           20            4\n",
       "           21            6\n",
       "           22           17\n",
       "           23            3\n",
       "           42            2\n",
       "           59            1\n",
       "           106           1\n",
       "           115           1\n",
       "                        ..\n",
       "222        223           1\n",
       "           230           1\n",
       "           231           2\n",
       "           233           1\n",
       "           234           2\n",
       "           239           7\n",
       "           241           2\n",
       "           243           1\n",
       "           255           5\n",
       "223        0             1\n",
       "           4             6\n",
       "           5             1\n",
       "           6             3\n",
       "           7             4\n",
       "           17            1\n",
       "           26            2\n",
       "           27            5\n",
       "           29            2\n",
       "           31            4\n",
       "           39            1\n",
       "           71            1\n",
       "           72            1\n",
       "           111           1\n",
       "           130           2\n",
       "           165           8\n",
       "           202           4\n",
       "           203           1\n",
       "           223           5\n",
       "           252           1\n",
       "255        255           2\n",
       "Length: 8420, dtype: int64"
      ]
     },
     "execution_count": 59,
     "metadata": {},
     "output_type": "execute_result"
    }
   ],
   "source": [
    "a"
   ]
  },
  {
   "cell_type": "markdown",
   "metadata": {},
   "source": [
    "# RANDOM FOREST"
   ]
  },
  {
   "cell_type": "code",
   "execution_count": 6,
   "metadata": {},
   "outputs": [
    {
     "name": "stderr",
     "output_type": "stream",
     "text": [
      "/home/ubuntu/anaconda3/lib/python3.7/site-packages/sklearn/ensemble/forest.py:246: FutureWarning: The default value of n_estimators will change from 10 in version 0.20 to 100 in 0.22.\n",
      "  \"10 in version 0.20 to 100 in 0.22.\", FutureWarning)\n"
     ]
    },
    {
     "name": "stdout",
     "output_type": "stream",
     "text": [
      "              precision    recall  f1-score   support\n",
      "\n",
      "           0       0.70      0.88      0.78     19000\n",
      "           1       0.84      0.62      0.71     19000\n",
      "\n",
      "   micro avg       0.75      0.75      0.75     38000\n",
      "   macro avg       0.77      0.75      0.75     38000\n",
      "weighted avg       0.77      0.75      0.75     38000\n",
      "\n"
     ]
    }
   ],
   "source": [
    "from sklearn.ensemble import RandomForestClassifier\n",
    "from sklearn.metrics import classification_report\n",
    "rfc=RandomForestClassifier()\n",
    "model=rfc.fit(encodedtrain,train['Malicious'])\n",
    "ypred=model.predict(encodedtest)\n",
    "print(classification_report(test['Malicious'],ypred))\n"
   ]
  },
  {
   "cell_type": "markdown",
   "metadata": {},
   "source": [
    "# QDA"
   ]
  },
  {
   "cell_type": "code",
   "execution_count": null,
   "metadata": {},
   "outputs": [],
   "source": [
    "from sklearn.svm import SVC\n",
    "supportvec=SVC()\n",
    "model=supportvec.fit(encodedtrain,train['Benign'])\n",
    "ypred=model.predict(encodedtest)\n",
    "print(classification_report(test['Benign'],ypred))\n"
   ]
  },
  {
   "cell_type": "markdown",
   "metadata": {},
   "source": [
    "# NEAREST NEIGHBOR"
   ]
  },
  {
   "cell_type": "code",
   "execution_count": null,
   "metadata": {},
   "outputs": [],
   "source": [
    "from sklearn.neighbors import KNeighborsClassifier\n",
    "\n",
    "knn=KNeighborsClassifier()\n",
    "model=knn.fit(encodedtrain,train['Benign'])\n",
    "ypred=model.predict(encodedtest)\n",
    "print(classification_report(test['Benign'],ypred))\n"
   ]
  }
 ],
 "metadata": {
  "kernelspec": {
   "display_name": "Python 3",
   "language": "python",
   "name": "python3"
  }
 },
 "nbformat": 4,
 "nbformat_minor": 2
}
