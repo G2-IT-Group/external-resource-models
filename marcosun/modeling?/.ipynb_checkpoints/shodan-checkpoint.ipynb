{
 "cells": [
  {
   "cell_type": "markdown",
   "metadata": {},
   "source": [
    "import shodan data"
   ]
  },
  {
   "cell_type": "code",
   "execution_count": 1,
   "metadata": {},
   "outputs": [],
   "source": [
    "import pandas as pd\n",
    "good=pd.read_pickle(\"../parsed data/simplifiedshodangood\")\n",
    "bad=pd.read_pickle(\"../parsed data/simplifiedshodanbad\")\n",
    "\n",
    "good.insert(0,\"malicious\",0)\n",
    "bad.insert(0,\"malicious\",1)\n",
    "combined=good.append(bad,ignore_index=True)\n",
    "bad=bad.drop_duplicates(subset=\"indicator\")\n",
    "\n",
    "#combined=combined.sample(frac=1)\n",
    "#combined=combined.drop_duplicates(\"ip_str\")\n",
    "\n"
   ]
  },
  {
   "cell_type": "code",
   "execution_count": null,
   "metadata": {},
   "outputs": [],
   "source": []
  },
  {
   "cell_type": "markdown",
   "metadata": {},
   "source": [
    "train test split. may need to change the values if the imported data is of a different size "
   ]
  },
  {
   "cell_type": "code",
   "execution_count": 2,
   "metadata": {},
   "outputs": [],
   "source": [
    "earlybad=bad.head(100000)\n",
    "latebad=bad.tail(61638)\n",
    "\n",
    "#data is collected in ascending order, so splitting by date it is just a matter of splitting the dataframe by index\n",
    "train=pd.concat([good.head(20000),earlybad.sample(20000)],ignore_index=True)\n",
    "test=pd.concat([good.tail(7000),latebad.sample(7000)],ignore_index=True)\n",
    "\n",
    "train=train.sample(frac=1)\n",
    "test=test.sample(frac=1)\n",
    "\n",
    "del earlybad,latebad\n",
    "del bad, good\n",
    "#first 40000 are training, last 14000 are testing\n",
    "temp=pd.concat([train,test])\n",
    "del train,test"
   ]
  },
  {
   "cell_type": "markdown",
   "metadata": {},
   "source": [
    "encode"
   ]
  },
  {
   "cell_type": "code",
   "execution_count": 3,
   "metadata": {},
   "outputs": [],
   "source": [
    "from sklearn.preprocessing import OneHotEncoder\n",
    "x=temp[\"country_code\"]\n",
    "z=x.values.reshape(-1,1)\n",
    "\n",
    "for i in range(len(z)):\n",
    "    if z[i][0] is None:\n",
    "        z[i][0]=\"None\"\n",
    "        \n",
    "superhot=OneHotEncoder()\n",
    "country=superhot.fit_transform(z)\n",
    "\n",
    "country=country.toarray()\n",
    "\n",
    "del x\n",
    "del z"
   ]
  },
  {
   "cell_type": "code",
   "execution_count": 23,
   "metadata": {},
   "outputs": [
    {
     "data": {
      "text/plain": [
       "(54000, 418)"
      ]
     },
     "execution_count": 23,
     "metadata": {},
     "output_type": "execute_result"
    }
   ],
   "source": [
    "encodedproducts.shape"
   ]
  },
  {
   "cell_type": "code",
   "execution_count": 4,
   "metadata": {},
   "outputs": [],
   "source": [
    "from sklearn.preprocessing import MultiLabelBinarizer\n",
    "from sklearn.model_selection import train_test_split\n",
    "import scipy \n",
    "import numpy as np\n",
    "\n",
    "productlabelizer=MultiLabelBinarizer()\n",
    "encodedproducts=productlabelizer.fit_transform(temp[\"products\"])\n",
    "\n",
    "ports=list(range(0,65536))\n",
    "\n",
    "mlb=MultiLabelBinarizer(classes=ports)\n",
    "del ports\n",
    "encodedports=mlb.fit_transform(temp['ports'])\n",
    "\n",
    "\n",
    "\n",
    "encoded=np.concatenate([encodedports,encodedproducts,country],axis=1)\n",
    "\n",
    "\n",
    "xtrain=encoded[0:40000]\n",
    "xtest=encoded[40000:]\n",
    "\n",
    "ytrain=temp[0:40000]['malicious']\n",
    "ytest=temp[40000:]['malicious']"
   ]
  },
  {
   "cell_type": "markdown",
   "metadata": {},
   "source": [
    "# Logistic regression"
   ]
  },
  {
   "cell_type": "code",
   "execution_count": 5,
   "metadata": {},
   "outputs": [
    {
     "name": "stderr",
     "output_type": "stream",
     "text": [
      "/home/ubuntu/anaconda3/lib/python3.7/site-packages/sklearn/linear_model/logistic.py:433: FutureWarning: Default solver will be changed to 'lbfgs' in 0.22. Specify a solver to silence this warning.\n",
      "  FutureWarning)\n"
     ]
    },
    {
     "name": "stdout",
     "output_type": "stream",
     "text": [
      "              precision    recall  f1-score   support\n",
      "\n",
      "           0       0.93      0.95      0.94      7000\n",
      "           1       0.95      0.93      0.94      7000\n",
      "\n",
      "   micro avg       0.94      0.94      0.94     14000\n",
      "   macro avg       0.94      0.94      0.94     14000\n",
      "weighted avg       0.94      0.94      0.94     14000\n",
      "\n"
     ]
    }
   ],
   "source": [
    "from sklearn.linear_model import LogisticRegression\n",
    "from sklearn.metrics import classification_report\n",
    "glm=LogisticRegression()\n",
    "model=glm.fit(xtrain,ytrain)\n",
    "print(classification_report(ytest,model.predict(xtest)))\n"
   ]
  },
  {
   "cell_type": "markdown",
   "metadata": {},
   "source": [
    "# Random Forest"
   ]
  },
  {
   "cell_type": "code",
   "execution_count": 6,
   "metadata": {},
   "outputs": [
    {
     "name": "stderr",
     "output_type": "stream",
     "text": [
      "/home/ubuntu/anaconda3/lib/python3.7/site-packages/sklearn/ensemble/forest.py:246: FutureWarning: The default value of n_estimators will change from 10 in version 0.20 to 100 in 0.22.\n",
      "  \"10 in version 0.20 to 100 in 0.22.\", FutureWarning)\n"
     ]
    },
    {
     "name": "stdout",
     "output_type": "stream",
     "text": [
      "              precision    recall  f1-score   support\n",
      "\n",
      "           0       0.95      0.95      0.95      7000\n",
      "           1       0.95      0.95      0.95      7000\n",
      "\n",
      "   micro avg       0.95      0.95      0.95     14000\n",
      "   macro avg       0.95      0.95      0.95     14000\n",
      "weighted avg       0.95      0.95      0.95     14000\n",
      "\n"
     ]
    }
   ],
   "source": [
    "from sklearn.ensemble import RandomForestClassifier\n",
    "from sklearn.metrics import classification_report\n",
    "rfc=RandomForestClassifier()\n",
    "model=rfc.fit(xtrain,ytrain)\n",
    "print(classification_report(ytest,model.predict(xtest)))"
   ]
  },
  {
   "cell_type": "code",
   "execution_count": 7,
   "metadata": {},
   "outputs": [],
   "source": [
    "portimport=rfc.feature_importances_\n",
    "sortedports=np.argsort(portimport[0:65536])[::-1]"
   ]
  },
  {
   "cell_type": "code",
   "execution_count": null,
   "metadata": {},
   "outputs": [],
   "source": []
  },
  {
   "cell_type": "code",
   "execution_count": 24,
   "metadata": {},
   "outputs": [
    {
     "data": {
      "text/plain": [
       "0.2947417760304814"
      ]
     },
     "execution_count": 24,
     "metadata": {},
     "output_type": "execute_result"
    }
   ],
   "source": [
    "sum(portimport[65536:(65536+418)])"
   ]
  },
  {
   "cell_type": "markdown",
   "metadata": {},
   "source": [
    "plot feature importance"
   ]
  },
  {
   "cell_type": "code",
   "execution_count": 13,
   "metadata": {
    "scrolled": false
   },
   "outputs": [
    {
     "data": {
      "image/png": "[encoded data removed]",
      "text/plain": [
       "<Figure size 720x720 with 1 Axes>"
      ]
     },
     "metadata": {
      "needs_background": "light"
     },
     "output_type": "display_data"
    }
   ],
   "source": [
    "import matplotlib.pyplot as plt\n",
    "plt.figure(figsize=(10,10))\n",
    "plt.title(\"Feature ImPORTance\")\n",
    "plt.bar(np.arange(20),portimport[sortedports[0:20]],color=\"purple\",align=\"center\")\n",
    "plt.xticks(np.arange(20),sortedports[0:20])\n",
    "plt.show()\n"
   ]
  },
  {
   "cell_type": "markdown",
   "metadata": {},
   "source": [
    "# Neural Net"
   ]
  },
  {
   "cell_type": "code",
   "execution_count": 5,
   "metadata": {},
   "outputs": [
    {
     "name": "stdout",
     "output_type": "stream",
     "text": [
      "Iteration 1, loss = 0.34031340\n",
      "Iteration 2, loss = 0.24396114\n",
      "Iteration 3, loss = 0.22481118\n",
      "Iteration 4, loss = 0.21334580\n",
      "Iteration 5, loss = 0.20519944\n",
      "Iteration 6, loss = 0.19962856\n",
      "Iteration 7, loss = 0.19467855\n",
      "Iteration 8, loss = 0.19078157\n",
      "Iteration 9, loss = 0.18729920\n",
      "Iteration 10, loss = 0.18441530\n",
      "Iteration 11, loss = 0.18113537\n",
      "Iteration 12, loss = 0.17900591\n",
      "Iteration 13, loss = 0.17660998\n",
      "Iteration 14, loss = 0.17464823\n",
      "Iteration 15, loss = 0.17261304\n",
      "Iteration 16, loss = 0.17036218\n",
      "Iteration 17, loss = 0.16920456\n",
      "Iteration 18, loss = 0.16714094\n",
      "Iteration 19, loss = 0.16640976\n",
      "Iteration 20, loss = 0.16594950\n",
      "Iteration 21, loss = 0.16382992\n",
      "Iteration 22, loss = 0.16154767\n",
      "Iteration 23, loss = 0.16058644\n",
      "Iteration 24, loss = 0.15888211\n",
      "Iteration 25, loss = 0.15799582\n",
      "Iteration 26, loss = 0.15685004\n",
      "Iteration 27, loss = 0.15557484\n",
      "Iteration 28, loss = 0.15413836\n",
      "Iteration 29, loss = 0.15387203\n",
      "Iteration 30, loss = 0.15231750\n",
      "Iteration 31, loss = 0.15131536\n",
      "Iteration 32, loss = 0.15023579\n",
      "Iteration 33, loss = 0.14901971\n",
      "Iteration 34, loss = 0.14851528\n",
      "Iteration 35, loss = 0.14761882\n",
      "Iteration 36, loss = 0.14667252\n",
      "Iteration 37, loss = 0.14540425\n",
      "Iteration 38, loss = 0.14491988\n",
      "Iteration 39, loss = 0.14403891\n",
      "Iteration 40, loss = 0.14296899\n",
      "Iteration 41, loss = 0.14256717\n",
      "Iteration 42, loss = 0.14152833\n",
      "Iteration 43, loss = 0.14073405\n",
      "Iteration 44, loss = 0.13975683\n",
      "Iteration 45, loss = 0.13892220\n"
     ]
    },
    {
     "name": "stderr",
     "output_type": "stream",
     "text": [
      "/home/ubuntu/anaconda3/lib/python3.7/site-packages/sklearn/neural_network/multilayer_perceptron.py:562: ConvergenceWarning: Stochastic Optimizer: Maximum iterations (45) reached and the optimization hasn't converged yet.\n",
      "  % self.max_iter, ConvergenceWarning)\n"
     ]
    },
    {
     "name": "stdout",
     "output_type": "stream",
     "text": [
      "              precision    recall  f1-score   support\n",
      "\n",
      "           0       0.95      0.94      0.95      7000\n",
      "           1       0.94      0.95      0.95      7000\n",
      "\n",
      "   micro avg       0.95      0.95      0.95     14000\n",
      "   macro avg       0.95      0.95      0.95     14000\n",
      "weighted avg       0.95      0.95      0.95     14000\n",
      "\n"
     ]
    }
   ],
   "source": [
    "from sklearn.neural_network import MLPClassifier\n",
    "from sklearn.metrics import classification_report\n",
    "mlp=MLPClassifier(verbose=True)\n",
    "model=mlp.fit(xtrain,ytrain)\n",
    "print(classification_report(ytest,model.predict(xtest)))"
   ]
  },
  {
   "cell_type": "code",
   "execution_count": null,
   "metadata": {},
   "outputs": [],
   "source": [
    "\n",
    "print(classification_report(ytest,model.predict(xtest)))"
   ]
  },
  {
   "cell_type": "markdown",
   "metadata": {},
   "source": [
    "# Keras Neural Net"
   ]
  },
  {
   "cell_type": "code",
   "execution_count": null,
   "metadata": {},
   "outputs": [],
   "source": [
    "from keras.models import Sequential\n",
    "from keras.layers import Dense, Activation\n",
    "model = Sequential([Dense(64,input_shape=(66095,)),Activation(\"relu\"),Dense(64),Activation(\"softmax\"),Dense(1),Activation(\"sigmoid\")])\n",
    "model.compile(optimizer=\"rmsprop\",loss=\"binary_crossentropy\",metrics=[\"accuracy\"])\n",
    "model.fit(xtrain,ytrain,epochs=5,verbose=1,validation_data=(xtest,ytest))"
   ]
  },
  {
   "cell_type": "markdown",
   "metadata": {},
   "source": [
    "# verifying results"
   ]
  },
  {
   "cell_type": "code",
   "execution_count": null,
   "metadata": {},
   "outputs": [],
   "source": [
    "pred=np.round(model.predict(xtest)).astype(int)"
   ]
  },
  {
   "cell_type": "code",
   "execution_count": null,
   "metadata": {},
   "outputs": [],
   "source": [
    "pred=pred.reshape(len(ytest))"
   ]
  },
  {
   "cell_type": "code",
   "execution_count": null,
   "metadata": {},
   "outputs": [],
   "source": [
    "test=np.equal(ytest.values,pred)"
   ]
  },
  {
   "cell_type": "code",
   "execution_count": null,
   "metadata": {},
   "outputs": [],
   "source": [
    "badzone=xtest[~np.equal(ytest.values,pred),:]\n",
    "goodzone=xtest[np.equal(ytest.values,pred),:]"
   ]
  },
  {
   "cell_type": "code",
   "execution_count": null,
   "metadata": {},
   "outputs": [],
   "source": [
    "x=mlb.inverse_transform(badzone[:,:65536])\n",
    "y=mlb.inverse_transform(goodzone[:,:65536])"
   ]
  },
  {
   "cell_type": "code",
   "execution_count": null,
   "metadata": {},
   "outputs": [],
   "source": [
    "X=pd.Series(x)\n",
    "Y=pd.Series(y)"
   ]
  },
  {
   "cell_type": "markdown",
   "metadata": {},
   "source": [
    "# printing distribution of ports"
   ]
  },
  {
   "cell_type": "code",
   "execution_count": 2,
   "metadata": {},
   "outputs": [],
   "source": [
    "badports=bad[\"ports\"].sample(35513).sum()"
   ]
  },
  {
   "cell_type": "code",
   "execution_count": 126,
   "metadata": {},
   "outputs": [],
   "source": [
    "boodports=bad[\"ports\"].sum()"
   ]
  },
  {
   "cell_type": "code",
   "execution_count": 39,
   "metadata": {},
   "outputs": [],
   "source": [
    "goodports=good[\"ports\"].sum()"
   ]
  },
  {
   "cell_type": "code",
   "execution_count": 150,
   "metadata": {},
   "outputs": [],
   "source": [
    "countsb=bad[\"ports\"].sample(35513).apply(lambda x:len(x))"
   ]
  },
  {
   "cell_type": "code",
   "execution_count": 41,
   "metadata": {},
   "outputs": [],
   "source": [
    "counts=good[\"ports\"].apply(lambda x:len(x))"
   ]
  },
  {
   "cell_type": "code",
   "execution_count": 144,
   "metadata": {},
   "outputs": [
    {
     "data": {
      "text/plain": [
       "152.45869199267747"
      ]
     },
     "execution_count": 144,
     "metadata": {},
     "output_type": "execute_result"
    }
   ],
   "source": [
    "counts.values.var()"
   ]
  },
  {
   "cell_type": "code",
   "execution_count": 152,
   "metadata": {},
   "outputs": [
    {
     "data": {
      "text/plain": [
       "6.899811336693605"
      ]
     },
     "execution_count": 152,
     "metadata": {},
     "output_type": "execute_result"
    }
   ],
   "source": [
    "counts.values.mean()"
   ]
  },
  {
   "cell_type": "code",
   "execution_count": 151,
   "metadata": {},
   "outputs": [
    {
     "data": {
      "text/plain": [
       "411.3436470689775"
      ]
     },
     "execution_count": 151,
     "metadata": {},
     "output_type": "execute_result"
    }
   ],
   "source": [
    "countsb.values.var()"
   ]
  },
  {
   "cell_type": "code",
   "execution_count": 153,
   "metadata": {},
   "outputs": [
    {
     "data": {
      "text/plain": [
       "7.940894883563765"
      ]
     },
     "execution_count": 153,
     "metadata": {},
     "output_type": "execute_result"
    }
   ],
   "source": [
    "countsb.values.mean()"
   ]
  },
  {
   "cell_type": "code",
   "execution_count": 121,
   "metadata": {},
   "outputs": [
    {
     "data": {
      "text/plain": [
       "3.0"
      ]
     },
     "execution_count": 121,
     "metadata": {},
     "output_type": "execute_result"
    }
   ],
   "source": [
    "np.median(counts.values)"
   ]
  },
  {
   "cell_type": "code",
   "execution_count": 122,
   "metadata": {},
   "outputs": [
    {
     "data": {
      "text/plain": [
       "4.0"
      ]
     },
     "execution_count": 122,
     "metadata": {},
     "output_type": "execute_result"
    }
   ],
   "source": [
    "np.median(countsb.values)"
   ]
  },
  {
   "cell_type": "code",
   "execution_count": 96,
   "metadata": {},
   "outputs": [
    {
     "data": {
      "text/plain": [
       "173.2341463414634"
      ]
     },
     "execution_count": 96,
     "metadata": {},
     "output_type": "execute_result"
    }
   ],
   "source": [
    "countsb.value_counts().values.mean()"
   ]
  },
  {
   "cell_type": "code",
   "execution_count": 170,
   "metadata": {},
   "outputs": [
    {
     "data": {
      "text/plain": [
       "<BarContainer object of 50 artists>"
      ]
     },
     "execution_count": 170,
     "metadata": {},
     "output_type": "execute_result"
    },
    {
     "data": {
      "image/png": "[encoded data removed]",
      "text/plain": [
       "<Figure size 720x720 with 1 Axes>"
      ]
     },
     "metadata": {
      "needs_background": "light"
     },
     "output_type": "display_data"
    }
   ],
   "source": [
    "import matplotlib.pyplot as plt\n",
    "plt.figure(figsize=(10,10))\n",
    "plt.bar(countsb.value_counts().sort_index().index[0:50],countsb.value_counts().sort_index().values[0:50],color=\"r\",width=1)\n",
    "plt.bar(counts.value_counts().sort_index()[0:50].index,counts.value_counts().sort_index().values[0:50],width=1)\n"
   ]
  },
  {
   "cell_type": "code",
   "execution_count": 19,
   "metadata": {},
   "outputs": [],
   "source": [
    "from collections import Counter\n",
    "gc=pd.Series(Counter(goodports))\n",
    "bc=pd.Series(Counter(badports))"
   ]
  },
  {
   "cell_type": "code",
   "execution_count": 20,
   "metadata": {},
   "outputs": [],
   "source": [
    "gc=gc.sort_values(ascending=False)\n",
    "bc=bc.sort_values(ascending=False)"
   ]
  },
  {
   "cell_type": "code",
   "execution_count": 21,
   "metadata": {},
   "outputs": [],
   "source": [
    "dc=gc-bc"
   ]
  },
  {
   "cell_type": "code",
   "execution_count": 24,
   "metadata": {},
   "outputs": [],
   "source": [
    "a=np.arange(984)\n",
    "b=dc.index.astype(str)"
   ]
  },
  {
   "cell_type": "code",
   "execution_count": 22,
   "metadata": {},
   "outputs": [],
   "source": [
    "dc=dc.sort_values(ascending=False).dropna()\n",
    "snipped=pd.concat([dc.head(10),dc.tail(10)])"
   ]
  },
  {
   "cell_type": "code",
   "execution_count": 82,
   "metadata": {},
   "outputs": [
    {
     "data": {
      "text/plain": [
       "array([ 0,  1,  2,  3,  4,  5,  6,  7,  8,  9, 10, 11, 12, 13, 14, 15, 16,\n",
       "       17, 18, 19])"
      ]
     },
     "execution_count": 82,
     "metadata": {},
     "output_type": "execute_result"
    }
   ],
   "source": [
    "np.arange(20)"
   ]
  },
  {
   "cell_type": "code",
   "execution_count": 126,
   "metadata": {},
   "outputs": [
    {
     "data": {
      "text/plain": [
       "443     15581.0\n",
       "80      13748.0\n",
       "2083     4765.0\n",
       "2087     4764.0\n",
       "2082     4694.0\n",
       "8880     4624.0\n",
       "8443     4304.0\n",
       "2086     4215.0\n",
       "2096     2726.0\n",
       "2095     2473.0\n",
       "3389    -2201.0\n",
       "123     -2245.0\n",
       "554     -2444.0\n",
       "7547    -2857.0\n",
       "2000    -3175.0\n",
       "1723    -3411.0\n",
       "23      -4139.0\n",
       "53      -4773.0\n",
       "500     -5896.0\n",
       "22      -6488.0\n",
       "dtype: float64"
      ]
     },
     "execution_count": 126,
     "metadata": {},
     "output_type": "execute_result"
    }
   ],
   "source": [
    "snipped"
   ]
  },
  {
   "cell_type": "code",
   "execution_count": 29,
   "metadata": {},
   "outputs": [
    {
     "data": {
      "image/png": "[encoded data removed]",
      "text/plain": [
       "<Figure size 720x720 with 1 Axes>"
      ]
     },
     "metadata": {
      "needs_background": "light"
     },
     "output_type": "display_data"
    }
   ],
   "source": [
    "import matplotlib.pyplot as plt\n",
    "plt.figure(figsize=(10,10))\n",
    "plt.title(\"Significant differences in open ports\")\n",
    "plt.bar(list(range(0,20)),snipped.values,align=\"center\",color=[\"C0\",\"C0\",\"C0\",\"C0\",\"C0\",\"C0\",\"C0\",\"C0\",\"C0\",\"C0\",\"r\",\"r\",\"r\",\"r\",\"r\",\"r\",\"r\",\"r\",\"r\",\"r\"])\n",
    "plt.xticks(np.arange(20),list(snipped.index.astype(str)),rotation=90)\n",
    "plt.show()"
   ]
  },
  {
   "cell_type": "code",
   "execution_count": 66,
   "metadata": {},
   "outputs": [
    {
     "data": {
      "text/plain": [
       "80       21737\n",
       "443      14689\n",
       "22       14081\n",
       "53        8823\n",
       "500       8359\n",
       "21        7463\n",
       "8080      5844\n",
       "3306      5150\n",
       "23        4323\n",
       "25        4306\n",
       "3389      4114\n",
       "110       3910\n",
       "123       3900\n",
       "143       3838\n",
       "2000      3715\n",
       "1723      3668\n",
       "587       3621\n",
       "993       3292\n",
       "995       3214\n",
       "465       3032\n",
       "7547      2954\n",
       "81        2701\n",
       "111       2688\n",
       "2082      2444\n",
       "554       2409\n",
       "2083      2385\n",
       "2086      2344\n",
       "445       2151\n",
       "2087      2113\n",
       "8443      2086\n",
       "         ...  \n",
       "38693        1\n",
       "28059        1\n",
       "63041        1\n",
       "22473        1\n",
       "20282        1\n",
       "3319         1\n",
       "43452        1\n",
       "7172         1\n",
       "614          1\n",
       "1279         1\n",
       "276          1\n",
       "53686        1\n",
       "37422        1\n",
       "32524        1\n",
       "42648        1\n",
       "16778        1\n",
       "14906        1\n",
       "31640        1\n",
       "7945         1\n",
       "60263        1\n",
       "16607        1\n",
       "1560         1\n",
       "4495         1\n",
       "60169        1\n",
       "17724        1\n",
       "33805        1\n",
       "13644        1\n",
       "62111        1\n",
       "32324        1\n",
       "22370        1\n",
       "Length: 25358, dtype: int64"
      ]
     },
     "execution_count": 66,
     "metadata": {},
     "output_type": "execute_result"
    }
   ],
   "source": [
    "bc"
   ]
  },
  {
   "cell_type": "code",
   "execution_count": 39,
   "metadata": {},
   "outputs": [],
   "source": [
    "dc=gc-bc"
   ]
  },
  {
   "cell_type": "code",
   "execution_count": 40,
   "metadata": {},
   "outputs": [],
   "source": [
    "dc=dc.dropna()"
   ]
  },
  {
   "cell_type": "code",
   "execution_count": 41,
   "metadata": {},
   "outputs": [
    {
     "data": {
      "text/plain": [
       "7          -62.0\n",
       "11          -7.0\n",
       "13         -47.0\n",
       "15         -11.0\n",
       "17         -49.0\n",
       "19         -67.0\n",
       "20          -4.0\n",
       "21       -1567.0\n",
       "22       -6471.0\n",
       "23       -4211.0\n",
       "24           0.0\n",
       "25         751.0\n",
       "26         294.0\n",
       "37         -37.0\n",
       "43         -13.0\n",
       "51           0.0\n",
       "53       -4876.0\n",
       "69         -74.0\n",
       "70          -4.0\n",
       "79          19.0\n",
       "80       13705.0\n",
       "81       -1456.0\n",
       "82        -395.0\n",
       "83         -38.0\n",
       "84          64.0\n",
       "85           1.0\n",
       "86           5.0\n",
       "87           5.0\n",
       "88        -500.0\n",
       "89          34.0\n",
       "          ...   \n",
       "51165       -1.0\n",
       "51413      -45.0\n",
       "52869     -248.0\n",
       "53380       -1.0\n",
       "53413      -51.0\n",
       "53560        2.0\n",
       "54138      -58.0\n",
       "54439        2.0\n",
       "54695        0.0\n",
       "54962        0.0\n",
       "54984      -25.0\n",
       "55443      -76.0\n",
       "55553      -87.0\n",
       "55554       -8.0\n",
       "55754        0.0\n",
       "56014        0.0\n",
       "58897        3.0\n",
       "59147       -1.0\n",
       "59282       -1.0\n",
       "59517        0.0\n",
       "60000       -6.0\n",
       "60129       22.0\n",
       "60305        0.0\n",
       "60443        0.0\n",
       "60485        2.0\n",
       "60611        0.0\n",
       "61845        0.0\n",
       "62078      -39.0\n",
       "64738      -24.0\n",
       "64951        3.0\n",
       "Length: 984, dtype: float64"
      ]
     },
     "execution_count": 41,
     "metadata": {},
     "output_type": "execute_result"
    }
   ],
   "source": [
    "dc"
   ]
  },
  {
   "cell_type": "code",
   "execution_count": null,
   "metadata": {},
   "outputs": [],
   "source": [
    "gc=gc.sort_index()\n",
    "bc=bc.sort_index()"
   ]
  },
  {
   "cell_type": "code",
   "execution_count": null,
   "metadata": {},
   "outputs": [],
   "source": [
    "gc.index.shape"
   ]
  },
  {
   "cell_type": "code",
   "execution_count": 10,
   "metadata": {},
   "outputs": [
    {
     "data": {
      "image/png": "[encoded data removed]",
      "text/plain": [
       "<Figure size 720x720 with 1 Axes>"
      ]
     },
     "metadata": {
      "needs_background": "light"
     },
     "output_type": "display_data"
    }
   ],
   "source": [
    "import matplotlib.pyplot as plt\n",
    "plt.figure(figsize=(10,10))\n",
    "plt.bar(list(range(0,10)), bc.values[0:10],color=\"r\")\n",
    "plt.xticks(list(range(0,10)),list(bc.index))\n",
    "plt.show()"
   ]
  },
  {
   "cell_type": "code",
   "execution_count": null,
   "metadata": {},
   "outputs": [],
   "source": [
    "plt.figure(figsize=(20,20))\n",
    "plt.bar(list(range(len(bc))),bc.values)\n",
    "ylim=1000\n",
    "plt.show()"
   ]
  },
  {
   "cell_type": "code",
   "execution_count": null,
   "metadata": {},
   "outputs": [],
   "source": []
  }
 ],
 "metadata": {
  "kernelspec": {
   "display_name": "Python 3",
   "language": "python",
   "name": "python3"
  },
  "language_info": {
   "codemirror_mode": {
    "name": "ipython",
    "version": 3
   },
   "file_extension": ".py",
   "mimetype": "text/x-python",
   "name": "python",
   "nbconvert_exporter": "python",
   "pygments_lexer": "ipython3",
   "version": "3.7.3"
  }
 },
 "nbformat": 4,
 "nbformat_minor": 2
}
