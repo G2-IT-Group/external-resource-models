{
 "cells": [
  {
   "cell_type": "code",
   "execution_count": 1,
   "metadata": {},
   "outputs": [],
   "source": [
    "import pandas as pd\n",
    "good=pd.read_pickle(\"/stuff/parsed data/simplifiedshodangood\")\n",
    "bad=pd.read_pickle(\"/stuff/parsed data/simplifiedshodanbad\")\n",
    "\n",
    "good.insert(0,\"malicious\",0)\n",
    "bad.insert(0,\"malicious\",1)\n",
    "combined=good.append(bad,ignore_index=True)\n",
    "bad=bad.drop_duplicates(subset=\"indicator\")\n",
    "\n",
    "#combined=combined.sample(frac=1)\n",
    "#combined=combined.drop_duplicates(\"ip_str\")\n",
    "\n"
   ]
  },
  {
   "cell_type": "code",
   "execution_count": null,
   "metadata": {},
   "outputs": [],
   "source": [
    "earlybad=bad.head(100000)\n",
    "latebad=bad.tail(61638)\n",
    "\n",
    "train=pd.concat([good.head(20000),earlybad.sample(20000)],ignore_index=True)\n",
    "test=pd.concat([good.tail(7000),latebad.sample(7000)],ignore_index=True)\n",
    "\n",
    "train=train.sample(frac=1)\n",
    "test=test.sample(frac=1)\n",
    "\n",
    "del earlybad,latebad\n",
    "del bad, good\n",
    "temp=pd.concat([train,test])\n",
    "del train,test"
   ]
  },
  {
   "cell_type": "code",
   "execution_count": null,
   "metadata": {},
   "outputs": [],
   "source": [
    "from sklearn.preprocessing import OneHotEncoder\n",
    "x=temp[\"country_code\"]\n",
    "z=x.values.reshape(-1,1)\n",
    "\n",
    "for i in range(len(z)):\n",
    "    if z[i][0] is None:\n",
    "        z[i][0]=\"None\"\n",
    "        \n",
    "superhot=OneHotEncoder()\n",
    "country=superhot.fit_transform(z)\n",
    "\n",
    "country=country.toarray()\n",
    "\n",
    "del x\n",
    "del z"
   ]
  },
  {
   "cell_type": "code",
   "execution_count": null,
   "metadata": {},
   "outputs": [],
   "source": [
    "from sklearn.preprocessing import MultiLabelBinarizer\n",
    "from sklearn.model_selection import train_test_split\n",
    "import scipy \n",
    "import numpy as np\n",
    "\n",
    "productlabelizer=MultiLabelBinarizer()\n",
    "encodedproducts=productlabelizer.fit_transform(temp[\"products\"])\n",
    "\n",
    "ports=list(range(0,65536))\n",
    "\n",
    "mlb=MultiLabelBinarizer(classes=ports)\n",
    "del ports\n",
    "encodedports=mlb.fit_transform(temp['ports'])\n",
    "\n",
    "\n",
    "\n",
    "encodedports=np.concatenate([encodedports,encodedproducts,country],axis=1)\n",
    "\n",
    "#xtrain,xtest,ytrain,ytest=train_test_split(encodedports,combined['malicious'],train_size=.6,stratify=combined['malicious'])\n",
    "\n",
    "xtrain=encodedports[0:40000]\n",
    "xtest=encodedports[40000:]\n",
    "\n",
    "ytrain=temp[0:40000]['malicious']\n",
    "ytest=temp[40000:]['malicious']"
   ]
  },
  {
   "cell_type": "code",
   "execution_count": null,
   "metadata": {},
   "outputs": [],
   "source": [
    "xtrain.shape"
   ]
  },
  {
   "cell_type": "code",
   "execution_count": null,
   "metadata": {},
   "outputs": [],
   "source": [
    "del combined\n",
    "del encodedports\n",
    "del country\n",
    "del temp\n",
    "del encodedproducts\n",
    "del i\n",
    "del scipy\n",
    "del superhot \n",
    "del np"
   ]
  },
  {
   "cell_type": "code",
   "execution_count": null,
   "metadata": {},
   "outputs": [],
   "source": [
    "%whos"
   ]
  },
  {
   "cell_type": "markdown",
   "metadata": {},
   "source": [
    "# Logistic regression"
   ]
  },
  {
   "cell_type": "code",
   "execution_count": null,
   "metadata": {},
   "outputs": [],
   "source": [
    "from sklearn.linear_model import LogisticRegression\n",
    "from sklearn.metrics import classification_report\n",
    "glm=LogisticRegression()\n",
    "model=glm.fit(xtrain,ytrain)\n",
    "print(classification_report(ytest,model.predict(xtest)))\n"
   ]
  },
  {
   "cell_type": "markdown",
   "metadata": {},
   "source": [
    "# Random Forest"
   ]
  },
  {
   "cell_type": "code",
   "execution_count": null,
   "metadata": {},
   "outputs": [],
   "source": [
    "from sklearn.ensemble import RandomForestClassifier\n",
    "from sklearn.metrics import classification_report\n",
    "rfc=RandomForestClassifier()\n",
    "model=rfc.fit(xtrain,ytrain)\n",
    "print(classification_report(ytest,model.predict(xtest)))"
   ]
  },
  {
   "cell_type": "code",
   "execution_count": null,
   "metadata": {},
   "outputs": [],
   "source": [
    "portimport=rfc.feature_importances_\n",
    "sortedports=np.argsort(portimport[0:65536])[::-1]"
   ]
  },
  {
   "cell_type": "code",
   "execution_count": null,
   "metadata": {},
   "outputs": [],
   "source": [
    "del portimport\n",
    "del sortedports"
   ]
  },
  {
   "cell_type": "code",
   "execution_count": null,
   "metadata": {
    "scrolled": false
   },
   "outputs": [],
   "source": [
    "import matplotlib.pyplot as plt\n",
    "plt.figure(figsize=(10,10))\n",
    "plt.title(\"Feature ImPORTance\")\n",
    "plt.bar(list(range(0,20)),portimport[sortedports[0:20]],color=\"r\",align=\"center\")\n",
    "plt.xticks(range(0,20),sortedports[0:20])\n",
    "plt.show()\n"
   ]
  },
  {
   "cell_type": "markdown",
   "metadata": {},
   "source": [
    "# Neural Net"
   ]
  },
  {
   "cell_type": "code",
   "execution_count": null,
   "metadata": {},
   "outputs": [],
   "source": [
    "from sklearn.neural_network import MLPClassifier\n",
    "from sklearn.metrics import classification_report\n",
    "mlp=MLPClassifier(verbose=True,max_iter=45)\n",
    "model=mlp.fit(xtrain,ytrain)\n",
    "print(classification_report(ytest,model.predict(xtest)))"
   ]
  },
  {
   "cell_type": "code",
   "execution_count": null,
   "metadata": {},
   "outputs": [],
   "source": [
    "\n",
    "print(classification_report(ytest,model.predict(xtest)))"
   ]
  },
  {
   "cell_type": "markdown",
   "metadata": {},
   "source": [
    "# Keras Neural Net"
   ]
  },
  {
   "cell_type": "code",
   "execution_count": null,
   "metadata": {},
   "outputs": [],
   "source": [
    "from keras.models import Sequential\n",
    "from keras.layers import Dense, Activation\n",
    "model = Sequential([Dense(64,input_shape=(66095,)),Activation(\"relu\"),Dense(64),Activation(\"softmax\"),Dense(1),Activation(\"sigmoid\")])\n",
    "model.compile(optimizer=\"rmsprop\",loss=\"binary_crossentropy\",metrics=[\"accuracy\"])\n",
    "model.fit(xtrain,ytrain,epochs=5,verbose=1,validation_data=(xtest,ytest))"
   ]
  },
  {
   "cell_type": "markdown",
   "metadata": {},
   "source": [
    "# verifying results"
   ]
  },
  {
   "cell_type": "code",
   "execution_count": null,
   "metadata": {},
   "outputs": [],
   "source": [
    "pred=np.round(model.predict(xtest)).astype(int)"
   ]
  },
  {
   "cell_type": "code",
   "execution_count": null,
   "metadata": {},
   "outputs": [],
   "source": [
    "pred=pred.reshape(len(ytest))"
   ]
  },
  {
   "cell_type": "code",
   "execution_count": null,
   "metadata": {},
   "outputs": [],
   "source": [
    "test=np.equal(ytest.values,pred)"
   ]
  },
  {
   "cell_type": "code",
   "execution_count": null,
   "metadata": {},
   "outputs": [],
   "source": [
    "badzone=xtest[~np.equal(ytest.values,pred),:]\n",
    "goodzone=xtest[np.equal(ytest.values,pred),:]"
   ]
  },
  {
   "cell_type": "code",
   "execution_count": null,
   "metadata": {},
   "outputs": [],
   "source": [
    "x=mlb.inverse_transform(badzone[:,:65536])\n",
    "y=mlb.inverse_transform(goodzone[:,:65536])"
   ]
  },
  {
   "cell_type": "code",
   "execution_count": null,
   "metadata": {},
   "outputs": [],
   "source": [
    "X=pd.Series(x)\n",
    "Y=pd.Series(y)"
   ]
  },
  {
   "cell_type": "markdown",
   "metadata": {},
   "source": [
    "# printing distribution of ports"
   ]
  },
  {
   "cell_type": "code",
   "execution_count": 4,
   "metadata": {},
   "outputs": [],
   "source": [
    "badports=bad[\"ports\"].sample(35513).sum()"
   ]
  },
  {
   "cell_type": "code",
   "execution_count": 3,
   "metadata": {},
   "outputs": [],
   "source": [
    "goodports=good[\"ports\"].sum()"
   ]
  },
  {
   "cell_type": "code",
   "execution_count": 11,
   "metadata": {},
   "outputs": [],
   "source": [
    "countsb=bad[\"ports\"].apply(lambda x:len(x))"
   ]
  },
  {
   "cell_type": "code",
   "execution_count": 12,
   "metadata": {},
   "outputs": [],
   "source": [
    "counts=good[\"ports\"].apply(lambda x:len(x))"
   ]
  },
  {
   "cell_type": "code",
   "execution_count": 13,
   "metadata": {},
   "outputs": [
    {
     "data": {
      "text/plain": [
       "67.16239316239316"
      ]
     },
     "execution_count": 13,
     "metadata": {},
     "output_type": "execute_result"
    }
   ],
   "source": [
    "sum(counts.value_counts().index)/len(counts.value_counts().values)"
   ]
  },
  {
   "cell_type": "code",
   "execution_count": 14,
   "metadata": {},
   "outputs": [
    {
     "data": {
      "text/plain": [
       "240.41896024464833"
      ]
     },
     "execution_count": 14,
     "metadata": {},
     "output_type": "execute_result"
    }
   ],
   "source": [
    "sum(countsb.value_counts().index)/len(countsb.value_counts().values)"
   ]
  },
  {
   "cell_type": "code",
   "execution_count": null,
   "metadata": {},
   "outputs": [],
   "source": [
    "countsb.value_counts()"
   ]
  },
  {
   "cell_type": "code",
   "execution_count": null,
   "metadata": {},
   "outputs": [],
   "source": [
    "counts.value_counts()"
   ]
  },
  {
   "cell_type": "code",
   "execution_count": 5,
   "metadata": {},
   "outputs": [],
   "source": [
    "from collections import Counter\n",
    "gc=pd.Series(Counter(goodports))\n",
    "bc=pd.Series(Counter(badports))"
   ]
  },
  {
   "cell_type": "code",
   "execution_count": 6,
   "metadata": {},
   "outputs": [],
   "source": [
    "gc=gc.sort_values(ascending=False)\n",
    "bc=bc.sort_values(ascending=False)"
   ]
  },
  {
   "cell_type": "code",
   "execution_count": null,
   "metadata": {},
   "outputs": [],
   "source": [
    "gc=gc.sort_index()\n",
    "bc=bc.sort_index()"
   ]
  },
  {
   "cell_type": "code",
   "execution_count": null,
   "metadata": {},
   "outputs": [],
   "source": [
    "gc.index.shape"
   ]
  },
  {
   "cell_type": "code",
   "execution_count": 10,
   "metadata": {},
   "outputs": [
    {
     "data": {
      "image/png": "[encoded data removed]",
      "text/plain": [
       "<Figure size 720x720 with 1 Axes>"
      ]
     },
     "metadata": {
      "needs_background": "light"
     },
     "output_type": "display_data"
    }
   ],
   "source": [
    "import matplotlib.pyplot as plt\n",
    "plt.figure(figsize=(10,10))\n",
    "plt.bar(list(range(0,10)), bc.values[0:10],color=\"r\")\n",
    "plt.xticks(list(range(0,10)),list(bc.index))\n",
    "plt.show()"
   ]
  },
  {
   "cell_type": "code",
   "execution_count": null,
   "metadata": {},
   "outputs": [],
   "source": [
    "plt.figure(figsize=(20,20))\n",
    "plt.bar(list(range(len(bc))),bc.values)\n",
    "ylim=1000\n",
    "plt.show()"
   ]
  },
  {
   "cell_type": "code",
   "execution_count": null,
   "metadata": {},
   "outputs": [],
   "source": []
  }
 ],
 "metadata": {
  "kernelspec": {
   "display_name": "Python 3",
   "language": "python",
   "name": "python3"
  },
  "language_info": {
   "codemirror_mode": {
    "name": "ipython",
    "version": 3
   },
   "file_extension": ".py",
   "mimetype": "text/x-python",
   "name": "python",
   "nbconvert_exporter": "python",
   "pygments_lexer": "ipython3",
   "version": "3.7.3"
  }
 },
 "nbformat": 4,
 "nbformat_minor": 2
}
