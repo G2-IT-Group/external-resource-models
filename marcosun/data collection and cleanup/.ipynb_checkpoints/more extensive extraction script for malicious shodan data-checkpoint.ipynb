{
 "cells": [
  {
   "cell_type": "code",
   "execution_count": 6,
   "metadata": {
    "scrolled": true
   },
   "outputs": [
    {
     "name": "stdout",
     "output_type": "stream",
     "text": [
      "2019-04-11##################################################################\n",
      "0.json$$$$$$$$$$$$$$$$$$$$$\n",
      "1.json$$$$$$$$$$$$$$$$$$$$$\n",
      "10.json$$$$$$$$$$$$$$$$$$$$$\n",
      "11.json$$$$$$$$$$$$$$$$$$$$$\n",
      "12.json$$$$$$$$$$$$$$$$$$$$$\n",
      "13.json$$$$$$$$$$$$$$$$$$$$$\n",
      "14.json$$$$$$$$$$$$$$$$$$$$$\n",
      "15.json$$$$$$$$$$$$$$$$$$$$$\n",
      "16.json$$$$$$$$$$$$$$$$$$$$$\n",
      "17.json$$$$$$$$$$$$$$$$$$$$$\n",
      "18.json$$$$$$$$$$$$$$$$$$$$$\n",
      "19.json$$$$$$$$$$$$$$$$$$$$$\n",
      "2.json$$$$$$$$$$$$$$$$$$$$$\n",
      "20.json$$$$$$$$$$$$$$$$$$$$$\n",
      "21.json$$$$$$$$$$$$$$$$$$$$$\n",
      "22.json$$$$$$$$$$$$$$$$$$$$$\n",
      "23.json$$$$$$$$$$$$$$$$$$$$$\n",
      "24.json$$$$$$$$$$$$$$$$$$$$$\n",
      "25.json$$$$$$$$$$$$$$$$$$$$$\n",
      "26.json$$$$$$$$$$$$$$$$$$$$$\n",
      "27.json$$$$$$$$$$$$$$$$$$$$$\n",
      "28.json$$$$$$$$$$$$$$$$$$$$$\n",
      "29.json$$$$$$$$$$$$$$$$$$$$$\n",
      "3.json$$$$$$$$$$$$$$$$$$$$$\n",
      "30.json$$$$$$$$$$$$$$$$$$$$$\n",
      "31.json$$$$$$$$$$$$$$$$$$$$$\n",
      "32.json$$$$$$$$$$$$$$$$$$$$$\n",
      "33.json$$$$$$$$$$$$$$$$$$$$$\n",
      "34.json$$$$$$$$$$$$$$$$$$$$$\n",
      "35.json$$$$$$$$$$$$$$$$$$$$$\n",
      "36.json$$$$$$$$$$$$$$$$$$$$$\n",
      "37.json$$$$$$$$$$$$$$$$$$$$$\n",
      "38.json$$$$$$$$$$$$$$$$$$$$$\n",
      "39.json$$$$$$$$$$$$$$$$$$$$$\n",
      "4.json$$$$$$$$$$$$$$$$$$$$$\n",
      "5.json$$$$$$$$$$$$$$$$$$$$$\n",
      "5a7e17be6e129a2cdeb7c7c8.json$$$$$$$$$$$$$$$$$$$$$\n",
      "5bbfbb74d47a1b682689ddc0.json$$$$$$$$$$$$$$$$$$$$$\n",
      "5c756a23303f4604bc859f6c.json$$$$$$$$$$$$$$$$$$$$$\n",
      "5c758830b1f31d0fe719c984.json$$$$$$$$$$$$$$$$$$$$$\n",
      "5c7599ecf747141c8d381f64.json$$$$$$$$$$$$$$$$$$$$$\n",
      "5c75c7fef2f5cb3cb5944972.json$$$$$$$$$$$$$$$$$$$$$\n",
      "5c761289d06aba6b12d6ccdd.json$$$$$$$$$$$$$$$$$$$$$\n",
      "5c76139810076f6c1a552699.json$$$$$$$$$$$$$$$$$$$$$\n",
      "5c7629ff3b45c07aafe3bec1-1.json$$$$$$$$$$$$$$$$$$$$$\n",
      "5c7629ff3b45c07aafe3bec1-2.json$$$$$$$$$$$$$$$$$$$$$\n",
      "5c7629ff3b45c07aafe3bec1-3.json$$$$$$$$$$$$$$$$$$$$$\n",
      "5c7629ff3b45c07aafe3bec1-4.json$$$$$$$$$$$$$$$$$$$$$\n",
      "5c7629ff3b45c07aafe3bec1-5.json$$$$$$$$$$$$$$$$$$$$$\n",
      "5c7629ff3b45c07aafe3bec1-6.json$$$$$$$$$$$$$$$$$$$$$\n",
      "5c7629ff3b45c07aafe3bec1-7.json$$$$$$$$$$$$$$$$$$$$$\n",
      "5c7629ff3b45c07aafe3bec1-8.json$$$$$$$$$$$$$$$$$$$$$\n",
      "5c7629ff3b45c07aafe3bec1-9.json$$$$$$$$$$$$$$$$$$$$$\n",
      "5c7629ff3b45c07aafe3bec1.json$$$$$$$$$$$$$$$$$$$$$\n"
     ]
    },
    {
     "ename": "KeyboardInterrupt",
     "evalue": "",
     "output_type": "error",
     "traceback": [
      "\u001b[0;31m---------------------------------------------------------------------------\u001b[0m",
      "\u001b[0;31mKeyboardInterrupt\u001b[0m                         Traceback (most recent call last)",
      "\u001b[0;32m<ipython-input-6-549a1b987c26>\u001b[0m in \u001b[0;36m<module>\u001b[0;34m\u001b[0m\n\u001b[1;32m     22\u001b[0m                                     \u001b[0;32mfor\u001b[0m \u001b[0mj\u001b[0m \u001b[0;32min\u001b[0m \u001b[0mi\u001b[0m\u001b[0;34m[\u001b[0m\u001b[0;34m'data'\u001b[0m\u001b[0;34m]\u001b[0m\u001b[0;34m[\u001b[0m\u001b[0;34m'data'\u001b[0m\u001b[0;34m]\u001b[0m\u001b[0;34m:\u001b[0m\u001b[0;34m\u001b[0m\u001b[0;34m\u001b[0m\u001b[0m\n\u001b[1;32m     23\u001b[0m                                         \u001b[0;32mfor\u001b[0m \u001b[0mk\u001b[0m \u001b[0;32min\u001b[0m \u001b[0mi\u001b[0m\u001b[0;34m[\u001b[0m\u001b[0;34m'data'\u001b[0m\u001b[0;34m]\u001b[0m\u001b[0;34m[\u001b[0m\u001b[0;34m'data'\u001b[0m\u001b[0;34m]\u001b[0m\u001b[0;34m[\u001b[0m\u001b[0mj\u001b[0m\u001b[0;34m]\u001b[0m\u001b[0;34m:\u001b[0m\u001b[0;34m\u001b[0m\u001b[0;34m\u001b[0m\u001b[0m\n\u001b[0;32m---> 24\u001b[0;31m                                             \u001b[0mshodanframe\u001b[0m\u001b[0;34m=\u001b[0m\u001b[0mshodanframe\u001b[0m\u001b[0;34m.\u001b[0m\u001b[0mappend\u001b[0m\u001b[0;34m(\u001b[0m\u001b[0mk\u001b[0m\u001b[0;34m,\u001b[0m\u001b[0mignore_index\u001b[0m\u001b[0;34m=\u001b[0m\u001b[0;32mTrue\u001b[0m\u001b[0;34m)\u001b[0m\u001b[0;34m\u001b[0m\u001b[0;34m\u001b[0m\u001b[0m\n\u001b[0m\u001b[1;32m     25\u001b[0m                                             \u001b[0;32mpass\u001b[0m\u001b[0;34m\u001b[0m\u001b[0;34m\u001b[0m\u001b[0m\n\u001b[1;32m     26\u001b[0m                                 \u001b[0;32mexcept\u001b[0m \u001b[0mTypeError\u001b[0m\u001b[0;34m:\u001b[0m\u001b[0;34m\u001b[0m\u001b[0;34m\u001b[0m\u001b[0m\n",
      "\u001b[0;32m~/anaconda3/lib/python3.7/site-packages/pandas/core/frame.py\u001b[0m in \u001b[0;36mappend\u001b[0;34m(self, other, ignore_index, verify_integrity, sort)\u001b[0m\n\u001b[1;32m   6690\u001b[0m         return concat(to_concat, ignore_index=ignore_index,\n\u001b[1;32m   6691\u001b[0m                       \u001b[0mverify_integrity\u001b[0m\u001b[0;34m=\u001b[0m\u001b[0mverify_integrity\u001b[0m\u001b[0;34m,\u001b[0m\u001b[0;34m\u001b[0m\u001b[0;34m\u001b[0m\u001b[0m\n\u001b[0;32m-> 6692\u001b[0;31m                       sort=sort)\n\u001b[0m\u001b[1;32m   6693\u001b[0m \u001b[0;34m\u001b[0m\u001b[0m\n\u001b[1;32m   6694\u001b[0m     def join(self, other, on=None, how='left', lsuffix='', rsuffix='',\n",
      "\u001b[0;32m~/anaconda3/lib/python3.7/site-packages/pandas/core/reshape/concat.py\u001b[0m in \u001b[0;36mconcat\u001b[0;34m(objs, axis, join, join_axes, ignore_index, keys, levels, names, verify_integrity, sort, copy)\u001b[0m\n\u001b[1;32m    227\u001b[0m                        \u001b[0mverify_integrity\u001b[0m\u001b[0;34m=\u001b[0m\u001b[0mverify_integrity\u001b[0m\u001b[0;34m,\u001b[0m\u001b[0;34m\u001b[0m\u001b[0;34m\u001b[0m\u001b[0m\n\u001b[1;32m    228\u001b[0m                        copy=copy, sort=sort)\n\u001b[0;32m--> 229\u001b[0;31m     \u001b[0;32mreturn\u001b[0m \u001b[0mop\u001b[0m\u001b[0;34m.\u001b[0m\u001b[0mget_result\u001b[0m\u001b[0;34m(\u001b[0m\u001b[0;34m)\u001b[0m\u001b[0;34m\u001b[0m\u001b[0;34m\u001b[0m\u001b[0m\n\u001b[0m\u001b[1;32m    230\u001b[0m \u001b[0;34m\u001b[0m\u001b[0m\n\u001b[1;32m    231\u001b[0m \u001b[0;34m\u001b[0m\u001b[0m\n",
      "\u001b[0;32m~/anaconda3/lib/python3.7/site-packages/pandas/core/reshape/concat.py\u001b[0m in \u001b[0;36mget_result\u001b[0;34m(self)\u001b[0m\n\u001b[1;32m    424\u001b[0m             new_data = concatenate_block_managers(\n\u001b[1;32m    425\u001b[0m                 \u001b[0mmgrs_indexers\u001b[0m\u001b[0;34m,\u001b[0m \u001b[0mself\u001b[0m\u001b[0;34m.\u001b[0m\u001b[0mnew_axes\u001b[0m\u001b[0;34m,\u001b[0m \u001b[0mconcat_axis\u001b[0m\u001b[0;34m=\u001b[0m\u001b[0mself\u001b[0m\u001b[0;34m.\u001b[0m\u001b[0maxis\u001b[0m\u001b[0;34m,\u001b[0m\u001b[0;34m\u001b[0m\u001b[0;34m\u001b[0m\u001b[0m\n\u001b[0;32m--> 426\u001b[0;31m                 copy=self.copy)\n\u001b[0m\u001b[1;32m    427\u001b[0m             \u001b[0;32mif\u001b[0m \u001b[0;32mnot\u001b[0m \u001b[0mself\u001b[0m\u001b[0;34m.\u001b[0m\u001b[0mcopy\u001b[0m\u001b[0;34m:\u001b[0m\u001b[0;34m\u001b[0m\u001b[0;34m\u001b[0m\u001b[0m\n\u001b[1;32m    428\u001b[0m                 \u001b[0mnew_data\u001b[0m\u001b[0;34m.\u001b[0m\u001b[0m_consolidate_inplace\u001b[0m\u001b[0;34m(\u001b[0m\u001b[0;34m)\u001b[0m\u001b[0;34m\u001b[0m\u001b[0;34m\u001b[0m\u001b[0m\n",
      "\u001b[0;32m~/anaconda3/lib/python3.7/site-packages/pandas/core/internals/managers.py\u001b[0m in \u001b[0;36mconcatenate_block_managers\u001b[0;34m(mgrs_indexers, axes, concat_axis, copy)\u001b[0m\n\u001b[1;32m   2059\u001b[0m         \u001b[0;32melse\u001b[0m\u001b[0;34m:\u001b[0m\u001b[0;34m\u001b[0m\u001b[0;34m\u001b[0m\u001b[0m\n\u001b[1;32m   2060\u001b[0m             b = make_block(\n\u001b[0;32m-> 2061\u001b[0;31m                 \u001b[0mconcatenate_join_units\u001b[0m\u001b[0;34m(\u001b[0m\u001b[0mjoin_units\u001b[0m\u001b[0;34m,\u001b[0m \u001b[0mconcat_axis\u001b[0m\u001b[0;34m,\u001b[0m \u001b[0mcopy\u001b[0m\u001b[0;34m=\u001b[0m\u001b[0mcopy\u001b[0m\u001b[0;34m)\u001b[0m\u001b[0;34m,\u001b[0m\u001b[0;34m\u001b[0m\u001b[0;34m\u001b[0m\u001b[0m\n\u001b[0m\u001b[1;32m   2062\u001b[0m                 placement=placement)\n\u001b[1;32m   2063\u001b[0m         \u001b[0mblocks\u001b[0m\u001b[0;34m.\u001b[0m\u001b[0mappend\u001b[0m\u001b[0;34m(\u001b[0m\u001b[0mb\u001b[0m\u001b[0;34m)\u001b[0m\u001b[0;34m\u001b[0m\u001b[0;34m\u001b[0m\u001b[0m\n",
      "\u001b[0;32m~/anaconda3/lib/python3.7/site-packages/pandas/core/internals/concat.py\u001b[0m in \u001b[0;36mconcatenate_join_units\u001b[0;34m(join_units, concat_axis, copy)\u001b[0m\n\u001b[1;32m    254\u001b[0m                 \u001b[0mconcat_values\u001b[0m \u001b[0;34m=\u001b[0m \u001b[0mconcat_values\u001b[0m\u001b[0;34m.\u001b[0m\u001b[0mcopy\u001b[0m\u001b[0;34m(\u001b[0m\u001b[0;34m)\u001b[0m\u001b[0;34m\u001b[0m\u001b[0;34m\u001b[0m\u001b[0m\n\u001b[1;32m    255\u001b[0m     \u001b[0;32melse\u001b[0m\u001b[0;34m:\u001b[0m\u001b[0;34m\u001b[0m\u001b[0;34m\u001b[0m\u001b[0m\n\u001b[0;32m--> 256\u001b[0;31m         \u001b[0mconcat_values\u001b[0m \u001b[0;34m=\u001b[0m \u001b[0m_concat\u001b[0m\u001b[0;34m.\u001b[0m\u001b[0m_concat_compat\u001b[0m\u001b[0;34m(\u001b[0m\u001b[0mto_concat\u001b[0m\u001b[0;34m,\u001b[0m \u001b[0maxis\u001b[0m\u001b[0;34m=\u001b[0m\u001b[0mconcat_axis\u001b[0m\u001b[0;34m)\u001b[0m\u001b[0;34m\u001b[0m\u001b[0;34m\u001b[0m\u001b[0m\n\u001b[0m\u001b[1;32m    257\u001b[0m \u001b[0;34m\u001b[0m\u001b[0m\n\u001b[1;32m    258\u001b[0m     \u001b[0;32mreturn\u001b[0m \u001b[0mconcat_values\u001b[0m\u001b[0;34m\u001b[0m\u001b[0;34m\u001b[0m\u001b[0m\n",
      "\u001b[0;32m~/anaconda3/lib/python3.7/site-packages/pandas/core/dtypes/concat.py\u001b[0m in \u001b[0;36m_concat_compat\u001b[0;34m(to_concat, axis)\u001b[0m\n\u001b[1;32m    168\u001b[0m                 \u001b[0mto_concat\u001b[0m \u001b[0;34m=\u001b[0m \u001b[0;34m[\u001b[0m\u001b[0mx\u001b[0m\u001b[0;34m.\u001b[0m\u001b[0mastype\u001b[0m\u001b[0;34m(\u001b[0m\u001b[0;34m'object'\u001b[0m\u001b[0;34m)\u001b[0m \u001b[0;32mfor\u001b[0m \u001b[0mx\u001b[0m \u001b[0;32min\u001b[0m \u001b[0mto_concat\u001b[0m\u001b[0;34m]\u001b[0m\u001b[0;34m\u001b[0m\u001b[0;34m\u001b[0m\u001b[0m\n\u001b[1;32m    169\u001b[0m \u001b[0;34m\u001b[0m\u001b[0m\n\u001b[0;32m--> 170\u001b[0;31m     \u001b[0;32mreturn\u001b[0m \u001b[0mnp\u001b[0m\u001b[0;34m.\u001b[0m\u001b[0mconcatenate\u001b[0m\u001b[0;34m(\u001b[0m\u001b[0mto_concat\u001b[0m\u001b[0;34m,\u001b[0m \u001b[0maxis\u001b[0m\u001b[0;34m=\u001b[0m\u001b[0maxis\u001b[0m\u001b[0;34m)\u001b[0m\u001b[0;34m\u001b[0m\u001b[0;34m\u001b[0m\u001b[0m\n\u001b[0m\u001b[1;32m    171\u001b[0m \u001b[0;34m\u001b[0m\u001b[0m\n\u001b[1;32m    172\u001b[0m \u001b[0;34m\u001b[0m\u001b[0m\n",
      "\u001b[0;31mKeyboardInterrupt\u001b[0m: "
     ]
    }
   ],
   "source": [
    "import json\n",
    "import os\n",
    "import pandas as pd\n",
    "shodanframe=pd.DataFrame()\n",
    "toplevel=\"/data/data/\"\n",
    "\n",
    "#5cac11bb75def654cb7046e9-12.json$$$$$$$$$$$$$$$$$$$$$\n",
    "\n",
    "for dates in os.listdir(toplevel)[47:]:\n",
    "    print(dates+\"##################################################################\")\n",
    "    try:\n",
    "        for data in os.listdir(toplevel+dates+\"/enrichment/shodan\"):\n",
    "            print(data+\"$$$$$$$$$$$$$$$$$$$$$\")\n",
    "            datalevel=toplevel+dates+\"/enrichment/shodan/\"+data\n",
    "            if len(data)>10:\n",
    "                with open(datalevel) as jsondata:\n",
    "                    try:\n",
    "                        testdata=json.load(jsondata)\n",
    "                        try:\n",
    "                            for i in testdata['data']:\n",
    "                                try:\n",
    "                                    for j in i['data']['data']:\n",
    "                                        for k in i['data']['data'][j]: \n",
    "                                            shodanframe=shodanframe.append(k,ignore_index=True)\n",
    "                                            pass\n",
    "                                except TypeError:\n",
    "                                    pass\n",
    "                        except TypeError:\n",
    "                            pass\n",
    "                    except ValueError:\n",
    "                        pass\n",
    "    except FileNotFoundError:\n",
    "        pass\n"
   ]
  },
  {
   "cell_type": "code",
   "execution_count": 7,
   "metadata": {},
   "outputs": [],
   "source": [
    "\n",
    "shodanframe.to_pickle(\"badshodandata2\",compression=None)"
   ]
  },
  {
   "cell_type": "code",
   "execution_count": null,
   "metadata": {},
   "outputs": [],
   "source": [
    "import json\n",
    "import os\n",
    "import pandas as pd\n",
    "\n",
    "shodanframe=pd.DataFrame()\n",
    "toplevel=\"/data/data/newNONTORbenigndata/enrichment/shodan/\"\n",
    "for data in os.listdir(toplevel):\n",
    "    print(data+\"#######################\")\n",
    "    with open(toplevel+data) as jsondata:\n",
    "        try:\n",
    "            testdata=json.load(jsondata)\n",
    "            try:\n",
    "                for i in testdata['data']:\n",
    "                    try:\n",
    "                        for j in i['data']['data']:\n",
    "                            for k in i['data']['data'][j]: \n",
    "                                shodanframe=shodanframe.append(k,ignore_index=True)\n",
    "                    except TypeError:\n",
    "                        pass\n",
    "            except TypeError:\n",
    "                pass\n",
    "        except ValueError:\n",
    "            pass"
   ]
  },
  {
   "cell_type": "code",
   "execution_count": 5,
   "metadata": {},
   "outputs": [
    {
     "data": {
      "text/plain": [
       "46"
      ]
     },
     "execution_count": 5,
     "metadata": {},
     "output_type": "execute_result"
    }
   ],
   "source": []
  }
 ],
 "metadata": {
  "kernelspec": {
   "display_name": "Python 3",
   "language": "python",
   "name": "python3"
  },
  "language_info": {
   "codemirror_mode": {
    "name": "ipython",
    "version": 3
   },
   "file_extension": ".py",
   "mimetype": "text/x-python",
   "name": "python",
   "nbconvert_exporter": "python",
   "pygments_lexer": "ipython3",
   "version": "3.7.3"
  }
 },
 "nbformat": 4,
 "nbformat_minor": 2
}
