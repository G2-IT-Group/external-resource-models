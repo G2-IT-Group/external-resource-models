{
 "cells": [
  {
   "cell_type": "code",
   "execution_count": 1,
   "metadata": {},
   "outputs": [],
   "source": [
    "import os\n",
    "import json\n",
    "import numpy as np\n",
    "import pandas as pd\n",
    "import pyarrow as pa"
   ]
  },
  {
   "cell_type": "code",
   "execution_count": 4,
   "metadata": {},
   "outputs": [],
   "source": [
    "labels = pd.read_parquet('labels.gzip')\n",
    "usage_data_df = pd.read_parquet('usage_df.gzip')\n",
    "main_df = pd.read_parquet('main_df.gzip')\n",
    "country_rank_df = pd.read_parquet('country_rank_df.gzip')\n",
    "domain_df = pd.read_parquet('owned_domain_df.gzip')\n",
    "contr_subdom_df = pd.read_parquet('contributing_subdomain_df.gzip')\n",
    "category_df = pd.read_parquet('category_df.gzip')"
   ]
  },
  {
   "cell_type": "code",
   "execution_count": 11,
   "metadata": {},
   "outputs": [],
   "source": [
    "main_df['links_in_count'] = pd.to_numeric(main_df['links_in_count'])"
   ]
  },
  {
   "cell_type": "code",
   "execution_count": 22,
   "metadata": {},
   "outputs": [
    {
     "data": {
      "text/plain": [
       "requestID                        object\n",
       "status_code                      object\n",
       "adult_content                   float64\n",
       "url_text                         object\n",
       "url_type                         object\n",
       "lang_encoding                    object\n",
       "lang_locale                      object\n",
       "links_in_count                  float64\n",
       "description                      object\n",
       "online_since             datetime64[ns]\n",
       "title                            object\n",
       "load_speed_percentile           float64\n",
       "category_path                    object\n",
       "category                         object\n",
       "rank                            float64\n",
       "alexa_rank                      float64\n",
       "indicator                        object\n",
       "success                            bool\n",
       "unsafe                          float64\n",
       "dtype: object"
      ]
     },
     "execution_count": 22,
     "metadata": {},
     "output_type": "execute_result"
    }
   ],
   "source": [
    "main_df = pd.read_parquet('main_df.gzip')\n",
    "main_df.dtypes"
   ]
  },
  {
   "cell_type": "code",
   "execution_count": 21,
   "metadata": {},
   "outputs": [
    {
     "data": {
      "text/plain": [
       "0         None\n",
       "1         None\n",
       "2         None\n",
       "3         None\n",
       "4         None\n",
       "5         None\n",
       "6         None\n",
       "7         None\n",
       "8         None\n",
       "9         None\n",
       "10        None\n",
       "11        None\n",
       "12        None\n",
       "13        None\n",
       "14        None\n",
       "15        None\n",
       "16        None\n",
       "17        None\n",
       "18        None\n",
       "19        None\n",
       "20        None\n",
       "21        None\n",
       "22        None\n",
       "23        None\n",
       "24        None\n",
       "25        None\n",
       "26        None\n",
       "27        None\n",
       "28        None\n",
       "29        None\n",
       "          ... \n",
       "299337    None\n",
       "299338    None\n",
       "299339    None\n",
       "299340    None\n",
       "299341    None\n",
       "299342    None\n",
       "299343    None\n",
       "299344    None\n",
       "299345    None\n",
       "299346    None\n",
       "299347    None\n",
       "299348    None\n",
       "299349    None\n",
       "299350    None\n",
       "299351    None\n",
       "299352    None\n",
       "299353    None\n",
       "299354    None\n",
       "299355    None\n",
       "299356    None\n",
       "299357    None\n",
       "299358    None\n",
       "299359    None\n",
       "299360    None\n",
       "299361    None\n",
       "299362    None\n",
       "299363    None\n",
       "299364    None\n",
       "299365    None\n",
       "299366    None\n",
       "Name: alexa_rank, Length: 299367, dtype: object"
      ]
     },
     "execution_count": 21,
     "metadata": {},
     "output_type": "execute_result"
    }
   ],
   "source": [
    "main_df['alexa_rank']"
   ]
  },
  {
   "cell_type": "code",
   "execution_count": null,
   "metadata": {},
   "outputs": [],
   "source": []
  }
 ],
 "metadata": {
  "kernelspec": {
   "display_name": "Python 3",
   "language": "python",
   "name": "python3"
  },
  "language_info": {
   "codemirror_mode": {
    "name": "ipython",
    "version": 3
   },
   "file_extension": ".py",
   "mimetype": "text/x-python",
   "name": "python",
   "nbconvert_exporter": "python",
   "pygments_lexer": "ipython3",
   "version": "3.6.5"
  }
 },
 "nbformat": 4,
 "nbformat_minor": 2
}
