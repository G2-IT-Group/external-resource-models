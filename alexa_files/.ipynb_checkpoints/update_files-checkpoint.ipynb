{
 "cells": [
  {
   "cell_type": "markdown",
   "metadata": {},
   "source": [
    "## Purpose\n",
    "This notebook is going to contain all the code needed to update the parquet files with new data.\n",
    "#### To Do:\n",
    "- main_df.gzip\n",
    "- labels.gzip\n",
    "- usage_df.gzip\n",
    "- owned_domain_df.gzip\n",
    "- country_rank.gzip\n",
    "- contributing_subdomain_df.gzip\n",
    "- category_df.gzip\n",
    "- lev_df.gzip"
   ]
  },
  {
   "cell_type": "code",
   "execution_count": null,
   "metadata": {},
   "outputs": [],
   "source": []
  }
 ],
 "metadata": {
  "kernelspec": {
   "display_name": "Python 3",
   "language": "python",
   "name": "python3"
  },
  "language_info": {
   "codemirror_mode": {
    "name": "ipython",
    "version": 3
   },
   "file_extension": ".py",
   "mimetype": "text/x-python",
   "name": "python",
   "nbconvert_exporter": "python",
   "pygments_lexer": "ipython3",
   "version": "3.6.5"
  }
 },
 "nbformat": 4,
 "nbformat_minor": 2
}
